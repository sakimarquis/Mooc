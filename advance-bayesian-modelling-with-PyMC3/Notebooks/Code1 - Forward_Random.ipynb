{
 "cells": [
  {
   "cell_type": "code",
   "execution_count": 1,
   "metadata": {
    "slideshow": {
     "slide_type": "slide"
    }
   },
   "outputs": [],
   "source": [
    "import scipy.stats as st\n",
    "import numpy as np\n",
    "import matplotlib.pylab as plt\n",
    "%matplotlib inline"
   ]
  },
  {
   "cell_type": "markdown",
   "metadata": {
    "slideshow": {
     "slide_type": "slide"
    }
   },
   "source": [
    "$y \\sim \\pi(\\theta)$"
   ]
  },
  {
   "cell_type": "code",
   "execution_count": 6,
   "metadata": {
    "slideshow": {
     "slide_type": "fragment"
    }
   },
   "outputs": [
    {
     "name": "stdout",
     "output_type": "stream",
     "text": [
      "[0 0 1 0 0 0 1 0 1 0 1 0 0 1]\n"
     ]
    }
   ],
   "source": [
    "p = .5\n",
    "flip_sq = st.bernoulli.rvs(p, size=5)  # first 5 flips\n",
    "while flip_sq.sum() != 5:\n",
    "    flip_sq = np.append(flip_sq, st.bernoulli.rvs(p))\n",
    "print(flip_sq)"
   ]
  },
  {
   "cell_type": "code",
   "execution_count": 8,
   "metadata": {
    "slideshow": {
     "slide_type": "slide"
    }
   },
   "outputs": [
    {
     "name": "stdout",
     "output_type": "stream",
     "text": [
      " 5 <-- [1 1 1 1 1]\n",
      " 8 <-- [0 1 0 0 1 1 1 1]\n",
      " 9 <-- [0 0 1 1 1 0 1 0 1]\n",
      "13 <-- [0 0 0 0 1 0 1 0 0 1 1 0 1]\n",
      "10 <-- [0 0 1 1 0 0 0 1 1 1]\n",
      "10 <-- [0 1 1 0 0 0 1 1 0 1]\n",
      " 7 <-- [1 1 1 0 1 0 1]\n",
      "11 <-- [1 0 0 0 0 1 0 0 1 1 1]\n",
      " 9 <-- [0 0 0 1 1 1 1 0 1]\n",
      "11 <-- [0 0 0 0 1 0 1 1 1 0 1]\n"
     ]
    }
   ],
   "source": [
    "n_exp = 10\n",
    "for i in range(n_exp):\n",
    "    flip_sq = st.bernoulli.rvs(p, size=5)\n",
    "    while flip_sq.sum() != 5:\n",
    "        flip_sq = np.append(flip_sq, st.bernoulli.rvs(p))\n",
    "    if len(flip_sq)<10:\n",
    "        print('',len(flip_sq), '<--', flip_sq)\n",
    "    else:\n",
    "        print(len(flip_sq), '<--', flip_sq)"
   ]
  },
  {
   "cell_type": "code",
   "execution_count": 9,
   "metadata": {
    "slideshow": {
     "slide_type": "slide"
    }
   },
   "outputs": [],
   "source": [
    "n_exp = 10000\n",
    "X = []\n",
    "for i in range(n_exp):\n",
    "    flip_sq = st.bernoulli.rvs(p, size=5)\n",
    "    while flip_sq.sum() != 5:\n",
    "        flip_sq = np.append(flip_sq, st.bernoulli.rvs(p))\n",
    "    X.append(len(flip_sq))"
   ]
  },
  {
   "cell_type": "code",
   "execution_count": 10,
   "metadata": {
    "slideshow": {
     "slide_type": "slide"
    }
   },
   "outputs": [
    {
     "data": {
      "image/png": "[encoded data removed]",
      "text/plain": [
       "<matplotlib.figure.Figure at 0x1129b1a20>"
      ]
     },
     "metadata": {},
     "output_type": "display_data"
    }
   ],
   "source": [
    "plt.hist(np.asarray(X), \n",
    "         np.arange(min(X), max(X)),\n",
    "         rwidth=.75,\n",
    "         density=True);"
   ]
  },
  {
   "cell_type": "code",
   "execution_count": 11,
   "metadata": {
    "slideshow": {
     "slide_type": "slide"
    }
   },
   "outputs": [],
   "source": [
    "def forward_random_coin(p, n, y, nrepeat):\n",
    "    freq = 0\n",
    "    for i in range(nrepeat):\n",
    "        obs_ = st.bernoulli.rvs(p, size=n)\n",
    "        if obs_.sum() == y:\n",
    "            freq += 1\n",
    "    return freq/nrepeat"
   ]
  },
  {
   "cell_type": "code",
   "execution_count": 12,
   "metadata": {
    "slideshow": {
     "slide_type": "slide"
    }
   },
   "outputs": [],
   "source": [
    "def forward_random_coin(p, n, y, nrepeat):\n",
    "    obs_ = st.binom.rvs(n, p, size=nrepeat)\n",
    "    return np.sum(obs_ == y)/nrepeat"
   ]
  },
  {
   "cell_type": "code",
   "execution_count": 14,
   "metadata": {
    "slideshow": {
     "slide_type": "fragment"
    }
   },
   "outputs": [
    {
     "data": {
      "text/plain": [
       "0.2459"
      ]
     },
     "execution_count": 14,
     "metadata": {},
     "output_type": "execute_result"
    }
   ],
   "source": [
    "forward_random_coin(.5, 9, 5, 10000)"
   ]
  },
  {
   "cell_type": "code",
   "execution_count": 15,
   "metadata": {
    "slideshow": {
     "slide_type": "fragment"
    }
   },
   "outputs": [
    {
     "data": {
      "text/plain": [
       "0.1221"
      ]
     },
     "execution_count": 15,
     "metadata": {},
     "output_type": "execute_result"
    }
   ],
   "source": [
    "forward_random_coin(.75, 9, 5, 10000)"
   ]
  },
  {
   "cell_type": "code",
   "execution_count": 16,
   "metadata": {
    "slideshow": {
     "slide_type": "fragment"
    }
   },
   "outputs": [
    {
     "data": {
      "text/plain": [
       "0.2460937499999998"
      ]
     },
     "execution_count": 16,
     "metadata": {},
     "output_type": "execute_result"
    }
   ],
   "source": [
    "st.binom.pmf(5, 9, .5)"
   ]
  },
  {
   "cell_type": "code",
   "execution_count": 17,
   "metadata": {
    "slideshow": {
     "slide_type": "fragment"
    }
   },
   "outputs": [
    {
     "data": {
      "text/plain": [
       "0.1167984008789062"
      ]
     },
     "execution_count": 17,
     "metadata": {},
     "output_type": "execute_result"
    }
   ],
   "source": [
    "st.binom.pmf(5, 9, .75)"
   ]
  }
 ],
 "metadata": {
  "celltoolbar": "Slideshow",
  "kernelspec": {
   "display_name": "Python 3",
   "language": "python",
   "name": "python3"
  },
  "language_info": {
   "codemirror_mode": {
    "name": "ipython",
    "version": 3
   },
   "file_extension": ".py",
   "mimetype": "text/x-python",
   "name": "python",
   "nbconvert_exporter": "python",
   "pygments_lexer": "ipython3",
   "version": "3.5.1"
  }
 },
 "nbformat": 4,
 "nbformat_minor": 2
}
