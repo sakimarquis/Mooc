{
 "cells": [
  {
   "cell_type": "markdown",
   "metadata": {},
   "source": [
    "# Multiple dispatch"
   ]
  },
  {
   "cell_type": "markdown",
   "metadata": {},
   "source": [
    "In this notebook we'll explore **multiple dispatch**, which is a key feature of Julia.\n",
    "\n",
    "Multiple dispatch makes software *generic* and *fast*!\n",
    "\n",
    "#### Starting with the familiar\n",
    "\n",
    "To understand multiple dispatch in Julia, let's start with what we've already seen.\n",
    "\n",
    "We can declare functions in Julia without giving Julia any information about the types of the input arguments that function will receive:"
   ]
  },
  {
   "cell_type": "code",
   "execution_count": 4,
   "metadata": {},
   "outputs": [
    {
     "data": {
      "text/plain": [
       "f (generic function with 1 method)"
      ]
     },
     "execution_count": 4,
     "metadata": {},
     "output_type": "execute_result"
    }
   ],
   "source": [
    "f(x) = x.^2"
   ]
  },
  {
   "cell_type": "markdown",
   "metadata": {},
   "source": [
    "and then Julia will determine on its own which input argument types make sense and which do not:"
   ]
  },
  {
   "cell_type": "code",
   "execution_count": 5,
   "metadata": {},
   "outputs": [
    {
     "data": {
      "text/plain": [
       "100"
      ]
     },
     "execution_count": 5,
     "metadata": {},
     "output_type": "execute_result"
    }
   ],
   "source": [
    "f(10)"
   ]
  },
  {
   "cell_type": "code",
   "execution_count": 6,
   "metadata": {},
   "outputs": [
    {
     "data": {
      "text/plain": [
       "3-element Vector{Int64}:\n",
       " 1\n",
       " 4\n",
       " 9"
      ]
     },
     "execution_count": 6,
     "metadata": {},
     "output_type": "execute_result"
    }
   ],
   "source": [
    "f([1, 2, 3])"
   ]
  },
  {
   "cell_type": "markdown",
   "metadata": {},
   "source": [
    "#### Specifying the types of our input arguments\n",
    "\n",
    "However, we also have the *option* to tell Julia explicitly what types our input arguments are allowed to have.\n",
    "\n",
    "For example, let's write a function `foo` that only takes strings as inputs."
   ]
  },
  {
   "cell_type": "code",
   "execution_count": 7,
   "metadata": {},
   "outputs": [
    {
     "data": {
      "text/plain": [
       "foo (generic function with 1 method)"
      ]
     },
     "execution_count": 7,
     "metadata": {},
     "output_type": "execute_result"
    }
   ],
   "source": [
    "foo(x::String, y::String) = println(\"My inputs x and y are both strings!\")"
   ]
  },
  {
   "cell_type": "markdown",
   "metadata": {},
   "source": [
    "We see here that in order to restrict the type of `x` and `y` to `String`s, we just follow the input argument name by a double colon and the keyword `String`.\n",
    "\n",
    "Now we'll see that `foo` works on `String`s and doesn't work on other input argument types."
   ]
  },
  {
   "cell_type": "code",
   "execution_count": 8,
   "metadata": {},
   "outputs": [
    {
     "name": "stdout",
     "output_type": "stream",
     "text": [
      "My inputs x and y are both strings!\n"
     ]
    }
   ],
   "source": [
    "foo(\"hello\", \"hi!\")"
   ]
  },
  {
   "cell_type": "code",
   "execution_count": 9,
   "metadata": {},
   "outputs": [
    {
     "ename": "LoadError",
     "evalue": "MethodError: no method matching foo(::Int64, ::Int64)",
     "output_type": "error",
     "traceback": [
      "MethodError: no method matching foo(::Int64, ::Int64)",
      "",
      "Stacktrace:",
      " [1] top-level scope",
      "   @ In[9]:1",
      " [2] eval",
      "   @ .\\boot.jl:368 [inlined]",
      " [3] include_string(mapexpr::typeof(REPL.softscope), mod::Module, code::String, filename::String)",
      "   @ Base .\\loading.jl:1428"
     ]
    }
   ],
   "source": [
    "foo(3, 4)"
   ]
  },
  {
   "cell_type": "markdown",
   "metadata": {},
   "source": [
    "To get `foo` to work on integer (`Int`) inputs, let's tack `::Int` onto our input arguments when we declare `foo`."
   ]
  },
  {
   "cell_type": "code",
   "execution_count": 10,
   "metadata": {},
   "outputs": [
    {
     "data": {
      "text/plain": [
       "foo (generic function with 2 methods)"
      ]
     },
     "execution_count": 10,
     "metadata": {},
     "output_type": "execute_result"
    }
   ],
   "source": [
    "foo(x::Int, y::Int) = println(\"My inputs x and y are both integers!\")"
   ]
  },
  {
   "cell_type": "code",
   "execution_count": 11,
   "metadata": {},
   "outputs": [
    {
     "name": "stdout",
     "output_type": "stream",
     "text": [
      "My inputs x and y are both integers!\n"
     ]
    }
   ],
   "source": [
    "foo(3, 4)"
   ]
  },
  {
   "cell_type": "markdown",
   "metadata": {},
   "source": [
    "Now `foo` works on integers! But look, `foo` also still works when `x` and `y` are strings!"
   ]
  },
  {
   "cell_type": "code",
   "execution_count": 12,
   "metadata": {},
   "outputs": [
    {
     "name": "stdout",
     "output_type": "stream",
     "text": [
      "My inputs x and y are both strings!\n"
     ]
    }
   ],
   "source": [
    "foo(\"hello\", \"hi!\")"
   ]
  },
  {
   "cell_type": "markdown",
   "metadata": {},
   "source": [
    "This is starting to get to the heart of multiple dispatch. When we declared\n",
    "\n",
    "```julia\n",
    "foo(x::Int, y::Int) = println(\"My inputs x and y are both integers!\")\n",
    "```\n",
    "we didn't overwrite or replace\n",
    "```julia\n",
    "foo(x::String, y::String)\n",
    "```\n",
    "Instead, we just added an additional ***method*** to the ***generic function*** called `foo`.\n",
    "\n",
    "A ***generic function*** is the abstract concept associated with a particular operation.\n",
    "\n",
    "For example, the generic function `+` represents the concept of addition.\n",
    "\n",
    "A ***method*** is a specific implementation of a generic function for *particular argument types*.\n",
    "\n",
    "For example, `+` has methods that accept floating point numbers, integers, matrices, etc.\n",
    "\n",
    "We can use the `methods` to see how many methods there are for `foo`."
   ]
  },
  {
   "cell_type": "code",
   "execution_count": 13,
   "metadata": {},
   "outputs": [
    {
     "data": {
      "text/html": [
       "# 2 methods for generic function <b>foo</b>:<ul><li> foo(x::<b>String</b>, y::<b>String</b>) in Main at In[7]:1</li> <li> foo(x::<b>Int64</b>, y::<b>Int64</b>) in Main at In[10]:1</li> </ul>"
      ],
      "text/plain": [
       "# 2 methods for generic function \"foo\":\n",
       "[1] foo(x::String, y::String) in Main at In[7]:1\n",
       "[2] foo(x::Int64, y::Int64) in Main at In[10]:1"
      ]
     },
     "execution_count": 13,
     "metadata": {},
     "output_type": "execute_result"
    }
   ],
   "source": [
    "methods(foo)"
   ]
  },
  {
   "cell_type": "markdown",
   "metadata": {},
   "source": [
    "Aside: how many methods do you think there are for addition?"
   ]
  },
  {
   "cell_type": "code",
   "execution_count": 1,
   "metadata": {},
   "outputs": [
    {
     "data": {
      "text/html": [
       "# 206 methods for generic function <b>+</b>:<ul><li> +(x::<b>T</b>, y::<b>T</b>)<i> where T<:Union{Int128, Int16, Int32, Int64, Int8, UInt128, UInt16, UInt32, UInt64, UInt8}</i> in Base at <a href=\"https://github.com/JuliaLang/julia/tree/afb6c60d69a38e8a2442a0c7e87c47b8880ad294/base/int.jl#L87\" target=\"_blank\">int.jl:87</a></li> <li> +(x::<b>T</b>, y::<b>T</b>)<i> where T<:Union{Float16, Float32, Float64}</i> in Base at <a href=\"https://github.com/JuliaLang/julia/tree/afb6c60d69a38e8a2442a0c7e87c47b8880ad294/base/float.jl#L383\" target=\"_blank\">float.jl:383</a></li> <li> +(c::<b>Union{UInt16, UInt32, UInt8}</b>, x::<b>BigInt</b>) in Base.GMP at <a href=\"https://github.com/JuliaLang/julia/tree/afb6c60d69a38e8a2442a0c7e87c47b8880ad294/base/gmp.jl#L531\" target=\"_blank\">gmp.jl:531</a></li> <li> +(c::<b>Union{Int16, Int32, Int8}</b>, x::<b>BigInt</b>) in Base.GMP at <a href=\"https://github.com/JuliaLang/julia/tree/afb6c60d69a38e8a2442a0c7e87c47b8880ad294/base/gmp.jl#L537\" target=\"_blank\">gmp.jl:537</a></li> <li> +(c::<b>Union{UInt16, UInt32, UInt8}</b>, x::<b>BigFloat</b>) in Base.MPFR at <a href=\"https://github.com/JuliaLang/julia/tree/afb6c60d69a38e8a2442a0c7e87c47b8880ad294/base/mpfr.jl#L398\" target=\"_blank\">mpfr.jl:398</a></li> <li> +(c::<b>Union{Int16, Int32, Int8}</b>, x::<b>BigFloat</b>) in Base.MPFR at <a href=\"https://github.com/JuliaLang/julia/tree/afb6c60d69a38e8a2442a0c7e87c47b8880ad294/base/mpfr.jl#L406\" target=\"_blank\">mpfr.jl:406</a></li> <li> +(c::<b>Union{Float16, Float32, Float64}</b>, x::<b>BigFloat</b>) in Base.MPFR at <a href=\"https://github.com/JuliaLang/julia/tree/afb6c60d69a38e8a2442a0c7e87c47b8880ad294/base/mpfr.jl#L414\" target=\"_blank\">mpfr.jl:414</a></li> <li> +(x::<b>Union{Dates.CompoundPeriod, Dates.Period}</b>) in Dates at <a href=\"file://C:/buildbot/worker/package_win64/build/usr/share/julia/stdlib/v1.8/Dates/src/periods.jl\" target=\"_blank\">D:\\Program Files\\Julia-1.8.1\\share\\julia\\stdlib\\v1.8\\Dates\\src\\periods.jl:378</a></li> <li> +(F::<b>LinearAlgebra.Hessenberg</b>, J::<b>LinearAlgebra.UniformScaling</b>) in LinearAlgebra at <a href=\"file://C:/buildbot/worker/package_win64/build/usr/share/julia/stdlib/v1.8/LinearAlgebra/src/hessenberg.jl\" target=\"_blank\">D:\\Program Files\\Julia-1.8.1\\share\\julia\\stdlib\\v1.8\\LinearAlgebra\\src\\hessenberg.jl:641</a></li> <li> +(A::<b>BitArray</b>, B::<b>BitArray</b>) in Base at <a href=\"https://github.com/JuliaLang/julia/tree/afb6c60d69a38e8a2442a0c7e87c47b8880ad294/base/bitarray.jl#L1184\" target=\"_blank\">bitarray.jl:1184</a></li> <li> +(A::<b>SparseArrays.AbstractSparseMatrix</b>, B::<b>LinearAlgebra.Hermitian{<:Any, <:SparseArrays.AbstractSparseMatrix}</b>) in SparseArrays at <a href=\"file://C:/buildbot/worker/package_win64/build/usr/share/julia/stdlib/v1.8/SparseArrays/src/linalg.jl\" target=\"_blank\">D:\\Program Files\\Julia-1.8.1\\share\\julia\\stdlib\\v1.8\\SparseArrays\\src\\linalg.jl:14</a></li> <li> +(A::<b>SparseArrays.AbstractSparseMatrix</b>, B::<b>LinearAlgebra.Hermitian</b>) in SparseArrays at <a href=\"file://C:/buildbot/worker/package_win64/build/usr/share/julia/stdlib/v1.8/SparseArrays/src/linalg.jl\" target=\"_blank\">D:\\Program Files\\Julia-1.8.1\\share\\julia\\stdlib\\v1.8\\SparseArrays\\src\\linalg.jl:17</a></li> <li> +(A::<b>SparseArrays.AbstractSparseMatrix</b>, B::<b>LinearAlgebra.Symmetric{<:Any, <:SparseArrays.AbstractSparseMatrix}</b>) in SparseArrays at <a href=\"file://C:/buildbot/worker/package_win64/build/usr/share/julia/stdlib/v1.8/SparseArrays/src/linalg.jl\" target=\"_blank\">D:\\Program Files\\Julia-1.8.1\\share\\julia\\stdlib\\v1.8\\SparseArrays\\src\\linalg.jl:14</a></li> <li> +(A::<b>SparseArrays.AbstractSparseMatrix</b>, B::<b>LinearAlgebra.Symmetric</b>) in SparseArrays at <a href=\"file://C:/buildbot/worker/package_win64/build/usr/share/julia/stdlib/v1.8/SparseArrays/src/linalg.jl\" target=\"_blank\">D:\\Program Files\\Julia-1.8.1\\share\\julia\\stdlib\\v1.8\\SparseArrays\\src\\linalg.jl:17</a></li> <li> +(A::<b>LinearAlgebra.SymTridiagonal</b>, B::<b>LinearAlgebra.SymTridiagonal</b>) in LinearAlgebra at <a href=\"file://C:/buildbot/worker/package_win64/build/usr/share/julia/stdlib/v1.8/LinearAlgebra/src/tridiag.jl\" target=\"_blank\">D:\\Program Files\\Julia-1.8.1\\share\\julia\\stdlib\\v1.8\\LinearAlgebra\\src\\tridiag.jl:207</a></li> <li> +(A::<b>LinearAlgebra.SymTridiagonal</b>, B::<b>LinearAlgebra.Symmetric</b>) in LinearAlgebra at <a href=\"file://C:/buildbot/worker/package_win64/build/usr/share/julia/stdlib/v1.8/LinearAlgebra/src/symmetric.jl\" target=\"_blank\">D:\\Program Files\\Julia-1.8.1\\share\\julia\\stdlib\\v1.8\\LinearAlgebra\\src\\symmetric.jl:485</a></li> <li> +(A::<b>LinearAlgebra.SymTridiagonal{var\"#s883\", V} where {var\"#s883\"<:Real, V<:AbstractVector{var\"#s883\"}}</b>, B::<b>LinearAlgebra.Hermitian</b>) in LinearAlgebra at <a href=\"file://C:/buildbot/worker/package_win64/build/usr/share/julia/stdlib/v1.8/LinearAlgebra/src/symmetric.jl\" target=\"_blank\">D:\\Program Files\\Julia-1.8.1\\share\\julia\\stdlib\\v1.8\\LinearAlgebra\\src\\symmetric.jl:487</a></li> <li> +(x::<b>LinearAlgebra.SymTridiagonal</b>, H::<b>LinearAlgebra.UpperHessenberg</b>) in LinearAlgebra at <a href=\"file://C:/buildbot/worker/package_win64/build/usr/share/julia/stdlib/v1.8/LinearAlgebra/src/hessenberg.jl\" target=\"_blank\">D:\\Program Files\\Julia-1.8.1\\share\\julia\\stdlib\\v1.8\\LinearAlgebra\\src\\hessenberg.jl:109</a></li> <li> +(A::<b>LinearAlgebra.SymTridiagonal</b>, B::<b>LinearAlgebra.Diagonal</b>) in LinearAlgebra at <a href=\"file://C:/buildbot/worker/package_win64/build/usr/share/julia/stdlib/v1.8/LinearAlgebra/src/special.jl\" target=\"_blank\">D:\\Program Files\\Julia-1.8.1\\share\\julia\\stdlib\\v1.8\\LinearAlgebra\\src\\special.jl:157</a></li> <li> +(A::<b>LinearAlgebra.SymTridiagonal</b>, B::<b>LinearAlgebra.Tridiagonal</b>) in LinearAlgebra at <a href=\"file://C:/buildbot/worker/package_win64/build/usr/share/julia/stdlib/v1.8/LinearAlgebra/src/special.jl\" target=\"_blank\">D:\\Program Files\\Julia-1.8.1\\share\\julia\\stdlib\\v1.8\\LinearAlgebra\\src\\special.jl:171</a></li> <li> +(A::<b>LinearAlgebra.SymTridiagonal</b>, B::<b>LinearAlgebra.Bidiagonal</b>) in LinearAlgebra at <a href=\"file://C:/buildbot/worker/package_win64/build/usr/share/julia/stdlib/v1.8/LinearAlgebra/src/special.jl\" target=\"_blank\">D:\\Program Files\\Julia-1.8.1\\share\\julia\\stdlib\\v1.8\\LinearAlgebra\\src\\special.jl:225</a></li> <li> +(A::<b>LinearAlgebra.SymTridiagonal{var\"#s885\", V} where {var\"#s885\"<:Number, V<:AbstractVector{var\"#s885\"}}</b>, B::<b>LinearAlgebra.UniformScaling</b>) in LinearAlgebra at <a href=\"file://C:/buildbot/worker/package_win64/build/usr/share/julia/stdlib/v1.8/LinearAlgebra/src/special.jl\" target=\"_blank\">D:\\Program Files\\Julia-1.8.1\\share\\julia\\stdlib\\v1.8\\LinearAlgebra\\src\\special.jl:243</a></li> <li> +(z::<b>Complex</b>, w::<b>Complex</b>) in Base at <a href=\"https://github.com/JuliaLang/julia/tree/afb6c60d69a38e8a2442a0c7e87c47b8880ad294/base/complex.jl#L288\" target=\"_blank\">complex.jl:288</a></li> <li> +(x::<b>Dates.Instant</b>) in Dates at <a href=\"file://C:/buildbot/worker/package_win64/build/usr/share/julia/stdlib/v1.8/Dates/src/arithmetic.jl\" target=\"_blank\">D:\\Program Files\\Julia-1.8.1\\share\\julia\\stdlib\\v1.8\\Dates\\src\\arithmetic.jl:4</a></li> <li> +(A::<b>LinearAlgebra.LowerTriangular</b>, B::<b>LinearAlgebra.LowerTriangular</b>) in LinearAlgebra at <a href=\"file://C:/buildbot/worker/package_win64/build/usr/share/julia/stdlib/v1.8/LinearAlgebra/src/triangular.jl\" target=\"_blank\">D:\\Program Files\\Julia-1.8.1\\share\\julia\\stdlib\\v1.8\\LinearAlgebra\\src\\triangular.jl:639</a></li> <li> +(A::<b>LinearAlgebra.LowerTriangular</b>, B::<b>LinearAlgebra.UnitLowerTriangular</b>) in LinearAlgebra at <a href=\"file://C:/buildbot/worker/package_win64/build/usr/share/julia/stdlib/v1.8/LinearAlgebra/src/triangular.jl\" target=\"_blank\">D:\\Program Files\\Julia-1.8.1\\share\\julia\\stdlib\\v1.8\\LinearAlgebra\\src\\triangular.jl:641</a></li> <li> +(A::<b>LinearAlgebra.LowerTriangular</b>, B::<b>LinearAlgebra.Bidiagonal</b>) in LinearAlgebra at <a href=\"file://C:/buildbot/worker/package_win64/build/usr/share/julia/stdlib/v1.8/LinearAlgebra/src/special.jl\" target=\"_blank\">D:\\Program Files\\Julia-1.8.1\\share\\julia\\stdlib\\v1.8\\LinearAlgebra\\src\\special.jl:98</a></li> <li> +(Da::<b>LinearAlgebra.Diagonal</b>, Db::<b>LinearAlgebra.Diagonal</b>) in LinearAlgebra at <a href=\"file://C:/buildbot/worker/package_win64/build/usr/share/julia/stdlib/v1.8/LinearAlgebra/src/diagonal.jl\" target=\"_blank\">D:\\Program Files\\Julia-1.8.1\\share\\julia\\stdlib\\v1.8\\LinearAlgebra\\src\\diagonal.jl:184</a></li> <li> +(D::<b>LinearAlgebra.Diagonal</b>, S::<b>LinearAlgebra.Symmetric</b>) in LinearAlgebra at <a href=\"file://C:/buildbot/worker/package_win64/build/usr/share/julia/stdlib/v1.8/LinearAlgebra/src/diagonal.jl\" target=\"_blank\">D:\\Program Files\\Julia-1.8.1\\share\\julia\\stdlib\\v1.8\\LinearAlgebra\\src\\diagonal.jl:188</a></li> <li> +(D::<b>LinearAlgebra.Diagonal{var\"#s885\", V} where {var\"#s885\"<:Real, V<:AbstractVector{var\"#s885\"}}</b>, H::<b>LinearAlgebra.Hermitian</b>) in LinearAlgebra at <a href=\"file://C:/buildbot/worker/package_win64/build/usr/share/julia/stdlib/v1.8/LinearAlgebra/src/diagonal.jl\" target=\"_blank\">D:\\Program Files\\Julia-1.8.1\\share\\julia\\stdlib\\v1.8\\LinearAlgebra\\src\\diagonal.jl:194</a></li> <li> +(x::<b>LinearAlgebra.Diagonal</b>, H::<b>LinearAlgebra.UpperHessenberg</b>) in LinearAlgebra at <a href=\"file://C:/buildbot/worker/package_win64/build/usr/share/julia/stdlib/v1.8/LinearAlgebra/src/hessenberg.jl\" target=\"_blank\">D:\\Program Files\\Julia-1.8.1\\share\\julia\\stdlib\\v1.8\\LinearAlgebra\\src\\hessenberg.jl:109</a></li> <li> +(A::<b>LinearAlgebra.Diagonal</b>, B::<b>LinearAlgebra.Bidiagonal</b>) in LinearAlgebra at <a href=\"file://C:/buildbot/worker/package_win64/build/usr/share/julia/stdlib/v1.8/LinearAlgebra/src/special.jl\" target=\"_blank\">D:\\Program Files\\Julia-1.8.1\\share\\julia\\stdlib\\v1.8\\LinearAlgebra\\src\\special.jl:137</a></li> <li> +(A::<b>LinearAlgebra.Diagonal</b>, B::<b>LinearAlgebra.SymTridiagonal</b>) in LinearAlgebra at <a href=\"file://C:/buildbot/worker/package_win64/build/usr/share/julia/stdlib/v1.8/LinearAlgebra/src/special.jl\" target=\"_blank\">D:\\Program Files\\Julia-1.8.1\\share\\julia\\stdlib\\v1.8\\LinearAlgebra\\src\\special.jl:147</a></li> <li> +(A::<b>LinearAlgebra.Diagonal</b>, B::<b>LinearAlgebra.Tridiagonal</b>) in LinearAlgebra at <a href=\"file://C:/buildbot/worker/package_win64/build/usr/share/julia/stdlib/v1.8/LinearAlgebra/src/special.jl\" target=\"_blank\">D:\\Program Files\\Julia-1.8.1\\share\\julia\\stdlib\\v1.8\\LinearAlgebra\\src\\special.jl:175</a></li> <li> +(A::<b>LinearAlgebra.Diagonal{var\"#s885\", V} where {var\"#s885\"<:Number, V<:AbstractVector{var\"#s885\"}}</b>, B::<b>LinearAlgebra.UniformScaling</b>) in LinearAlgebra at <a href=\"file://C:/buildbot/worker/package_win64/build/usr/share/julia/stdlib/v1.8/LinearAlgebra/src/special.jl\" target=\"_blank\">D:\\Program Files\\Julia-1.8.1\\share\\julia\\stdlib\\v1.8\\LinearAlgebra\\src\\special.jl:253</a></li> <li> +(A::<b>LinearAlgebra.Hermitian</b>, B::<b>LinearAlgebra.Hermitian</b>) in LinearAlgebra at <a href=\"file://C:/buildbot/worker/package_win64/build/usr/share/julia/stdlib/v1.8/LinearAlgebra/src/symmetric.jl\" target=\"_blank\">D:\\Program Files\\Julia-1.8.1\\share\\julia\\stdlib\\v1.8\\LinearAlgebra\\src\\symmetric.jl:469</a></li> <li> +(A::<b>LinearAlgebra.Hermitian</b>, B::<b>LinearAlgebra.SymTridiagonal{var\"#s882\", V} where {var\"#s882\"<:Real, V<:AbstractVector{var\"#s882\"}}</b>) in LinearAlgebra at <a href=\"file://C:/buildbot/worker/package_win64/build/usr/share/julia/stdlib/v1.8/LinearAlgebra/src/symmetric.jl\" target=\"_blank\">D:\\Program Files\\Julia-1.8.1\\share\\julia\\stdlib\\v1.8\\LinearAlgebra\\src\\symmetric.jl:488</a></li> <li> +(H::<b>LinearAlgebra.Hermitian</b>, D::<b>LinearAlgebra.Diagonal{var\"#s885\", V} where {var\"#s885\"<:Real, V<:AbstractVector{var\"#s885\"}}</b>) in LinearAlgebra at <a href=\"file://C:/buildbot/worker/package_win64/build/usr/share/julia/stdlib/v1.8/LinearAlgebra/src/diagonal.jl\" target=\"_blank\">D:\\Program Files\\Julia-1.8.1\\share\\julia\\stdlib\\v1.8\\LinearAlgebra\\src\\diagonal.jl:197</a></li> <li> +(A::<b>LinearAlgebra.Hermitian</b>, J::<b>LinearAlgebra.UniformScaling{<:Complex}</b>) in LinearAlgebra at <a href=\"file://C:/buildbot/worker/package_win64/build/usr/share/julia/stdlib/v1.8/LinearAlgebra/src/uniformscaling.jl\" target=\"_blank\">D:\\Program Files\\Julia-1.8.1\\share\\julia\\stdlib\\v1.8\\LinearAlgebra\\src\\uniformscaling.jl:195</a></li> <li> +(A::<b>LinearAlgebra.Hermitian{<:Any, <:SparseArrays.AbstractSparseMatrix}</b>, B::<b>SparseArrays.AbstractSparseMatrix</b>) in SparseArrays at <a href=\"file://C:/buildbot/worker/package_win64/build/usr/share/julia/stdlib/v1.8/SparseArrays/src/linalg.jl\" target=\"_blank\">D:\\Program Files\\Julia-1.8.1\\share\\julia\\stdlib\\v1.8\\SparseArrays\\src\\linalg.jl:15</a></li> <li> +(A::<b>LinearAlgebra.Hermitian</b>, B::<b>SparseArrays.AbstractSparseMatrix</b>) in SparseArrays at <a href=\"file://C:/buildbot/worker/package_win64/build/usr/share/julia/stdlib/v1.8/SparseArrays/src/linalg.jl\" target=\"_blank\">D:\\Program Files\\Julia-1.8.1\\share\\julia\\stdlib\\v1.8\\SparseArrays\\src\\linalg.jl:18</a></li> <li> +(A::<b>LinearAlgebra.Hermitian{<:Any, <:SparseArrays.AbstractSparseMatrix}</b>, B::<b>LinearAlgebra.Symmetric{<:Real, <:SparseArrays.AbstractSparseMatrix}</b>) in SparseArrays at <a href=\"file://C:/buildbot/worker/package_win64/build/usr/share/julia/stdlib/v1.8/SparseArrays/src/linalg.jl\" target=\"_blank\">D:\\Program Files\\Julia-1.8.1\\share\\julia\\stdlib\\v1.8\\SparseArrays\\src\\linalg.jl:26</a></li> <li> +(A::<b>LinearAlgebra.Hermitian</b>, B::<b>LinearAlgebra.Symmetric{var\"#s885\", S} where {var\"#s885\"<:Real, S<:(AbstractMatrix{<:var\"#s885\"})}</b>) in LinearAlgebra at <a href=\"file://C:/buildbot/worker/package_win64/build/usr/share/julia/stdlib/v1.8/LinearAlgebra/src/symmetric.jl\" target=\"_blank\">D:\\Program Files\\Julia-1.8.1\\share\\julia\\stdlib\\v1.8\\LinearAlgebra\\src\\symmetric.jl:483</a></li> <li> +(A::<b>LinearAlgebra.Hermitian{<:Any, <:SparseArrays.AbstractSparseMatrix}</b>, B::<b>LinearAlgebra.Symmetric{<:Any, <:SparseArrays.AbstractSparseMatrix}</b>) in SparseArrays at <a href=\"file://C:/buildbot/worker/package_win64/build/usr/share/julia/stdlib/v1.8/SparseArrays/src/linalg.jl\" target=\"_blank\">D:\\Program Files\\Julia-1.8.1\\share\\julia\\stdlib\\v1.8\\SparseArrays\\src\\linalg.jl:24</a></li> <li> +(x::<b>Base.TwicePrecision</b>, y::<b>Number</b>) in Base at <a href=\"https://github.com/JuliaLang/julia/tree/afb6c60d69a38e8a2442a0c7e87c47b8880ad294/base/twiceprecision.jl#L290\" target=\"_blank\">twiceprecision.jl:290</a></li> <li> +(x::<b>Base.TwicePrecision{T}</b>, y::<b>Base.TwicePrecision{T}</b>)<i> where T</i> in Base at <a href=\"https://github.com/JuliaLang/julia/tree/afb6c60d69a38e8a2442a0c7e87c47b8880ad294/base/twiceprecision.jl#L296\" target=\"_blank\">twiceprecision.jl:296</a></li> <li> +(x::<b>Base.TwicePrecision</b>, y::<b>Base.TwicePrecision</b>) in Base at <a href=\"https://github.com/JuliaLang/julia/tree/afb6c60d69a38e8a2442a0c7e87c47b8880ad294/base/twiceprecision.jl#L301\" target=\"_blank\">twiceprecision.jl:301</a></li> <li> +(A::<b>LinearAlgebra.Tridiagonal</b>, B::<b>LinearAlgebra.Tridiagonal</b>) in LinearAlgebra at <a href=\"file://C:/buildbot/worker/package_win64/build/usr/share/julia/stdlib/v1.8/LinearAlgebra/src/tridiag.jl\" target=\"_blank\">D:\\Program Files\\Julia-1.8.1\\share\\julia\\stdlib\\v1.8\\LinearAlgebra\\src\\tridiag.jl:741</a></li> <li> +(x::<b>LinearAlgebra.Tridiagonal</b>, H::<b>LinearAlgebra.UpperHessenberg</b>) in LinearAlgebra at <a href=\"file://C:/buildbot/worker/package_win64/build/usr/share/julia/stdlib/v1.8/LinearAlgebra/src/hessenberg.jl\" target=\"_blank\">D:\\Program Files\\Julia-1.8.1\\share\\julia\\stdlib\\v1.8\\LinearAlgebra\\src\\hessenberg.jl:109</a></li> <li> +(A::<b>LinearAlgebra.Tridiagonal</b>, B::<b>LinearAlgebra.SymTridiagonal</b>) in LinearAlgebra at <a href=\"file://C:/buildbot/worker/package_win64/build/usr/share/julia/stdlib/v1.8/LinearAlgebra/src/special.jl\" target=\"_blank\">D:\\Program Files\\Julia-1.8.1\\share\\julia\\stdlib\\v1.8\\LinearAlgebra\\src\\special.jl:169</a></li> <li> +(A::<b>LinearAlgebra.Tridiagonal</b>, B::<b>LinearAlgebra.Diagonal</b>) in LinearAlgebra at <a href=\"file://C:/buildbot/worker/package_win64/build/usr/share/julia/stdlib/v1.8/LinearAlgebra/src/special.jl\" target=\"_blank\">D:\\Program Files\\Julia-1.8.1\\share\\julia\\stdlib\\v1.8\\LinearAlgebra\\src\\special.jl:185</a></li> <li> +(A::<b>LinearAlgebra.Tridiagonal</b>, B::<b>LinearAlgebra.Bidiagonal</b>) in LinearAlgebra at <a href=\"file://C:/buildbot/worker/package_win64/build/usr/share/julia/stdlib/v1.8/LinearAlgebra/src/special.jl\" target=\"_blank\">D:\\Program Files\\Julia-1.8.1\\share\\julia\\stdlib\\v1.8\\LinearAlgebra\\src\\special.jl:205</a></li> <li> +(A::<b>LinearAlgebra.Tridiagonal{var\"#s885\", V} where {var\"#s885\"<:Number, V<:AbstractVector{var\"#s885\"}}</b>, B::<b>LinearAlgebra.UniformScaling</b>) in LinearAlgebra at <a href=\"file://C:/buildbot/worker/package_win64/build/usr/share/julia/stdlib/v1.8/LinearAlgebra/src/special.jl\" target=\"_blank\">D:\\Program Files\\Julia-1.8.1\\share\\julia\\stdlib\\v1.8\\LinearAlgebra\\src\\special.jl:238</a></li> <li> +(A::<b>LinearAlgebra.Symmetric</b>, B::<b>LinearAlgebra.Symmetric</b>) in LinearAlgebra at <a href=\"file://C:/buildbot/worker/package_win64/build/usr/share/julia/stdlib/v1.8/LinearAlgebra/src/symmetric.jl\" target=\"_blank\">D:\\Program Files\\Julia-1.8.1\\share\\julia\\stdlib\\v1.8\\LinearAlgebra\\src\\symmetric.jl:469</a></li> <li> +(A::<b>LinearAlgebra.Symmetric</b>, B::<b>LinearAlgebra.SymTridiagonal</b>) in LinearAlgebra at <a href=\"file://C:/buildbot/worker/package_win64/build/usr/share/julia/stdlib/v1.8/LinearAlgebra/src/symmetric.jl\" target=\"_blank\">D:\\Program Files\\Julia-1.8.1\\share\\julia\\stdlib\\v1.8\\LinearAlgebra\\src\\symmetric.jl:486</a></li> <li> +(S::<b>LinearAlgebra.Symmetric</b>, D::<b>LinearAlgebra.Diagonal</b>) in LinearAlgebra at <a href=\"file://C:/buildbot/worker/package_win64/build/usr/share/julia/stdlib/v1.8/LinearAlgebra/src/diagonal.jl\" target=\"_blank\">D:\\Program Files\\Julia-1.8.1\\share\\julia\\stdlib\\v1.8\\LinearAlgebra\\src\\diagonal.jl:191</a></li> <li> +(A::<b>LinearAlgebra.Symmetric{<:Any, <:SparseArrays.AbstractSparseMatrix}</b>, B::<b>SparseArrays.AbstractSparseMatrix</b>) in SparseArrays at <a href=\"file://C:/buildbot/worker/package_win64/build/usr/share/julia/stdlib/v1.8/SparseArrays/src/linalg.jl\" target=\"_blank\">D:\\Program Files\\Julia-1.8.1\\share\\julia\\stdlib\\v1.8\\SparseArrays\\src\\linalg.jl:15</a></li> <li> +(A::<b>LinearAlgebra.Symmetric</b>, B::<b>SparseArrays.AbstractSparseMatrix</b>) in SparseArrays at <a href=\"file://C:/buildbot/worker/package_win64/build/usr/share/julia/stdlib/v1.8/SparseArrays/src/linalg.jl\" target=\"_blank\">D:\\Program Files\\Julia-1.8.1\\share\\julia\\stdlib\\v1.8\\SparseArrays\\src\\linalg.jl:18</a></li> <li> +(A::<b>LinearAlgebra.Symmetric{<:Real, <:SparseArrays.AbstractSparseMatrix}</b>, B::<b>LinearAlgebra.Hermitian{<:Any, <:SparseArrays.AbstractSparseMatrix}</b>) in SparseArrays at <a href=\"file://C:/buildbot/worker/package_win64/build/usr/share/julia/stdlib/v1.8/SparseArrays/src/linalg.jl\" target=\"_blank\">D:\\Program Files\\Julia-1.8.1\\share\\julia\\stdlib\\v1.8\\SparseArrays\\src\\linalg.jl:25</a></li> <li> +(A::<b>LinearAlgebra.Symmetric{var\"#s884\", S} where {var\"#s884\"<:Real, S<:(AbstractMatrix{<:var\"#s884\"})}</b>, B::<b>LinearAlgebra.Hermitian</b>) in LinearAlgebra at <a href=\"file://C:/buildbot/worker/package_win64/build/usr/share/julia/stdlib/v1.8/LinearAlgebra/src/symmetric.jl\" target=\"_blank\">D:\\Program Files\\Julia-1.8.1\\share\\julia\\stdlib\\v1.8\\LinearAlgebra\\src\\symmetric.jl:484</a></li> <li> +(A::<b>LinearAlgebra.Symmetric{<:Any, <:SparseArrays.AbstractSparseMatrix}</b>, B::<b>LinearAlgebra.Hermitian{<:Any, <:SparseArrays.AbstractSparseMatrix}</b>) in SparseArrays at <a href=\"file://C:/buildbot/worker/package_win64/build/usr/share/julia/stdlib/v1.8/SparseArrays/src/linalg.jl\" target=\"_blank\">D:\\Program Files\\Julia-1.8.1\\share\\julia\\stdlib\\v1.8\\SparseArrays\\src\\linalg.jl:23</a></li> <li> +(r1::<b>StepRangeLen{T, R}</b>, r2::<b>StepRangeLen{T, R}</b>)<i> where {R<:Base.TwicePrecision, T}</i> in Base at <a href=\"https://github.com/JuliaLang/julia/tree/afb6c60d69a38e8a2442a0c7e87c47b8880ad294/base/twiceprecision.jl#L644\" target=\"_blank\">twiceprecision.jl:644</a></li> <li> +(r1::<b>StepRangeLen{T, S}</b>, r2::<b>StepRangeLen{T, S}</b>)<i> where {T, S}</i> in Base at <a href=\"https://github.com/JuliaLang/julia/tree/afb6c60d69a38e8a2442a0c7e87c47b8880ad294/base/range.jl#L1447\" target=\"_blank\">range.jl:1447</a></li> <li> +(r::<b>AbstractRange{<:Dates.TimeType}</b>, x::<b>Dates.Period</b>) in Dates at <a href=\"file://C:/buildbot/worker/package_win64/build/usr/share/julia/stdlib/v1.8/Dates/src/ranges.jl\" target=\"_blank\">D:\\Program Files\\Julia-1.8.1\\share\\julia\\stdlib\\v1.8\\Dates\\src\\ranges.jl:64</a></li> <li> +(x::<b>AbstractArray{<:Dates.TimeType}</b>, y::<b>Union{Dates.CompoundPeriod, Dates.Period}</b>) in Dates at <a href=\"file://C:/buildbot/worker/package_win64/build/usr/share/julia/stdlib/v1.8/Dates/src/deprecated.jl\" target=\"_blank\">D:\\Program Files\\Julia-1.8.1\\share\\julia\\stdlib\\v1.8\\Dates\\src\\deprecated.jl:6</a></li> <li> +(x::<b>T</b>, y::<b>Integer</b>)<i> where T<:AbstractChar</i> in Base at <a href=\"https://github.com/JuliaLang/julia/tree/afb6c60d69a38e8a2442a0c7e87c47b8880ad294/base/char.jl#L237\" target=\"_blank\">char.jl:237</a></li> <li> +(A::<b>LinearAlgebra.Bidiagonal</b>, B::<b>LinearAlgebra.Bidiagonal</b>) in LinearAlgebra at <a href=\"file://C:/buildbot/worker/package_win64/build/usr/share/julia/stdlib/v1.8/LinearAlgebra/src/bidiag.jl\" target=\"_blank\">D:\\Program Files\\Julia-1.8.1\\share\\julia\\stdlib\\v1.8\\LinearAlgebra\\src\\bidiag.jl:365</a></li> <li> +(x::<b>LinearAlgebra.Bidiagonal</b>, H::<b>LinearAlgebra.UpperHessenberg</b>) in LinearAlgebra at <a href=\"file://C:/buildbot/worker/package_win64/build/usr/share/julia/stdlib/v1.8/LinearAlgebra/src/hessenberg.jl\" target=\"_blank\">D:\\Program Files\\Julia-1.8.1\\share\\julia\\stdlib\\v1.8\\LinearAlgebra\\src\\hessenberg.jl:109</a></li> <li> +(A::<b>LinearAlgebra.Bidiagonal</b>, B::<b>LinearAlgebra.UpperTriangular</b>) in LinearAlgebra at <a href=\"file://C:/buildbot/worker/package_win64/build/usr/share/julia/stdlib/v1.8/LinearAlgebra/src/special.jl\" target=\"_blank\">D:\\Program Files\\Julia-1.8.1\\share\\julia\\stdlib\\v1.8\\LinearAlgebra\\src\\special.jl:106</a></li> <li> +(A::<b>LinearAlgebra.Bidiagonal</b>, B::<b>LinearAlgebra.UnitUpperTriangular</b>) in LinearAlgebra at <a href=\"file://C:/buildbot/worker/package_win64/build/usr/share/julia/stdlib/v1.8/LinearAlgebra/src/special.jl\" target=\"_blank\">D:\\Program Files\\Julia-1.8.1\\share\\julia\\stdlib\\v1.8\\LinearAlgebra\\src\\special.jl:106</a></li> <li> +(A::<b>LinearAlgebra.Bidiagonal</b>, B::<b>LinearAlgebra.LowerTriangular</b>) in LinearAlgebra at <a href=\"file://C:/buildbot/worker/package_win64/build/usr/share/julia/stdlib/v1.8/LinearAlgebra/src/special.jl\" target=\"_blank\">D:\\Program Files\\Julia-1.8.1\\share\\julia\\stdlib\\v1.8\\LinearAlgebra\\src\\special.jl:106</a></li> <li> +(A::<b>LinearAlgebra.Bidiagonal</b>, B::<b>LinearAlgebra.UnitLowerTriangular</b>) in LinearAlgebra at <a href=\"file://C:/buildbot/worker/package_win64/build/usr/share/julia/stdlib/v1.8/LinearAlgebra/src/special.jl\" target=\"_blank\">D:\\Program Files\\Julia-1.8.1\\share\\julia\\stdlib\\v1.8\\LinearAlgebra\\src\\special.jl:106</a></li> <li> +(A::<b>LinearAlgebra.Bidiagonal</b>, B::<b>LinearAlgebra.Diagonal</b>) in LinearAlgebra at <a href=\"file://C:/buildbot/worker/package_win64/build/usr/share/julia/stdlib/v1.8/LinearAlgebra/src/special.jl\" target=\"_blank\">D:\\Program Files\\Julia-1.8.1\\share\\julia\\stdlib\\v1.8\\LinearAlgebra\\src\\special.jl:127</a></li> <li> +(A::<b>LinearAlgebra.Bidiagonal</b>, B::<b>LinearAlgebra.Tridiagonal</b>) in LinearAlgebra at <a href=\"file://C:/buildbot/worker/package_win64/build/usr/share/julia/stdlib/v1.8/LinearAlgebra/src/special.jl\" target=\"_blank\">D:\\Program Files\\Julia-1.8.1\\share\\julia\\stdlib\\v1.8\\LinearAlgebra\\src\\special.jl:195</a></li> <li> +(A::<b>LinearAlgebra.Bidiagonal</b>, B::<b>LinearAlgebra.SymTridiagonal</b>) in LinearAlgebra at <a href=\"file://C:/buildbot/worker/package_win64/build/usr/share/julia/stdlib/v1.8/LinearAlgebra/src/special.jl\" target=\"_blank\">D:\\Program Files\\Julia-1.8.1\\share\\julia\\stdlib\\v1.8\\LinearAlgebra\\src\\special.jl:215</a></li> <li> +(A::<b>LinearAlgebra.Bidiagonal{var\"#s885\", V} where {var\"#s885\"<:Number, V<:AbstractVector{var\"#s885\"}}</b>, B::<b>LinearAlgebra.UniformScaling</b>) in LinearAlgebra at <a href=\"file://C:/buildbot/worker/package_win64/build/usr/share/julia/stdlib/v1.8/LinearAlgebra/src/special.jl\" target=\"_blank\">D:\\Program Files\\Julia-1.8.1\\share\\julia\\stdlib\\v1.8\\LinearAlgebra\\src\\special.jl:248</a></li> <li> +(A::<b>LinearAlgebra.UnitLowerTriangular</b>, B::<b>LinearAlgebra.LowerTriangular</b>) in LinearAlgebra at <a href=\"file://C:/buildbot/worker/package_win64/build/usr/share/julia/stdlib/v1.8/LinearAlgebra/src/triangular.jl\" target=\"_blank\">D:\\Program Files\\Julia-1.8.1\\share\\julia\\stdlib\\v1.8\\LinearAlgebra\\src\\triangular.jl:643</a></li> <li> +(A::<b>LinearAlgebra.UnitLowerTriangular</b>, B::<b>LinearAlgebra.UnitLowerTriangular</b>) in LinearAlgebra at <a href=\"file://C:/buildbot/worker/package_win64/build/usr/share/julia/stdlib/v1.8/LinearAlgebra/src/triangular.jl\" target=\"_blank\">D:\\Program Files\\Julia-1.8.1\\share\\julia\\stdlib\\v1.8\\LinearAlgebra\\src\\triangular.jl:645</a></li> <li> +(UL::<b>LinearAlgebra.UnitLowerTriangular</b>, J::<b>LinearAlgebra.UniformScaling</b>) in LinearAlgebra at <a href=\"file://C:/buildbot/worker/package_win64/build/usr/share/julia/stdlib/v1.8/LinearAlgebra/src/uniformscaling.jl\" target=\"_blank\">D:\\Program Files\\Julia-1.8.1\\share\\julia\\stdlib\\v1.8\\LinearAlgebra\\src\\uniformscaling.jl:181</a></li> <li> +(A::<b>LinearAlgebra.UnitLowerTriangular</b>, B::<b>LinearAlgebra.Bidiagonal</b>) in LinearAlgebra at <a href=\"file://C:/buildbot/worker/package_win64/build/usr/share/julia/stdlib/v1.8/LinearAlgebra/src/special.jl\" target=\"_blank\">D:\\Program Files\\Julia-1.8.1\\share\\julia\\stdlib\\v1.8\\LinearAlgebra\\src\\special.jl:98</a></li> <li> +(x::<b>P</b>, y::<b>P</b>)<i> where P<:Dates.Period</i> in Dates at <a href=\"file://C:/buildbot/worker/package_win64/build/usr/share/julia/stdlib/v1.8/Dates/src/periods.jl\" target=\"_blank\">D:\\Program Files\\Julia-1.8.1\\share\\julia\\stdlib\\v1.8\\Dates\\src\\periods.jl:77</a></li> <li> +(x::<b>Dates.Period</b>, y::<b>Dates.Period</b>) in Dates at <a href=\"file://C:/buildbot/worker/package_win64/build/usr/share/julia/stdlib/v1.8/Dates/src/periods.jl\" target=\"_blank\">D:\\Program Files\\Julia-1.8.1\\share\\julia\\stdlib\\v1.8\\Dates\\src\\periods.jl:367</a></li> <li> +(y::<b>Dates.Period</b>, x::<b>Dates.CompoundPeriod</b>) in Dates at <a href=\"file://C:/buildbot/worker/package_win64/build/usr/share/julia/stdlib/v1.8/Dates/src/periods.jl\" target=\"_blank\">D:\\Program Files\\Julia-1.8.1\\share\\julia\\stdlib\\v1.8\\Dates\\src\\periods.jl:369</a></li> <li> +(y::<b>Dates.Period</b>, x::<b>Dates.TimeType</b>) in Dates at <a href=\"file://C:/buildbot/worker/package_win64/build/usr/share/julia/stdlib/v1.8/Dates/src/arithmetic.jl\" target=\"_blank\">D:\\Program Files\\Julia-1.8.1\\share\\julia\\stdlib\\v1.8\\Dates\\src\\arithmetic.jl:85</a></li> <li> +(x::<b>Dates.Period</b>, r::<b>AbstractRange{<:Dates.TimeType}</b>) in Dates at <a href=\"file://C:/buildbot/worker/package_win64/build/usr/share/julia/stdlib/v1.8/Dates/src/ranges.jl\" target=\"_blank\">D:\\Program Files\\Julia-1.8.1\\share\\julia\\stdlib\\v1.8\\Dates\\src\\ranges.jl:63</a></li> <li> +(y::<b>Union{Dates.CompoundPeriod, Dates.Period}</b>, x::<b>AbstractArray{<:Dates.TimeType}</b>) in Dates at <a href=\"file://C:/buildbot/worker/package_win64/build/usr/share/julia/stdlib/v1.8/Dates/src/deprecated.jl\" target=\"_blank\">D:\\Program Files\\Julia-1.8.1\\share\\julia\\stdlib\\v1.8\\Dates\\src\\deprecated.jl:14</a></li> <li> +(x::<b>AbstractIrrational</b>, y::<b>AbstractIrrational</b>) in Base at <a href=\"https://github.com/JuliaLang/julia/tree/afb6c60d69a38e8a2442a0c7e87c47b8880ad294/base/irrationals.jl#L158\" target=\"_blank\">irrationals.jl:158</a></li> <li> +(A::<b>LinearAlgebra.UpperHessenberg</b>, B::<b>LinearAlgebra.UpperHessenberg</b>) in LinearAlgebra at <a href=\"file://C:/buildbot/worker/package_win64/build/usr/share/julia/stdlib/v1.8/LinearAlgebra/src/hessenberg.jl\" target=\"_blank\">D:\\Program Files\\Julia-1.8.1\\share\\julia\\stdlib\\v1.8\\LinearAlgebra\\src\\hessenberg.jl:101</a></li> <li> +(H::<b>LinearAlgebra.UpperHessenberg</b>, x::<b>LinearAlgebra.UniformScaling</b>) in LinearAlgebra at <a href=\"file://C:/buildbot/worker/package_win64/build/usr/share/julia/stdlib/v1.8/LinearAlgebra/src/hessenberg.jl\" target=\"_blank\">D:\\Program Files\\Julia-1.8.1\\share\\julia\\stdlib\\v1.8\\LinearAlgebra\\src\\hessenberg.jl:108</a></li> <li> +(H::<b>LinearAlgebra.UpperHessenberg</b>, x::<b>LinearAlgebra.Diagonal</b>) in LinearAlgebra at <a href=\"file://C:/buildbot/worker/package_win64/build/usr/share/julia/stdlib/v1.8/LinearAlgebra/src/hessenberg.jl\" target=\"_blank\">D:\\Program Files\\Julia-1.8.1\\share\\julia\\stdlib\\v1.8\\LinearAlgebra\\src\\hessenberg.jl:108</a></li> <li> +(H::<b>LinearAlgebra.UpperHessenberg</b>, x::<b>LinearAlgebra.Bidiagonal</b>) in LinearAlgebra at <a href=\"file://C:/buildbot/worker/package_win64/build/usr/share/julia/stdlib/v1.8/LinearAlgebra/src/hessenberg.jl\" target=\"_blank\">D:\\Program Files\\Julia-1.8.1\\share\\julia\\stdlib\\v1.8\\LinearAlgebra\\src\\hessenberg.jl:108</a></li> <li> +(H::<b>LinearAlgebra.UpperHessenberg</b>, x::<b>LinearAlgebra.Tridiagonal</b>) in LinearAlgebra at <a href=\"file://C:/buildbot/worker/package_win64/build/usr/share/julia/stdlib/v1.8/LinearAlgebra/src/hessenberg.jl\" target=\"_blank\">D:\\Program Files\\Julia-1.8.1\\share\\julia\\stdlib\\v1.8\\LinearAlgebra\\src\\hessenberg.jl:108</a></li> <li> +(H::<b>LinearAlgebra.UpperHessenberg</b>, x::<b>LinearAlgebra.SymTridiagonal</b>) in LinearAlgebra at <a href=\"file://C:/buildbot/worker/package_win64/build/usr/share/julia/stdlib/v1.8/LinearAlgebra/src/hessenberg.jl\" target=\"_blank\">D:\\Program Files\\Julia-1.8.1\\share\\julia\\stdlib\\v1.8\\LinearAlgebra\\src\\hessenberg.jl:108</a></li> <li> +(H::<b>LinearAlgebra.UpperHessenberg</b>, x::<b>LinearAlgebra.UpperTriangular</b>) in LinearAlgebra at <a href=\"file://C:/buildbot/worker/package_win64/build/usr/share/julia/stdlib/v1.8/LinearAlgebra/src/hessenberg.jl\" target=\"_blank\">D:\\Program Files\\Julia-1.8.1\\share\\julia\\stdlib\\v1.8\\LinearAlgebra\\src\\hessenberg.jl:108</a></li> <li> +(H::<b>LinearAlgebra.UpperHessenberg</b>, x::<b>LinearAlgebra.UnitUpperTriangular</b>) in LinearAlgebra at <a href=\"file://C:/buildbot/worker/package_win64/build/usr/share/julia/stdlib/v1.8/LinearAlgebra/src/hessenberg.jl\" target=\"_blank\">D:\\Program Files\\Julia-1.8.1\\share\\julia\\stdlib\\v1.8\\LinearAlgebra\\src\\hessenberg.jl:108</a></li> <li> +(x::<b>Ptr</b>, y::<b>Integer</b>) in Base at <a href=\"https://github.com/JuliaLang/julia/tree/afb6c60d69a38e8a2442a0c7e87c47b8880ad294/base/pointer.jl#L159\" target=\"_blank\">pointer.jl:159</a></li> <li> +(J::<b>LinearAlgebra.UniformScaling</b>) in LinearAlgebra at <a href=\"file://C:/buildbot/worker/package_win64/build/usr/share/julia/stdlib/v1.8/LinearAlgebra/src/uniformscaling.jl\" target=\"_blank\">D:\\Program Files\\Julia-1.8.1\\share\\julia\\stdlib\\v1.8\\LinearAlgebra\\src\\uniformscaling.jl:149</a></li> <li> +(J::<b>LinearAlgebra.UniformScaling</b>, x::<b>Number</b>) in LinearAlgebra at <a href=\"file://C:/buildbot/worker/package_win64/build/usr/share/julia/stdlib/v1.8/LinearAlgebra/src/uniformscaling.jl\" target=\"_blank\">D:\\Program Files\\Julia-1.8.1\\share\\julia\\stdlib\\v1.8\\LinearAlgebra\\src\\uniformscaling.jl:144</a></li> <li> +(J1::<b>LinearAlgebra.UniformScaling</b>, J2::<b>LinearAlgebra.UniformScaling</b>) in LinearAlgebra at <a href=\"file://C:/buildbot/worker/package_win64/build/usr/share/julia/stdlib/v1.8/LinearAlgebra/src/uniformscaling.jl\" target=\"_blank\">D:\\Program Files\\Julia-1.8.1\\share\\julia\\stdlib\\v1.8\\LinearAlgebra\\src\\uniformscaling.jl:150</a></li> <li> +(J::<b>LinearAlgebra.UniformScaling</b>, B::<b>BitMatrix</b>) in LinearAlgebra at <a href=\"file://C:/buildbot/worker/package_win64/build/usr/share/julia/stdlib/v1.8/LinearAlgebra/src/uniformscaling.jl\" target=\"_blank\">D:\\Program Files\\Julia-1.8.1\\share\\julia\\stdlib\\v1.8\\LinearAlgebra\\src\\uniformscaling.jl:152</a></li> <li> +(x::<b>LinearAlgebra.UniformScaling</b>, H::<b>LinearAlgebra.UpperHessenberg</b>) in LinearAlgebra at <a href=\"file://C:/buildbot/worker/package_win64/build/usr/share/julia/stdlib/v1.8/LinearAlgebra/src/hessenberg.jl\" target=\"_blank\">D:\\Program Files\\Julia-1.8.1\\share\\julia\\stdlib\\v1.8\\LinearAlgebra\\src\\hessenberg.jl:109</a></li> <li> +(J::<b>LinearAlgebra.UniformScaling</b>, F::<b>LinearAlgebra.Hessenberg</b>) in LinearAlgebra at <a href=\"file://C:/buildbot/worker/package_win64/build/usr/share/julia/stdlib/v1.8/LinearAlgebra/src/hessenberg.jl\" target=\"_blank\">D:\\Program Files\\Julia-1.8.1\\share\\julia\\stdlib\\v1.8\\LinearAlgebra\\src\\hessenberg.jl:642</a></li> <li> +(A::<b>LinearAlgebra.UniformScaling</b>, B::<b>LinearAlgebra.Tridiagonal{var\"#s885\", V} where {var\"#s885\"<:Number, V<:AbstractVector{var\"#s885\"}}</b>) in LinearAlgebra at <a href=\"file://C:/buildbot/worker/package_win64/build/usr/share/julia/stdlib/v1.8/LinearAlgebra/src/special.jl\" target=\"_blank\">D:\\Program Files\\Julia-1.8.1\\share\\julia\\stdlib\\v1.8\\LinearAlgebra\\src\\special.jl:257</a></li> <li> +(A::<b>LinearAlgebra.UniformScaling</b>, B::<b>LinearAlgebra.SymTridiagonal{var\"#s885\", V} where {var\"#s885\"<:Number, V<:AbstractVector{var\"#s885\"}}</b>) in LinearAlgebra at <a href=\"file://C:/buildbot/worker/package_win64/build/usr/share/julia/stdlib/v1.8/LinearAlgebra/src/special.jl\" target=\"_blank\">D:\\Program Files\\Julia-1.8.1\\share\\julia\\stdlib\\v1.8\\LinearAlgebra\\src\\special.jl:262</a></li> <li> +(A::<b>LinearAlgebra.UniformScaling</b>, B::<b>LinearAlgebra.Bidiagonal{var\"#s885\", V} where {var\"#s885\"<:Number, V<:AbstractVector{var\"#s885\"}}</b>) in LinearAlgebra at <a href=\"file://C:/buildbot/worker/package_win64/build/usr/share/julia/stdlib/v1.8/LinearAlgebra/src/special.jl\" target=\"_blank\">D:\\Program Files\\Julia-1.8.1\\share\\julia\\stdlib\\v1.8\\LinearAlgebra\\src\\special.jl:267</a></li> <li> +(A::<b>LinearAlgebra.UniformScaling</b>, B::<b>LinearAlgebra.Diagonal{var\"#s885\", V} where {var\"#s885\"<:Number, V<:AbstractVector{var\"#s885\"}}</b>) in LinearAlgebra at <a href=\"file://C:/buildbot/worker/package_win64/build/usr/share/julia/stdlib/v1.8/LinearAlgebra/src/special.jl\" target=\"_blank\">D:\\Program Files\\Julia-1.8.1\\share\\julia\\stdlib\\v1.8\\LinearAlgebra\\src\\special.jl:272</a></li> <li> +(J::<b>LinearAlgebra.UniformScaling</b>, A::<b>AbstractMatrix</b>) in LinearAlgebra at <a href=\"file://C:/buildbot/worker/package_win64/build/usr/share/julia/stdlib/v1.8/LinearAlgebra/src/uniformscaling.jl\" target=\"_blank\">D:\\Program Files\\Julia-1.8.1\\share\\julia\\stdlib\\v1.8\\LinearAlgebra\\src\\uniformscaling.jl:153</a></li> <li> +(index1::<b>CartesianIndex{N}</b>, index2::<b>CartesianIndex{N}</b>)<i> where N</i> in Base.IteratorsMD at <a href=\"https://github.com/JuliaLang/julia/tree/afb6c60d69a38e8a2442a0c7e87c47b8880ad294/base/multidimensional.jl#L114\" target=\"_blank\">multidimensional.jl:114</a></li> <li> +(A::<b>LinearAlgebra.UpperTriangular</b>, B::<b>LinearAlgebra.UpperTriangular</b>) in LinearAlgebra at <a href=\"file://C:/buildbot/worker/package_win64/build/usr/share/julia/stdlib/v1.8/LinearAlgebra/src/triangular.jl\" target=\"_blank\">D:\\Program Files\\Julia-1.8.1\\share\\julia\\stdlib\\v1.8\\LinearAlgebra\\src\\triangular.jl:638</a></li> <li> +(A::<b>LinearAlgebra.UpperTriangular</b>, B::<b>LinearAlgebra.UnitUpperTriangular</b>) in LinearAlgebra at <a href=\"file://C:/buildbot/worker/package_win64/build/usr/share/julia/stdlib/v1.8/LinearAlgebra/src/triangular.jl\" target=\"_blank\">D:\\Program Files\\Julia-1.8.1\\share\\julia\\stdlib\\v1.8\\LinearAlgebra\\src\\triangular.jl:640</a></li> <li> +(x::<b>LinearAlgebra.UpperTriangular</b>, H::<b>LinearAlgebra.UpperHessenberg</b>) in LinearAlgebra at <a href=\"file://C:/buildbot/worker/package_win64/build/usr/share/julia/stdlib/v1.8/LinearAlgebra/src/hessenberg.jl\" target=\"_blank\">D:\\Program Files\\Julia-1.8.1\\share\\julia\\stdlib\\v1.8\\LinearAlgebra\\src\\hessenberg.jl:109</a></li> <li> +(A::<b>LinearAlgebra.UpperTriangular</b>, B::<b>LinearAlgebra.Bidiagonal</b>) in LinearAlgebra at <a href=\"file://C:/buildbot/worker/package_win64/build/usr/share/julia/stdlib/v1.8/LinearAlgebra/src/special.jl\" target=\"_blank\">D:\\Program Files\\Julia-1.8.1\\share\\julia\\stdlib\\v1.8\\LinearAlgebra\\src\\special.jl:98</a></li> <li> +(r1::<b>OrdinalRange</b>, r2::<b>OrdinalRange</b>) in Base at <a href=\"https://github.com/JuliaLang/julia/tree/afb6c60d69a38e8a2442a0c7e87c47b8880ad294/base/range.jl#L1424\" target=\"_blank\">range.jl:1424</a></li> <li> +(y::<b>AbstractFloat</b>, x::<b>Bool</b>) in Base at <a href=\"https://github.com/JuliaLang/julia/tree/afb6c60d69a38e8a2442a0c7e87c47b8880ad294/base/bool.jl#L172\" target=\"_blank\">bool.jl:172</a></li> <li> +(r1::<b>LinRange{T}</b>, r2::<b>LinRange{T}</b>)<i> where T</i> in Base at <a href=\"https://github.com/JuliaLang/julia/tree/afb6c60d69a38e8a2442a0c7e87c47b8880ad294/base/range.jl#L1431\" target=\"_blank\">range.jl:1431</a></li> <li> +(r1::<b>Union{LinRange, OrdinalRange, StepRangeLen}</b>, r2::<b>Union{LinRange, OrdinalRange, StepRangeLen}</b>) in Base at <a href=\"https://github.com/JuliaLang/julia/tree/afb6c60d69a38e8a2442a0c7e87c47b8880ad294/base/range.jl#L1440\" target=\"_blank\">range.jl:1440</a></li> <li> +(A::<b>SparseArrays.AbstractSparseMatrixCSC</b>, B::<b>SparseArrays.AbstractSparseMatrixCSC</b>) in SparseArrays at <a href=\"file://C:/buildbot/worker/package_win64/build/usr/share/julia/stdlib/v1.8/SparseArrays/src/sparsematrix.jl\" target=\"_blank\">D:\\Program Files\\Julia-1.8.1\\share\\julia\\stdlib\\v1.8\\SparseArrays\\src\\sparsematrix.jl:1829</a></li> <li> +(x::<b>SparseArrays.AbstractSparseVector</b>, y::<b>SparseArrays.AbstractSparseVector</b>) in SparseArrays at <a href=\"file://C:/buildbot/worker/package_win64/build/usr/share/julia/stdlib/v1.8/SparseArrays/src/sparsevector.jl\" target=\"_blank\">D:\\Program Files\\Julia-1.8.1\\share\\julia\\stdlib\\v1.8\\SparseArrays\\src\\sparsevector.jl:1384</a></li> <li> +(A::<b>SparseArrays.AbstractSparseMatrixCSC</b>, B::<b>Array</b>) in SparseArrays at <a href=\"file://C:/buildbot/worker/package_win64/build/usr/share/julia/stdlib/v1.8/SparseArrays/src/sparsematrix.jl\" target=\"_blank\">D:\\Program Files\\Julia-1.8.1\\share\\julia\\stdlib\\v1.8\\SparseArrays\\src\\sparsematrix.jl:1832</a></li> <li> +(A::<b>SparseArrays.AbstractSparseMatrixCSC</b>, J::<b>LinearAlgebra.UniformScaling</b>) in SparseArrays at <a href=\"file://C:/buildbot/worker/package_win64/build/usr/share/julia/stdlib/v1.8/SparseArrays/src/sparsematrix.jl\" target=\"_blank\">D:\\Program Files\\Julia-1.8.1\\share\\julia\\stdlib\\v1.8\\SparseArrays\\src\\sparsematrix.jl:3821</a></li> <li> +(x::<b>Rational</b>, y::<b>Integer</b>) in Base at <a href=\"https://github.com/JuliaLang/julia/tree/afb6c60d69a38e8a2442a0c7e87c47b8880ad294/base/rational.jl#L313\" target=\"_blank\">rational.jl:313</a></li> <li> +(y::<b>Dates.TimeType</b>, x::<b>StridedArray{<:Union{Dates.CompoundPeriod, Dates.Period}}</b>) in Dates at <a href=\"file://C:/buildbot/worker/package_win64/build/usr/share/julia/stdlib/v1.8/Dates/src/deprecated.jl\" target=\"_blank\">D:\\Program Files\\Julia-1.8.1\\share\\julia\\stdlib\\v1.8\\Dates\\src\\deprecated.jl:18</a></li> <li> +(A::<b>Array</b>, Bs::<b>Array...</b>) in Base at <a href=\"https://github.com/JuliaLang/julia/tree/afb6c60d69a38e8a2442a0c7e87c47b8880ad294/base/arraymath.jl#L12\" target=\"_blank\">arraymath.jl:12</a></li> <li> +(X::<b>StridedArray{<:Union{Dates.CompoundPeriod, Dates.Period}}</b>, Y::<b>StridedArray{<:Union{Dates.CompoundPeriod, Dates.Period}}</b>) in Dates at <a href=\"file://C:/buildbot/worker/package_win64/build/usr/share/julia/stdlib/v1.8/Dates/src/deprecated.jl\" target=\"_blank\">D:\\Program Files\\Julia-1.8.1\\share\\julia\\stdlib\\v1.8\\Dates\\src\\deprecated.jl:62</a></li> <li> +(A::<b>Array</b>, B::<b>SparseArrays.AbstractSparseMatrixCSC</b>) in SparseArrays at <a href=\"file://C:/buildbot/worker/package_win64/build/usr/share/julia/stdlib/v1.8/SparseArrays/src/sparsematrix.jl\" target=\"_blank\">D:\\Program Files\\Julia-1.8.1\\share\\julia\\stdlib\\v1.8\\SparseArrays\\src\\sparsematrix.jl:1833</a></li> <li> +(x::<b>StridedArray{<:Union{Dates.CompoundPeriod, Dates.Period}}</b>) in Dates at <a href=\"file://C:/buildbot/worker/package_win64/build/usr/share/julia/stdlib/v1.8/Dates/src/deprecated.jl\" target=\"_blank\">D:\\Program Files\\Julia-1.8.1\\share\\julia\\stdlib\\v1.8\\Dates\\src\\deprecated.jl:55</a></li> <li> +(x::<b>StridedArray{<:Union{Dates.CompoundPeriod, Dates.Period}}</b>, y::<b>Dates.TimeType</b>) in Dates at <a href=\"file://C:/buildbot/worker/package_win64/build/usr/share/julia/stdlib/v1.8/Dates/src/deprecated.jl\" target=\"_blank\">D:\\Program Files\\Julia-1.8.1\\share\\julia\\stdlib\\v1.8\\Dates\\src\\deprecated.jl:10</a></li> <li> +(A::<b>LinearAlgebra.UnitUpperTriangular</b>, B::<b>LinearAlgebra.UpperTriangular</b>) in LinearAlgebra at <a href=\"file://C:/buildbot/worker/package_win64/build/usr/share/julia/stdlib/v1.8/LinearAlgebra/src/triangular.jl\" target=\"_blank\">D:\\Program Files\\Julia-1.8.1\\share\\julia\\stdlib\\v1.8\\LinearAlgebra\\src\\triangular.jl:642</a></li> <li> +(A::<b>LinearAlgebra.UnitUpperTriangular</b>, B::<b>LinearAlgebra.UnitUpperTriangular</b>) in LinearAlgebra at <a href=\"file://C:/buildbot/worker/package_win64/build/usr/share/julia/stdlib/v1.8/LinearAlgebra/src/triangular.jl\" target=\"_blank\">D:\\Program Files\\Julia-1.8.1\\share\\julia\\stdlib\\v1.8\\LinearAlgebra\\src\\triangular.jl:644</a></li> <li> +(A::<b>LinearAlgebra.AbstractTriangular</b>, B::<b>LinearAlgebra.AbstractTriangular</b>) in LinearAlgebra at <a href=\"file://C:/buildbot/worker/package_win64/build/usr/share/julia/stdlib/v1.8/LinearAlgebra/src/triangular.jl\" target=\"_blank\">D:\\Program Files\\Julia-1.8.1\\share\\julia\\stdlib\\v1.8\\LinearAlgebra\\src\\triangular.jl:646</a></li> <li> +(UL::<b>LinearAlgebra.UnitUpperTriangular</b>, J::<b>LinearAlgebra.UniformScaling</b>) in LinearAlgebra at <a href=\"file://C:/buildbot/worker/package_win64/build/usr/share/julia/stdlib/v1.8/LinearAlgebra/src/uniformscaling.jl\" target=\"_blank\">D:\\Program Files\\Julia-1.8.1\\share\\julia\\stdlib\\v1.8\\LinearAlgebra\\src\\uniformscaling.jl:181</a></li> <li> +(x::<b>LinearAlgebra.UnitUpperTriangular</b>, H::<b>LinearAlgebra.UpperHessenberg</b>) in LinearAlgebra at <a href=\"file://C:/buildbot/worker/package_win64/build/usr/share/julia/stdlib/v1.8/LinearAlgebra/src/hessenberg.jl\" target=\"_blank\">D:\\Program Files\\Julia-1.8.1\\share\\julia\\stdlib\\v1.8\\LinearAlgebra\\src\\hessenberg.jl:109</a></li> <li> +(A::<b>LinearAlgebra.UnitUpperTriangular</b>, B::<b>LinearAlgebra.Bidiagonal</b>) in LinearAlgebra at <a href=\"file://C:/buildbot/worker/package_win64/build/usr/share/julia/stdlib/v1.8/LinearAlgebra/src/special.jl\" target=\"_blank\">D:\\Program Files\\Julia-1.8.1\\share\\julia\\stdlib\\v1.8\\LinearAlgebra\\src\\special.jl:98</a></li> <li> +(A::<b>AbstractArray</b>, B::<b>AbstractArray</b>) in Base at <a href=\"https://github.com/JuliaLang/julia/tree/afb6c60d69a38e8a2442a0c7e87c47b8880ad294/base/arraymath.jl#L6\" target=\"_blank\">arraymath.jl:6</a></li> <li> +(x::<b>Dates.Time</b>, y::<b>Dates.TimePeriod</b>) in Dates at <a href=\"file://C:/buildbot/worker/package_win64/build/usr/share/julia/stdlib/v1.8/Dates/src/arithmetic.jl\" target=\"_blank\">D:\\Program Files\\Julia-1.8.1\\share\\julia\\stdlib\\v1.8\\Dates\\src\\arithmetic.jl:83</a></li> <li> +(t::<b>Dates.Time</b>, dt::<b>Dates.Date</b>) in Dates at <a href=\"file://C:/buildbot/worker/package_win64/build/usr/share/julia/stdlib/v1.8/Dates/src/arithmetic.jl\" target=\"_blank\">D:\\Program Files\\Julia-1.8.1\\share\\julia\\stdlib\\v1.8\\Dates\\src\\arithmetic.jl:20</a></li> <li> +(level::<b>Base.CoreLogging.LogLevel</b>, inc::<b>Integer</b>) in Base.CoreLogging at <a href=\"https://github.com/JuliaLang/julia/tree/afb6c60d69a38e8a2442a0c7e87c47b8880ad294/base/logging.jl#L131\" target=\"_blank\">logging.jl:131</a></li> <li> +(x::<b>Bool</b>) in Base at <a href=\"https://github.com/JuliaLang/julia/tree/afb6c60d69a38e8a2442a0c7e87c47b8880ad294/base/bool.jl#L159\" target=\"_blank\">bool.jl:159</a></li> <li> +(x::<b>Integer</b>, y::<b>Ptr</b>) in Base at <a href=\"https://github.com/JuliaLang/julia/tree/afb6c60d69a38e8a2442a0c7e87c47b8880ad294/base/pointer.jl#L161\" target=\"_blank\">pointer.jl:161</a></li> <li> +(y::<b>Integer</b>, x::<b>Rational</b>) in Base at <a href=\"https://github.com/JuliaLang/julia/tree/afb6c60d69a38e8a2442a0c7e87c47b8880ad294/base/rational.jl#L320\" target=\"_blank\">rational.jl:320</a></li> <li> +(x::<b>Integer</b>, y::<b>AbstractChar</b>) in Base at <a href=\"https://github.com/JuliaLang/julia/tree/afb6c60d69a38e8a2442a0c7e87c47b8880ad294/base/char.jl#L247\" target=\"_blank\">char.jl:247</a></li> <li> +(x::<b>Bool</b>, y::<b>T</b>)<i> where T<:AbstractFloat</i> in Base at <a href=\"https://github.com/JuliaLang/julia/tree/afb6c60d69a38e8a2442a0c7e87c47b8880ad294/base/bool.jl#L169\" target=\"_blank\">bool.jl:169</a></li> <li> +(x::<b>Bool</b>, y::<b>Bool</b>) in Base at <a href=\"https://github.com/JuliaLang/julia/tree/afb6c60d69a38e8a2442a0c7e87c47b8880ad294/base/bool.jl#L162\" target=\"_blank\">bool.jl:162</a></li> <li> +(x::<b>Bool</b>, z::<b>Complex{Bool}</b>) in Base at <a href=\"https://github.com/JuliaLang/julia/tree/afb6c60d69a38e8a2442a0c7e87c47b8880ad294/base/complex.jl#L299\" target=\"_blank\">complex.jl:299</a></li> <li> +(x::<b>Real</b>, z::<b>Complex{Bool}</b>) in Base at <a href=\"https://github.com/JuliaLang/julia/tree/afb6c60d69a38e8a2442a0c7e87c47b8880ad294/base/complex.jl#L313\" target=\"_blank\">complex.jl:313</a></li> <li> +(x::<b>Bool</b>, z::<b>Complex</b>) in Base at <a href=\"https://github.com/JuliaLang/julia/tree/afb6c60d69a38e8a2442a0c7e87c47b8880ad294/base/complex.jl#L306\" target=\"_blank\">complex.jl:306</a></li> <li> +(x::<b>Real</b>, z::<b>Complex</b>) in Base at <a href=\"https://github.com/JuliaLang/julia/tree/afb6c60d69a38e8a2442a0c7e87c47b8880ad294/base/complex.jl#L325\" target=\"_blank\">complex.jl:325</a></li> <li> +(a::<b>Pkg.Resolve.FieldValue</b>, b::<b>Pkg.Resolve.FieldValue</b>) in Pkg.Resolve at <a href=\"file://C:/buildbot/worker/package_win64/build/usr/share/julia/stdlib/v1.8/Pkg/src/Resolve/fieldvalues.jl\" target=\"_blank\">D:\\Program Files\\Julia-1.8.1\\share\\julia\\stdlib\\v1.8\\Pkg\\src\\Resolve\\fieldvalues.jl:43</a></li> <li> +(x::<b>BigInt</b>, c::<b>Union{UInt16, UInt32, UInt8}</b>) in Base.GMP at <a href=\"https://github.com/JuliaLang/julia/tree/afb6c60d69a38e8a2442a0c7e87c47b8880ad294/base/gmp.jl#L530\" target=\"_blank\">gmp.jl:530</a></li> <li> +(x::<b>BigInt</b>, c::<b>Union{Int16, Int32, Int8}</b>) in Base.GMP at <a href=\"https://github.com/JuliaLang/julia/tree/afb6c60d69a38e8a2442a0c7e87c47b8880ad294/base/gmp.jl#L536\" target=\"_blank\">gmp.jl:536</a></li> <li> +(x::<b>BigInt</b>, y::<b>BigInt</b>) in Base.GMP at <a href=\"https://github.com/JuliaLang/julia/tree/afb6c60d69a38e8a2442a0c7e87c47b8880ad294/base/gmp.jl#L482\" target=\"_blank\">gmp.jl:482</a></li> <li> +(a::<b>BigInt</b>, b::<b>BigInt</b>, c::<b>BigInt</b>) in Base.GMP at <a href=\"https://github.com/JuliaLang/julia/tree/afb6c60d69a38e8a2442a0c7e87c47b8880ad294/base/gmp.jl#L522\" target=\"_blank\">gmp.jl:522</a></li> <li> +(a::<b>BigInt</b>, b::<b>BigInt</b>, c::<b>BigInt</b>, d::<b>BigInt</b>) in Base.GMP at <a href=\"https://github.com/JuliaLang/julia/tree/afb6c60d69a38e8a2442a0c7e87c47b8880ad294/base/gmp.jl#L523\" target=\"_blank\">gmp.jl:523</a></li> <li> +(a::<b>BigInt</b>, b::<b>BigInt</b>, c::<b>BigInt</b>, d::<b>BigInt</b>, e::<b>BigInt</b>) in Base.GMP at <a href=\"https://github.com/JuliaLang/julia/tree/afb6c60d69a38e8a2442a0c7e87c47b8880ad294/base/gmp.jl#L524\" target=\"_blank\">gmp.jl:524</a></li> <li> +(x::<b>BigInt</b>, y::<b>BigInt</b>, rest::<b>BigInt...</b>) in Base.GMP at <a href=\"https://github.com/JuliaLang/julia/tree/afb6c60d69a38e8a2442a0c7e87c47b8880ad294/base/gmp.jl#L657\" target=\"_blank\">gmp.jl:657</a></li> <li> +(a::<b>Integer</b>, b::<b>Integer</b>) in Base at <a href=\"https://github.com/JuliaLang/julia/tree/afb6c60d69a38e8a2442a0c7e87c47b8880ad294/base/int.jl#L987\" target=\"_blank\">int.jl:987</a></li> <li> +(c::<b>BigInt</b>, x::<b>BigFloat</b>) in Base.MPFR at <a href=\"https://github.com/JuliaLang/julia/tree/afb6c60d69a38e8a2442a0c7e87c47b8880ad294/base/mpfr.jl#L422\" target=\"_blank\">mpfr.jl:422</a></li> <li> +(dt::<b>Dates.DateTime</b>, y::<b>Dates.Year</b>) in Dates at <a href=\"file://C:/buildbot/worker/package_win64/build/usr/share/julia/stdlib/v1.8/Dates/src/arithmetic.jl\" target=\"_blank\">D:\\Program Files\\Julia-1.8.1\\share\\julia\\stdlib\\v1.8\\Dates\\src\\arithmetic.jl:23</a></li> <li> +(dt::<b>Dates.DateTime</b>, z::<b>Dates.Month</b>) in Dates at <a href=\"file://C:/buildbot/worker/package_win64/build/usr/share/julia/stdlib/v1.8/Dates/src/arithmetic.jl\" target=\"_blank\">D:\\Program Files\\Julia-1.8.1\\share\\julia\\stdlib\\v1.8\\Dates\\src\\arithmetic.jl:47</a></li> <li> +(x::<b>Dates.DateTime</b>, y::<b>Dates.Quarter</b>) in Dates at <a href=\"file://C:/buildbot/worker/package_win64/build/usr/share/julia/stdlib/v1.8/Dates/src/arithmetic.jl\" target=\"_blank\">D:\\Program Files\\Julia-1.8.1\\share\\julia\\stdlib\\v1.8\\Dates\\src\\arithmetic.jl:75</a></li> <li> +(x::<b>Dates.DateTime</b>, y::<b>Dates.Period</b>) in Dates at <a href=\"file://C:/buildbot/worker/package_win64/build/usr/share/julia/stdlib/v1.8/Dates/src/arithmetic.jl\" target=\"_blank\">D:\\Program Files\\Julia-1.8.1\\share\\julia\\stdlib\\v1.8\\Dates\\src\\arithmetic.jl:81</a></li> <li> +(a::<b>Pkg.Resolve.VersionWeight</b>, b::<b>Pkg.Resolve.VersionWeight</b>) in Pkg.Resolve at <a href=\"file://C:/buildbot/worker/package_win64/build/usr/share/julia/stdlib/v1.8/Pkg/src/Resolve/versionweights.jl\" target=\"_blank\">D:\\Program Files\\Julia-1.8.1\\share\\julia\\stdlib\\v1.8\\Pkg\\src\\Resolve\\versionweights.jl:22</a></li> <li> +(x::<b>BigFloat</b>, c::<b>Union{UInt16, UInt32, UInt8}</b>) in Base.MPFR at <a href=\"https://github.com/JuliaLang/julia/tree/afb6c60d69a38e8a2442a0c7e87c47b8880ad294/base/mpfr.jl#L393\" target=\"_blank\">mpfr.jl:393</a></li> <li> +(x::<b>BigFloat</b>, c::<b>Union{Int16, Int32, Int8}</b>) in Base.MPFR at <a href=\"https://github.com/JuliaLang/julia/tree/afb6c60d69a38e8a2442a0c7e87c47b8880ad294/base/mpfr.jl#L401\" target=\"_blank\">mpfr.jl:401</a></li> <li> +(x::<b>BigFloat</b>, c::<b>Union{Float16, Float32, Float64}</b>) in Base.MPFR at <a href=\"https://github.com/JuliaLang/julia/tree/afb6c60d69a38e8a2442a0c7e87c47b8880ad294/base/mpfr.jl#L409\" target=\"_blank\">mpfr.jl:409</a></li> <li> +(x::<b>BigFloat</b>, y::<b>BigFloat</b>) in Base.MPFR at <a href=\"https://github.com/JuliaLang/julia/tree/afb6c60d69a38e8a2442a0c7e87c47b8880ad294/base/mpfr.jl#L386\" target=\"_blank\">mpfr.jl:386</a></li> <li> +(x::<b>BigFloat</b>, c::<b>BigInt</b>) in Base.MPFR at <a href=\"https://github.com/JuliaLang/julia/tree/afb6c60d69a38e8a2442a0c7e87c47b8880ad294/base/mpfr.jl#L417\" target=\"_blank\">mpfr.jl:417</a></li> <li> +(a::<b>BigFloat</b>, b::<b>BigFloat</b>, c::<b>BigFloat</b>) in Base.MPFR at <a href=\"https://github.com/JuliaLang/julia/tree/afb6c60d69a38e8a2442a0c7e87c47b8880ad294/base/mpfr.jl#L558\" target=\"_blank\">mpfr.jl:558</a></li> <li> +(a::<b>BigFloat</b>, b::<b>BigFloat</b>, c::<b>BigFloat</b>, d::<b>BigFloat</b>) in Base.MPFR at <a href=\"https://github.com/JuliaLang/julia/tree/afb6c60d69a38e8a2442a0c7e87c47b8880ad294/base/mpfr.jl#L564\" target=\"_blank\">mpfr.jl:564</a></li> <li> +(a::<b>BigFloat</b>, b::<b>BigFloat</b>, c::<b>BigFloat</b>, d::<b>BigFloat</b>, e::<b>BigFloat</b>) in Base.MPFR at <a href=\"https://github.com/JuliaLang/julia/tree/afb6c60d69a38e8a2442a0c7e87c47b8880ad294/base/mpfr.jl#L571\" target=\"_blank\">mpfr.jl:571</a></li> <li> +(z::<b>Complex{Bool}</b>, x::<b>Bool</b>) in Base at <a href=\"https://github.com/JuliaLang/julia/tree/afb6c60d69a38e8a2442a0c7e87c47b8880ad294/base/complex.jl#L300\" target=\"_blank\">complex.jl:300</a></li> <li> +(z::<b>Complex</b>, x::<b>Bool</b>) in Base at <a href=\"https://github.com/JuliaLang/julia/tree/afb6c60d69a38e8a2442a0c7e87c47b8880ad294/base/complex.jl#L307\" target=\"_blank\">complex.jl:307</a></li> <li> +(z::<b>Complex{Bool}</b>, x::<b>Real</b>) in Base at <a href=\"https://github.com/JuliaLang/julia/tree/afb6c60d69a38e8a2442a0c7e87c47b8880ad294/base/complex.jl#L314\" target=\"_blank\">complex.jl:314</a></li> <li> +(z::<b>Complex</b>) in Base at <a href=\"https://github.com/JuliaLang/julia/tree/afb6c60d69a38e8a2442a0c7e87c47b8880ad294/base/complex.jl#L286\" target=\"_blank\">complex.jl:286</a></li> <li> +(z::<b>Complex</b>, x::<b>Real</b>) in Base at <a href=\"https://github.com/JuliaLang/julia/tree/afb6c60d69a38e8a2442a0c7e87c47b8880ad294/base/complex.jl#L326\" target=\"_blank\">complex.jl:326</a></li> <li> +(x::<b>Dates.CompoundPeriod</b>, y::<b>Dates.Period</b>) in Dates at <a href=\"file://C:/buildbot/worker/package_win64/build/usr/share/julia/stdlib/v1.8/Dates/src/periods.jl\" target=\"_blank\">D:\\Program Files\\Julia-1.8.1\\share\\julia\\stdlib\\v1.8\\Dates\\src\\periods.jl:368</a></li> <li> +(x::<b>Dates.CompoundPeriod</b>, y::<b>Dates.TimeType</b>) in Dates at <a href=\"file://C:/buildbot/worker/package_win64/build/usr/share/julia/stdlib/v1.8/Dates/src/periods.jl\" target=\"_blank\">D:\\Program Files\\Julia-1.8.1\\share\\julia\\stdlib\\v1.8\\Dates\\src\\periods.jl:398</a></li> <li> +(x::<b>Dates.CompoundPeriod</b>, y::<b>Dates.CompoundPeriod</b>) in Dates at <a href=\"file://C:/buildbot/worker/package_win64/build/usr/share/julia/stdlib/v1.8/Dates/src/periods.jl\" target=\"_blank\">D:\\Program Files\\Julia-1.8.1\\share\\julia\\stdlib\\v1.8\\Dates\\src\\periods.jl:370</a></li> <li> +(::<b>Missing</b>) in Base at <a href=\"https://github.com/JuliaLang/julia/tree/afb6c60d69a38e8a2442a0c7e87c47b8880ad294/base/missing.jl#L101\" target=\"_blank\">missing.jl:101</a></li> <li> +(::<b>Missing</b>, ::<b>Number</b>) in Base at <a href=\"https://github.com/JuliaLang/julia/tree/afb6c60d69a38e8a2442a0c7e87c47b8880ad294/base/missing.jl#L123\" target=\"_blank\">missing.jl:123</a></li> <li> +(x::<b>Missing</b>, y::<b>Dates.AbstractTime</b>) in Dates at <a href=\"file://C:/buildbot/worker/package_win64/build/usr/share/julia/stdlib/v1.8/Dates/src/arithmetic.jl\" target=\"_blank\">D:\\Program Files\\Julia-1.8.1\\share\\julia\\stdlib\\v1.8\\Dates\\src\\arithmetic.jl:89</a></li> <li> +(::<b>Missing</b>, ::<b>Missing</b>) in Base at <a href=\"https://github.com/JuliaLang/julia/tree/afb6c60d69a38e8a2442a0c7e87c47b8880ad294/base/missing.jl#L122\" target=\"_blank\">missing.jl:122</a></li> <li> +(dt::<b>Dates.Date</b>, t::<b>Dates.Time</b>) in Dates at <a href=\"file://C:/buildbot/worker/package_win64/build/usr/share/julia/stdlib/v1.8/Dates/src/arithmetic.jl\" target=\"_blank\">D:\\Program Files\\Julia-1.8.1\\share\\julia\\stdlib\\v1.8\\Dates\\src\\arithmetic.jl:19</a></li> <li> +(dt::<b>Dates.Date</b>, y::<b>Dates.Year</b>) in Dates at <a href=\"file://C:/buildbot/worker/package_win64/build/usr/share/julia/stdlib/v1.8/Dates/src/arithmetic.jl\" target=\"_blank\">D:\\Program Files\\Julia-1.8.1\\share\\julia\\stdlib\\v1.8\\Dates\\src\\arithmetic.jl:27</a></li> <li> +(dt::<b>Dates.Date</b>, z::<b>Dates.Month</b>) in Dates at <a href=\"file://C:/buildbot/worker/package_win64/build/usr/share/julia/stdlib/v1.8/Dates/src/arithmetic.jl\" target=\"_blank\">D:\\Program Files\\Julia-1.8.1\\share\\julia\\stdlib\\v1.8\\Dates\\src\\arithmetic.jl:54</a></li> <li> +(x::<b>Dates.Date</b>, y::<b>Dates.Quarter</b>) in Dates at <a href=\"file://C:/buildbot/worker/package_win64/build/usr/share/julia/stdlib/v1.8/Dates/src/arithmetic.jl\" target=\"_blank\">D:\\Program Files\\Julia-1.8.1\\share\\julia\\stdlib\\v1.8\\Dates\\src\\arithmetic.jl:73</a></li> <li> +(x::<b>Dates.Date</b>, y::<b>Dates.Week</b>) in Dates at <a href=\"file://C:/buildbot/worker/package_win64/build/usr/share/julia/stdlib/v1.8/Dates/src/arithmetic.jl\" target=\"_blank\">D:\\Program Files\\Julia-1.8.1\\share\\julia\\stdlib\\v1.8\\Dates\\src\\arithmetic.jl:77</a></li> <li> +(x::<b>Dates.Date</b>, y::<b>Dates.Day</b>) in Dates at <a href=\"file://C:/buildbot/worker/package_win64/build/usr/share/julia/stdlib/v1.8/Dates/src/arithmetic.jl\" target=\"_blank\">D:\\Program Files\\Julia-1.8.1\\share\\julia\\stdlib\\v1.8\\Dates\\src\\arithmetic.jl:79</a></li> <li> +(x::<b>Dates.TimeType</b>) in Dates at <a href=\"file://C:/buildbot/worker/package_win64/build/usr/share/julia/stdlib/v1.8/Dates/src/arithmetic.jl\" target=\"_blank\">D:\\Program Files\\Julia-1.8.1\\share\\julia\\stdlib\\v1.8\\Dates\\src\\arithmetic.jl:8</a></li> <li> +(x::<b>Dates.AbstractTime</b>, y::<b>Missing</b>) in Dates at <a href=\"file://C:/buildbot/worker/package_win64/build/usr/share/julia/stdlib/v1.8/Dates/src/arithmetic.jl\" target=\"_blank\">D:\\Program Files\\Julia-1.8.1\\share\\julia\\stdlib\\v1.8\\Dates\\src\\arithmetic.jl:88</a></li> <li> +(a::<b>Dates.TimeType</b>, b::<b>Dates.Period</b>, c::<b>Dates.Period</b>) in Dates at <a href=\"file://C:/buildbot/worker/package_win64/build/usr/share/julia/stdlib/v1.8/Dates/src/periods.jl\" target=\"_blank\">D:\\Program Files\\Julia-1.8.1\\share\\julia\\stdlib\\v1.8\\Dates\\src\\periods.jl:389</a></li> <li> +(a::<b>Dates.TimeType</b>, b::<b>Dates.Period</b>, c::<b>Dates.Period</b>, d::<b>Dates.Period...</b>) in Dates at <a href=\"file://C:/buildbot/worker/package_win64/build/usr/share/julia/stdlib/v1.8/Dates/src/periods.jl\" target=\"_blank\">D:\\Program Files\\Julia-1.8.1\\share\\julia\\stdlib\\v1.8\\Dates\\src\\periods.jl:390</a></li> <li> +(x::<b>Dates.TimeType</b>, y::<b>Dates.CompoundPeriod</b>) in Dates at <a href=\"file://C:/buildbot/worker/package_win64/build/usr/share/julia/stdlib/v1.8/Dates/src/periods.jl\" target=\"_blank\">D:\\Program Files\\Julia-1.8.1\\share\\julia\\stdlib\\v1.8\\Dates\\src\\periods.jl:392</a></li> <li> +(x::<b>Rational{BigInt}</b>, y::<b>Rational{BigInt}</b>) in Base.GMP.MPQ at <a href=\"https://github.com/JuliaLang/julia/tree/afb6c60d69a38e8a2442a0c7e87c47b8880ad294/base/gmp.jl#L918\" target=\"_blank\">gmp.jl:918</a></li> <li> +(x::<b>Rational</b>) in Base at <a href=\"https://github.com/JuliaLang/julia/tree/afb6c60d69a38e8a2442a0c7e87c47b8880ad294/base/rational.jl#L270\" target=\"_blank\">rational.jl:270</a></li> <li> +(x::<b>Number</b>, y::<b>Base.TwicePrecision</b>) in Base at <a href=\"https://github.com/JuliaLang/julia/tree/afb6c60d69a38e8a2442a0c7e87c47b8880ad294/base/twiceprecision.jl#L294\" target=\"_blank\">twiceprecision.jl:294</a></li> <li> +(::<b>Number</b>, ::<b>Missing</b>) in Base at <a href=\"https://github.com/JuliaLang/julia/tree/afb6c60d69a38e8a2442a0c7e87c47b8880ad294/base/missing.jl#L124\" target=\"_blank\">missing.jl:124</a></li> <li> +(x::<b>Number</b>, J::<b>LinearAlgebra.UniformScaling</b>) in LinearAlgebra at <a href=\"file://C:/buildbot/worker/package_win64/build/usr/share/julia/stdlib/v1.8/LinearAlgebra/src/uniformscaling.jl\" target=\"_blank\">D:\\Program Files\\Julia-1.8.1\\share\\julia\\stdlib\\v1.8\\LinearAlgebra\\src\\uniformscaling.jl:145</a></li> <li> +(x::<b>Rational</b>, y::<b>Rational</b>) in Base at <a href=\"https://github.com/JuliaLang/julia/tree/afb6c60d69a38e8a2442a0c7e87c47b8880ad294/base/rational.jl#L284\" target=\"_blank\">rational.jl:284</a></li> <li> +(x::<b>Number</b>) in Base at <a href=\"https://github.com/JuliaLang/julia/tree/afb6c60d69a38e8a2442a0c7e87c47b8880ad294/base/operators.jl#L528\" target=\"_blank\">operators.jl:528</a></li> <li> +(x::<b>T</b>, y::<b>T</b>)<i> where T<:Number</i> in Base at <a href=\"https://github.com/JuliaLang/julia/tree/afb6c60d69a38e8a2442a0c7e87c47b8880ad294/base/promotion.jl#L463\" target=\"_blank\">promotion.jl:463</a></li> <li> +(x::<b>Number</b>, y::<b>Number</b>) in Base at <a href=\"https://github.com/JuliaLang/julia/tree/afb6c60d69a38e8a2442a0c7e87c47b8880ad294/base/promotion.jl#L388\" target=\"_blank\">promotion.jl:388</a></li> <li> +(B::<b>BitMatrix</b>, J::<b>LinearAlgebra.UniformScaling</b>) in LinearAlgebra at <a href=\"file://C:/buildbot/worker/package_win64/build/usr/share/julia/stdlib/v1.8/LinearAlgebra/src/uniformscaling.jl\" target=\"_blank\">D:\\Program Files\\Julia-1.8.1\\share\\julia\\stdlib\\v1.8\\LinearAlgebra\\src\\uniformscaling.jl:151</a></li> <li> +(A::<b>AbstractMatrix</b>, J::<b>LinearAlgebra.UniformScaling</b>) in LinearAlgebra at <a href=\"file://C:/buildbot/worker/package_win64/build/usr/share/julia/stdlib/v1.8/LinearAlgebra/src/uniformscaling.jl\" target=\"_blank\">D:\\Program Files\\Julia-1.8.1\\share\\julia\\stdlib\\v1.8\\LinearAlgebra\\src\\uniformscaling.jl:214</a></li> <li> +(x::<b>AbstractArray{<:Number}</b>) in Base at <a href=\"https://github.com/JuliaLang/julia/tree/afb6c60d69a38e8a2442a0c7e87c47b8880ad294/base/abstractarraymath.jl#L220\" target=\"_blank\">abstractarraymath.jl:220</a></li> <li> +(a, b, c, xs...) in Base at <a href=\"https://github.com/JuliaLang/julia/tree/afb6c60d69a38e8a2442a0c7e87c47b8880ad294/base/operators.jl#L591\" target=\"_blank\">operators.jl:591</a></li> </ul>"
      ],
      "text/plain": [
       "# 206 methods for generic function \"+\":\n",
       "[1] +(x::T, y::T) where T<:Union{Int128, Int16, Int32, Int64, Int8, UInt128, UInt16, UInt32, UInt64, UInt8} in Base at int.jl:87\n",
       "[2] +(x::T, y::T) where T<:Union{Float16, Float32, Float64} in Base at float.jl:383\n",
       "[3] +(c::Union{UInt16, UInt32, UInt8}, x::BigInt) in Base.GMP at gmp.jl:531\n",
       "[4] +(c::Union{Int16, Int32, Int8}, x::BigInt) in Base.GMP at gmp.jl:537\n",
       "[5] +(c::Union{UInt16, UInt32, UInt8}, x::BigFloat) in Base.MPFR at mpfr.jl:398\n",
       "[6] +(c::Union{Int16, Int32, Int8}, x::BigFloat) in Base.MPFR at mpfr.jl:406\n",
       "[7] +(c::Union{Float16, Float32, Float64}, x::BigFloat) in Base.MPFR at mpfr.jl:414\n",
       "[8] +(x::Union{Dates.CompoundPeriod, Dates.Period}) in Dates at D:\\Program Files\\Julia-1.8.1\\share\\julia\\stdlib\\v1.8\\Dates\\src\\periods.jl:378\n",
       "[9] +(F::LinearAlgebra.Hessenberg, J::LinearAlgebra.UniformScaling) in LinearAlgebra at D:\\Program Files\\Julia-1.8.1\\share\\julia\\stdlib\\v1.8\\LinearAlgebra\\src\\hessenberg.jl:641\n",
       "[10] +(A::BitArray, B::BitArray) in Base at bitarray.jl:1184\n",
       "[11] +(A::SparseArrays.AbstractSparseMatrix, B::LinearAlgebra.Hermitian{<:Any, <:SparseArrays.AbstractSparseMatrix}) in SparseArrays at D:\\Program Files\\Julia-1.8.1\\share\\julia\\stdlib\\v1.8\\SparseArrays\\src\\linalg.jl:14\n",
       "[12] +(A::SparseArrays.AbstractSparseMatrix, B::LinearAlgebra.Hermitian) in SparseArrays at D:\\Program Files\\Julia-1.8.1\\share\\julia\\stdlib\\v1.8\\SparseArrays\\src\\linalg.jl:17\n",
       "[13] +(A::SparseArrays.AbstractSparseMatrix, B::LinearAlgebra.Symmetric{<:Any, <:SparseArrays.AbstractSparseMatrix}) in SparseArrays at D:\\Program Files\\Julia-1.8.1\\share\\julia\\stdlib\\v1.8\\SparseArrays\\src\\linalg.jl:14\n",
       "[14] +(A::SparseArrays.AbstractSparseMatrix, B::LinearAlgebra.Symmetric) in SparseArrays at D:\\Program Files\\Julia-1.8.1\\share\\julia\\stdlib\\v1.8\\SparseArrays\\src\\linalg.jl:17\n",
       "[15] +(A::LinearAlgebra.SymTridiagonal, B::LinearAlgebra.SymTridiagonal) in LinearAlgebra at D:\\Program Files\\Julia-1.8.1\\share\\julia\\stdlib\\v1.8\\LinearAlgebra\\src\\tridiag.jl:207\n",
       "[16] +(A::LinearAlgebra.SymTridiagonal, B::LinearAlgebra.Symmetric) in LinearAlgebra at D:\\Program Files\\Julia-1.8.1\\share\\julia\\stdlib\\v1.8\\LinearAlgebra\\src\\symmetric.jl:485\n",
       "[17] +(A::LinearAlgebra.SymTridiagonal{var\"#s883\", V} where {var\"#s883\"<:Real, V<:AbstractVector{var\"#s883\"}}, B::LinearAlgebra.Hermitian) in LinearAlgebra at D:\\Program Files\\Julia-1.8.1\\share\\julia\\stdlib\\v1.8\\LinearAlgebra\\src\\symmetric.jl:487\n",
       "[18] +(x::LinearAlgebra.SymTridiagonal, H::LinearAlgebra.UpperHessenberg) in LinearAlgebra at D:\\Program Files\\Julia-1.8.1\\share\\julia\\stdlib\\v1.8\\LinearAlgebra\\src\\hessenberg.jl:109\n",
       "[19] +(A::LinearAlgebra.SymTridiagonal, B::LinearAlgebra.Diagonal) in LinearAlgebra at D:\\Program Files\\Julia-1.8.1\\share\\julia\\stdlib\\v1.8\\LinearAlgebra\\src\\special.jl:157\n",
       "[20] +(A::LinearAlgebra.SymTridiagonal, B::LinearAlgebra.Tridiagonal) in LinearAlgebra at D:\\Program Files\\Julia-1.8.1\\share\\julia\\stdlib\\v1.8\\LinearAlgebra\\src\\special.jl:171\n",
       "[21] +(A::LinearAlgebra.SymTridiagonal, B::LinearAlgebra.Bidiagonal) in LinearAlgebra at D:\\Program Files\\Julia-1.8.1\\share\\julia\\stdlib\\v1.8\\LinearAlgebra\\src\\special.jl:225\n",
       "[22] +(A::LinearAlgebra.SymTridiagonal{var\"#s885\", V} where {var\"#s885\"<:Number, V<:AbstractVector{var\"#s885\"}}, B::LinearAlgebra.UniformScaling) in LinearAlgebra at D:\\Program Files\\Julia-1.8.1\\share\\julia\\stdlib\\v1.8\\LinearAlgebra\\src\\special.jl:243\n",
       "[23] +(z::Complex, w::Complex) in Base at complex.jl:288\n",
       "[24] +(x::Dates.Instant) in Dates at D:\\Program Files\\Julia-1.8.1\\share\\julia\\stdlib\\v1.8\\Dates\\src\\arithmetic.jl:4\n",
       "[25] +(A::LinearAlgebra.LowerTriangular, B::LinearAlgebra.LowerTriangular) in LinearAlgebra at D:\\Program Files\\Julia-1.8.1\\share\\julia\\stdlib\\v1.8\\LinearAlgebra\\src\\triangular.jl:639\n",
       "[26] +(A::LinearAlgebra.LowerTriangular, B::LinearAlgebra.UnitLowerTriangular) in LinearAlgebra at D:\\Program Files\\Julia-1.8.1\\share\\julia\\stdlib\\v1.8\\LinearAlgebra\\src\\triangular.jl:641\n",
       "[27] +(A::LinearAlgebra.LowerTriangular, B::LinearAlgebra.Bidiagonal) in LinearAlgebra at D:\\Program Files\\Julia-1.8.1\\share\\julia\\stdlib\\v1.8\\LinearAlgebra\\src\\special.jl:98\n",
       "[28] +(Da::LinearAlgebra.Diagonal, Db::LinearAlgebra.Diagonal) in LinearAlgebra at D:\\Program Files\\Julia-1.8.1\\share\\julia\\stdlib\\v1.8\\LinearAlgebra\\src\\diagonal.jl:184\n",
       "[29] +(D::LinearAlgebra.Diagonal, S::LinearAlgebra.Symmetric) in LinearAlgebra at D:\\Program Files\\Julia-1.8.1\\share\\julia\\stdlib\\v1.8\\LinearAlgebra\\src\\diagonal.jl:188\n",
       "[30] +(D::LinearAlgebra.Diagonal{var\"#s885\", V} where {var\"#s885\"<:Real, V<:AbstractVector{var\"#s885\"}}, H::LinearAlgebra.Hermitian) in LinearAlgebra at D:\\Program Files\\Julia-1.8.1\\share\\julia\\stdlib\\v1.8\\LinearAlgebra\\src\\diagonal.jl:194\n",
       "[31] +(x::LinearAlgebra.Diagonal, H::LinearAlgebra.UpperHessenberg) in LinearAlgebra at D:\\Program Files\\Julia-1.8.1\\share\\julia\\stdlib\\v1.8\\LinearAlgebra\\src\\hessenberg.jl:109\n",
       "[32] +(A::LinearAlgebra.Diagonal, B::LinearAlgebra.Bidiagonal) in LinearAlgebra at D:\\Program Files\\Julia-1.8.1\\share\\julia\\stdlib\\v1.8\\LinearAlgebra\\src\\special.jl:137\n",
       "[33] +(A::LinearAlgebra.Diagonal, B::LinearAlgebra.SymTridiagonal) in LinearAlgebra at D:\\Program Files\\Julia-1.8.1\\share\\julia\\stdlib\\v1.8\\LinearAlgebra\\src\\special.jl:147\n",
       "[34] +(A::LinearAlgebra.Diagonal, B::LinearAlgebra.Tridiagonal) in LinearAlgebra at D:\\Program Files\\Julia-1.8.1\\share\\julia\\stdlib\\v1.8\\LinearAlgebra\\src\\special.jl:175\n",
       "[35] +(A::LinearAlgebra.Diagonal{var\"#s885\", V} where {var\"#s885\"<:Number, V<:AbstractVector{var\"#s885\"}}, B::LinearAlgebra.UniformScaling) in LinearAlgebra at D:\\Program Files\\Julia-1.8.1\\share\\julia\\stdlib\\v1.8\\LinearAlgebra\\src\\special.jl:253\n",
       "[36] +(A::LinearAlgebra.Hermitian, B::LinearAlgebra.Hermitian) in LinearAlgebra at D:\\Program Files\\Julia-1.8.1\\share\\julia\\stdlib\\v1.8\\LinearAlgebra\\src\\symmetric.jl:469\n",
       "[37] +(A::LinearAlgebra.Hermitian, B::LinearAlgebra.SymTridiagonal{var\"#s882\", V} where {var\"#s882\"<:Real, V<:AbstractVector{var\"#s882\"}}) in LinearAlgebra at D:\\Program Files\\Julia-1.8.1\\share\\julia\\stdlib\\v1.8\\LinearAlgebra\\src\\symmetric.jl:488\n",
       "[38] +(H::LinearAlgebra.Hermitian, D::LinearAlgebra.Diagonal{var\"#s885\", V} where {var\"#s885\"<:Real, V<:AbstractVector{var\"#s885\"}}) in LinearAlgebra at D:\\Program Files\\Julia-1.8.1\\share\\julia\\stdlib\\v1.8\\LinearAlgebra\\src\\diagonal.jl:197\n",
       "[39] +(A::LinearAlgebra.Hermitian, J::LinearAlgebra.UniformScaling{<:Complex}) in LinearAlgebra at D:\\Program Files\\Julia-1.8.1\\share\\julia\\stdlib\\v1.8\\LinearAlgebra\\src\\uniformscaling.jl:195\n",
       "[40] +(A::LinearAlgebra.Hermitian{<:Any, <:SparseArrays.AbstractSparseMatrix}, B::SparseArrays.AbstractSparseMatrix) in SparseArrays at D:\\Program Files\\Julia-1.8.1\\share\\julia\\stdlib\\v1.8\\SparseArrays\\src\\linalg.jl:15\n",
       "[41] +(A::LinearAlgebra.Hermitian, B::SparseArrays.AbstractSparseMatrix) in SparseArrays at D:\\Program Files\\Julia-1.8.1\\share\\julia\\stdlib\\v1.8\\SparseArrays\\src\\linalg.jl:18\n",
       "[42] +(A::LinearAlgebra.Hermitian{<:Any, <:SparseArrays.AbstractSparseMatrix}, B::LinearAlgebra.Symmetric{<:Real, <:SparseArrays.AbstractSparseMatrix}) in SparseArrays at D:\\Program Files\\Julia-1.8.1\\share\\julia\\stdlib\\v1.8\\SparseArrays\\src\\linalg.jl:26\n",
       "[43] +(A::LinearAlgebra.Hermitian, B::LinearAlgebra.Symmetric{var\"#s885\", S} where {var\"#s885\"<:Real, S<:(AbstractMatrix{<:var\"#s885\"})}) in LinearAlgebra at D:\\Program Files\\Julia-1.8.1\\share\\julia\\stdlib\\v1.8\\LinearAlgebra\\src\\symmetric.jl:483\n",
       "[44] +(A::LinearAlgebra.Hermitian{<:Any, <:SparseArrays.AbstractSparseMatrix}, B::LinearAlgebra.Symmetric{<:Any, <:SparseArrays.AbstractSparseMatrix}) in SparseArrays at D:\\Program Files\\Julia-1.8.1\\share\\julia\\stdlib\\v1.8\\SparseArrays\\src\\linalg.jl:24\n",
       "[45] +(x::Base.TwicePrecision, y::Number) in Base at twiceprecision.jl:290\n",
       "[46] +(x::Base.TwicePrecision{T}, y::Base.TwicePrecision{T}) where T in Base at twiceprecision.jl:296\n",
       "[47] +(x::Base.TwicePrecision, y::Base.TwicePrecision) in Base at twiceprecision.jl:301\n",
       "[48] +(A::LinearAlgebra.Tridiagonal, B::LinearAlgebra.Tridiagonal) in LinearAlgebra at D:\\Program Files\\Julia-1.8.1\\share\\julia\\stdlib\\v1.8\\LinearAlgebra\\src\\tridiag.jl:741\n",
       "[49] +(x::LinearAlgebra.Tridiagonal, H::LinearAlgebra.UpperHessenberg) in LinearAlgebra at D:\\Program Files\\Julia-1.8.1\\share\\julia\\stdlib\\v1.8\\LinearAlgebra\\src\\hessenberg.jl:109\n",
       "[50] +(A::LinearAlgebra.Tridiagonal, B::LinearAlgebra.SymTridiagonal) in LinearAlgebra at D:\\Program Files\\Julia-1.8.1\\share\\julia\\stdlib\\v1.8\\LinearAlgebra\\src\\special.jl:169\n",
       "[51] +(A::LinearAlgebra.Tridiagonal, B::LinearAlgebra.Diagonal) in LinearAlgebra at D:\\Program Files\\Julia-1.8.1\\share\\julia\\stdlib\\v1.8\\LinearAlgebra\\src\\special.jl:185\n",
       "[52] +(A::LinearAlgebra.Tridiagonal, B::LinearAlgebra.Bidiagonal) in LinearAlgebra at D:\\Program Files\\Julia-1.8.1\\share\\julia\\stdlib\\v1.8\\LinearAlgebra\\src\\special.jl:205\n",
       "[53] +(A::LinearAlgebra.Tridiagonal{var\"#s885\", V} where {var\"#s885\"<:Number, V<:AbstractVector{var\"#s885\"}}, B::LinearAlgebra.UniformScaling) in LinearAlgebra at D:\\Program Files\\Julia-1.8.1\\share\\julia\\stdlib\\v1.8\\LinearAlgebra\\src\\special.jl:238\n",
       "[54] +(A::LinearAlgebra.Symmetric, B::LinearAlgebra.Symmetric) in LinearAlgebra at D:\\Program Files\\Julia-1.8.1\\share\\julia\\stdlib\\v1.8\\LinearAlgebra\\src\\symmetric.jl:469\n",
       "[55] +(A::LinearAlgebra.Symmetric, B::LinearAlgebra.SymTridiagonal) in LinearAlgebra at D:\\Program Files\\Julia-1.8.1\\share\\julia\\stdlib\\v1.8\\LinearAlgebra\\src\\symmetric.jl:486\n",
       "[56] +(S::LinearAlgebra.Symmetric, D::LinearAlgebra.Diagonal) in LinearAlgebra at D:\\Program Files\\Julia-1.8.1\\share\\julia\\stdlib\\v1.8\\LinearAlgebra\\src\\diagonal.jl:191\n",
       "[57] +(A::LinearAlgebra.Symmetric{<:Any, <:SparseArrays.AbstractSparseMatrix}, B::SparseArrays.AbstractSparseMatrix) in SparseArrays at D:\\Program Files\\Julia-1.8.1\\share\\julia\\stdlib\\v1.8\\SparseArrays\\src\\linalg.jl:15\n",
       "[58] +(A::LinearAlgebra.Symmetric, B::SparseArrays.AbstractSparseMatrix) in SparseArrays at D:\\Program Files\\Julia-1.8.1\\share\\julia\\stdlib\\v1.8\\SparseArrays\\src\\linalg.jl:18\n",
       "[59] +(A::LinearAlgebra.Symmetric{<:Real, <:SparseArrays.AbstractSparseMatrix}, B::LinearAlgebra.Hermitian{<:Any, <:SparseArrays.AbstractSparseMatrix}) in SparseArrays at D:\\Program Files\\Julia-1.8.1\\share\\julia\\stdlib\\v1.8\\SparseArrays\\src\\linalg.jl:25\n",
       "[60] +(A::LinearAlgebra.Symmetric{var\"#s884\", S} where {var\"#s884\"<:Real, S<:(AbstractMatrix{<:var\"#s884\"})}, B::LinearAlgebra.Hermitian) in LinearAlgebra at D:\\Program Files\\Julia-1.8.1\\share\\julia\\stdlib\\v1.8\\LinearAlgebra\\src\\symmetric.jl:484\n",
       "[61] +(A::LinearAlgebra.Symmetric{<:Any, <:SparseArrays.AbstractSparseMatrix}, B::LinearAlgebra.Hermitian{<:Any, <:SparseArrays.AbstractSparseMatrix}) in SparseArrays at D:\\Program Files\\Julia-1.8.1\\share\\julia\\stdlib\\v1.8\\SparseArrays\\src\\linalg.jl:23\n",
       "[62] +(r1::StepRangeLen{T, R}, r2::StepRangeLen{T, R}) where {R<:Base.TwicePrecision, T} in Base at twiceprecision.jl:644\n",
       "[63] +(r1::StepRangeLen{T, S}, r2::StepRangeLen{T, S}) where {T, S} in Base at range.jl:1447\n",
       "[64] +(r::AbstractRange{<:Dates.TimeType}, x::Dates.Period) in Dates at D:\\Program Files\\Julia-1.8.1\\share\\julia\\stdlib\\v1.8\\Dates\\src\\ranges.jl:64\n",
       "[65] +(x::AbstractArray{<:Dates.TimeType}, y::Union{Dates.CompoundPeriod, Dates.Period}) in Dates at D:\\Program Files\\Julia-1.8.1\\share\\julia\\stdlib\\v1.8\\Dates\\src\\deprecated.jl:6\n",
       "[66] +(x::T, y::Integer) where T<:AbstractChar in Base at char.jl:237\n",
       "[67] +(A::LinearAlgebra.Bidiagonal, B::LinearAlgebra.Bidiagonal) in LinearAlgebra at D:\\Program Files\\Julia-1.8.1\\share\\julia\\stdlib\\v1.8\\LinearAlgebra\\src\\bidiag.jl:365\n",
       "[68] +(x::LinearAlgebra.Bidiagonal, H::LinearAlgebra.UpperHessenberg) in LinearAlgebra at D:\\Program Files\\Julia-1.8.1\\share\\julia\\stdlib\\v1.8\\LinearAlgebra\\src\\hessenberg.jl:109\n",
       "[69] +(A::LinearAlgebra.Bidiagonal, B::LinearAlgebra.UpperTriangular) in LinearAlgebra at D:\\Program Files\\Julia-1.8.1\\share\\julia\\stdlib\\v1.8\\LinearAlgebra\\src\\special.jl:106\n",
       "[70] +(A::LinearAlgebra.Bidiagonal, B::LinearAlgebra.UnitUpperTriangular) in LinearAlgebra at D:\\Program Files\\Julia-1.8.1\\share\\julia\\stdlib\\v1.8\\LinearAlgebra\\src\\special.jl:106\n",
       "[71] +(A::LinearAlgebra.Bidiagonal, B::LinearAlgebra.LowerTriangular) in LinearAlgebra at D:\\Program Files\\Julia-1.8.1\\share\\julia\\stdlib\\v1.8\\LinearAlgebra\\src\\special.jl:106\n",
       "[72] +(A::LinearAlgebra.Bidiagonal, B::LinearAlgebra.UnitLowerTriangular) in LinearAlgebra at D:\\Program Files\\Julia-1.8.1\\share\\julia\\stdlib\\v1.8\\LinearAlgebra\\src\\special.jl:106\n",
       "[73] +(A::LinearAlgebra.Bidiagonal, B::LinearAlgebra.Diagonal) in LinearAlgebra at D:\\Program Files\\Julia-1.8.1\\share\\julia\\stdlib\\v1.8\\LinearAlgebra\\src\\special.jl:127\n",
       "[74] +(A::LinearAlgebra.Bidiagonal, B::LinearAlgebra.Tridiagonal) in LinearAlgebra at D:\\Program Files\\Julia-1.8.1\\share\\julia\\stdlib\\v1.8\\LinearAlgebra\\src\\special.jl:195\n",
       "[75] +(A::LinearAlgebra.Bidiagonal, B::LinearAlgebra.SymTridiagonal) in LinearAlgebra at D:\\Program Files\\Julia-1.8.1\\share\\julia\\stdlib\\v1.8\\LinearAlgebra\\src\\special.jl:215\n",
       "[76] +(A::LinearAlgebra.Bidiagonal{var\"#s885\", V} where {var\"#s885\"<:Number, V<:AbstractVector{var\"#s885\"}}, B::LinearAlgebra.UniformScaling) in LinearAlgebra at D:\\Program Files\\Julia-1.8.1\\share\\julia\\stdlib\\v1.8\\LinearAlgebra\\src\\special.jl:248\n",
       "[77] +(A::LinearAlgebra.UnitLowerTriangular, B::LinearAlgebra.LowerTriangular) in LinearAlgebra at D:\\Program Files\\Julia-1.8.1\\share\\julia\\stdlib\\v1.8\\LinearAlgebra\\src\\triangular.jl:643\n",
       "[78] +(A::LinearAlgebra.UnitLowerTriangular, B::LinearAlgebra.UnitLowerTriangular) in LinearAlgebra at D:\\Program Files\\Julia-1.8.1\\share\\julia\\stdlib\\v1.8\\LinearAlgebra\\src\\triangular.jl:645\n",
       "[79] +(UL::LinearAlgebra.UnitLowerTriangular, J::LinearAlgebra.UniformScaling) in LinearAlgebra at D:\\Program Files\\Julia-1.8.1\\share\\julia\\stdlib\\v1.8\\LinearAlgebra\\src\\uniformscaling.jl:181\n",
       "[80] +(A::LinearAlgebra.UnitLowerTriangular, B::LinearAlgebra.Bidiagonal) in LinearAlgebra at D:\\Program Files\\Julia-1.8.1\\share\\julia\\stdlib\\v1.8\\LinearAlgebra\\src\\special.jl:98\n",
       "[81] +(x::P, y::P) where P<:Dates.Period in Dates at D:\\Program Files\\Julia-1.8.1\\share\\julia\\stdlib\\v1.8\\Dates\\src\\periods.jl:77\n",
       "[82] +(x::Dates.Period, y::Dates.Period) in Dates at D:\\Program Files\\Julia-1.8.1\\share\\julia\\stdlib\\v1.8\\Dates\\src\\periods.jl:367\n",
       "[83] +(y::Dates.Period, x::Dates.CompoundPeriod) in Dates at D:\\Program Files\\Julia-1.8.1\\share\\julia\\stdlib\\v1.8\\Dates\\src\\periods.jl:369\n",
       "[84] +(y::Dates.Period, x::Dates.TimeType) in Dates at D:\\Program Files\\Julia-1.8.1\\share\\julia\\stdlib\\v1.8\\Dates\\src\\arithmetic.jl:85\n",
       "[85] +(x::Dates.Period, r::AbstractRange{<:Dates.TimeType}) in Dates at D:\\Program Files\\Julia-1.8.1\\share\\julia\\stdlib\\v1.8\\Dates\\src\\ranges.jl:63\n",
       "[86] +(y::Union{Dates.CompoundPeriod, Dates.Period}, x::AbstractArray{<:Dates.TimeType}) in Dates at D:\\Program Files\\Julia-1.8.1\\share\\julia\\stdlib\\v1.8\\Dates\\src\\deprecated.jl:14\n",
       "[87] +(x::AbstractIrrational, y::AbstractIrrational) in Base at irrationals.jl:158\n",
       "[88] +(A::LinearAlgebra.UpperHessenberg, B::LinearAlgebra.UpperHessenberg) in LinearAlgebra at D:\\Program Files\\Julia-1.8.1\\share\\julia\\stdlib\\v1.8\\LinearAlgebra\\src\\hessenberg.jl:101\n",
       "[89] +(H::LinearAlgebra.UpperHessenberg, x::LinearAlgebra.UniformScaling) in LinearAlgebra at D:\\Program Files\\Julia-1.8.1\\share\\julia\\stdlib\\v1.8\\LinearAlgebra\\src\\hessenberg.jl:108\n",
       "[90] +(H::LinearAlgebra.UpperHessenberg, x::LinearAlgebra.Diagonal) in LinearAlgebra at D:\\Program Files\\Julia-1.8.1\\share\\julia\\stdlib\\v1.8\\LinearAlgebra\\src\\hessenberg.jl:108\n",
       "[91] +(H::LinearAlgebra.UpperHessenberg, x::LinearAlgebra.Bidiagonal) in LinearAlgebra at D:\\Program Files\\Julia-1.8.1\\share\\julia\\stdlib\\v1.8\\LinearAlgebra\\src\\hessenberg.jl:108\n",
       "[92] +(H::LinearAlgebra.UpperHessenberg, x::LinearAlgebra.Tridiagonal) in LinearAlgebra at D:\\Program Files\\Julia-1.8.1\\share\\julia\\stdlib\\v1.8\\LinearAlgebra\\src\\hessenberg.jl:108\n",
       "[93] +(H::LinearAlgebra.UpperHessenberg, x::LinearAlgebra.SymTridiagonal) in LinearAlgebra at D:\\Program Files\\Julia-1.8.1\\share\\julia\\stdlib\\v1.8\\LinearAlgebra\\src\\hessenberg.jl:108\n",
       "[94] +(H::LinearAlgebra.UpperHessenberg, x::LinearAlgebra.UpperTriangular) in LinearAlgebra at D:\\Program Files\\Julia-1.8.1\\share\\julia\\stdlib\\v1.8\\LinearAlgebra\\src\\hessenberg.jl:108\n",
       "[95] +(H::LinearAlgebra.UpperHessenberg, x::LinearAlgebra.UnitUpperTriangular) in LinearAlgebra at D:\\Program Files\\Julia-1.8.1\\share\\julia\\stdlib\\v1.8\\LinearAlgebra\\src\\hessenberg.jl:108\n",
       "[96] +(x::Ptr, y::Integer) in Base at pointer.jl:159\n",
       "[97] +(J::LinearAlgebra.UniformScaling) in LinearAlgebra at D:\\Program Files\\Julia-1.8.1\\share\\julia\\stdlib\\v1.8\\LinearAlgebra\\src\\uniformscaling.jl:149\n",
       "[98] +(J::LinearAlgebra.UniformScaling, x::Number) in LinearAlgebra at D:\\Program Files\\Julia-1.8.1\\share\\julia\\stdlib\\v1.8\\LinearAlgebra\\src\\uniformscaling.jl:144\n",
       "[99] +(J1::LinearAlgebra.UniformScaling, J2::LinearAlgebra.UniformScaling) in LinearAlgebra at D:\\Program Files\\Julia-1.8.1\\share\\julia\\stdlib\\v1.8\\LinearAlgebra\\src\\uniformscaling.jl:150\n",
       "[100] +(J::LinearAlgebra.UniformScaling, B::BitMatrix) in LinearAlgebra at D:\\Program Files\\Julia-1.8.1\\share\\julia\\stdlib\\v1.8\\LinearAlgebra\\src\\uniformscaling.jl:152\n",
       "[101] +(x::LinearAlgebra.UniformScaling, H::LinearAlgebra.UpperHessenberg) in LinearAlgebra at D:\\Program Files\\Julia-1.8.1\\share\\julia\\stdlib\\v1.8\\LinearAlgebra\\src\\hessenberg.jl:109\n",
       "[102] +(J::LinearAlgebra.UniformScaling, F::LinearAlgebra.Hessenberg) in LinearAlgebra at D:\\Program Files\\Julia-1.8.1\\share\\julia\\stdlib\\v1.8\\LinearAlgebra\\src\\hessenberg.jl:642\n",
       "[103] +(A::LinearAlgebra.UniformScaling, B::LinearAlgebra.Tridiagonal{var\"#s885\", V} where {var\"#s885\"<:Number, V<:AbstractVector{var\"#s885\"}}) in LinearAlgebra at D:\\Program Files\\Julia-1.8.1\\share\\julia\\stdlib\\v1.8\\LinearAlgebra\\src\\special.jl:257\n",
       "[104] +(A::LinearAlgebra.UniformScaling, B::LinearAlgebra.SymTridiagonal{var\"#s885\", V} where {var\"#s885\"<:Number, V<:AbstractVector{var\"#s885\"}}) in LinearAlgebra at D:\\Program Files\\Julia-1.8.1\\share\\julia\\stdlib\\v1.8\\LinearAlgebra\\src\\special.jl:262\n",
       "[105] +(A::LinearAlgebra.UniformScaling, B::LinearAlgebra.Bidiagonal{var\"#s885\", V} where {var\"#s885\"<:Number, V<:AbstractVector{var\"#s885\"}}) in LinearAlgebra at D:\\Program Files\\Julia-1.8.1\\share\\julia\\stdlib\\v1.8\\LinearAlgebra\\src\\special.jl:267\n",
       "[106] +(A::LinearAlgebra.UniformScaling, B::LinearAlgebra.Diagonal{var\"#s885\", V} where {var\"#s885\"<:Number, V<:AbstractVector{var\"#s885\"}}) in LinearAlgebra at D:\\Program Files\\Julia-1.8.1\\share\\julia\\stdlib\\v1.8\\LinearAlgebra\\src\\special.jl:272\n",
       "[107] +(J::LinearAlgebra.UniformScaling, A::AbstractMatrix) in LinearAlgebra at D:\\Program Files\\Julia-1.8.1\\share\\julia\\stdlib\\v1.8\\LinearAlgebra\\src\\uniformscaling.jl:153\n",
       "[108] +(index1::CartesianIndex{N}, index2::CartesianIndex{N}) where N in Base.IteratorsMD at multidimensional.jl:114\n",
       "[109] +(A::LinearAlgebra.UpperTriangular, B::LinearAlgebra.UpperTriangular) in LinearAlgebra at D:\\Program Files\\Julia-1.8.1\\share\\julia\\stdlib\\v1.8\\LinearAlgebra\\src\\triangular.jl:638\n",
       "[110] +(A::LinearAlgebra.UpperTriangular, B::LinearAlgebra.UnitUpperTriangular) in LinearAlgebra at D:\\Program Files\\Julia-1.8.1\\share\\julia\\stdlib\\v1.8\\LinearAlgebra\\src\\triangular.jl:640\n",
       "[111] +(x::LinearAlgebra.UpperTriangular, H::LinearAlgebra.UpperHessenberg) in LinearAlgebra at D:\\Program Files\\Julia-1.8.1\\share\\julia\\stdlib\\v1.8\\LinearAlgebra\\src\\hessenberg.jl:109\n",
       "[112] +(A::LinearAlgebra.UpperTriangular, B::LinearAlgebra.Bidiagonal) in LinearAlgebra at D:\\Program Files\\Julia-1.8.1\\share\\julia\\stdlib\\v1.8\\LinearAlgebra\\src\\special.jl:98\n",
       "[113] +(r1::OrdinalRange, r2::OrdinalRange) in Base at range.jl:1424\n",
       "[114] +(y::AbstractFloat, x::Bool) in Base at bool.jl:172\n",
       "[115] +(r1::LinRange{T}, r2::LinRange{T}) where T in Base at range.jl:1431\n",
       "[116] +(r1::Union{LinRange, OrdinalRange, StepRangeLen}, r2::Union{LinRange, OrdinalRange, StepRangeLen}) in Base at range.jl:1440\n",
       "[117] +(A::SparseArrays.AbstractSparseMatrixCSC, B::SparseArrays.AbstractSparseMatrixCSC) in SparseArrays at D:\\Program Files\\Julia-1.8.1\\share\\julia\\stdlib\\v1.8\\SparseArrays\\src\\sparsematrix.jl:1829\n",
       "[118] +(x::SparseArrays.AbstractSparseVector, y::SparseArrays.AbstractSparseVector) in SparseArrays at D:\\Program Files\\Julia-1.8.1\\share\\julia\\stdlib\\v1.8\\SparseArrays\\src\\sparsevector.jl:1384\n",
       "[119] +(A::SparseArrays.AbstractSparseMatrixCSC, B::Array) in SparseArrays at D:\\Program Files\\Julia-1.8.1\\share\\julia\\stdlib\\v1.8\\SparseArrays\\src\\sparsematrix.jl:1832\n",
       "[120] +(A::SparseArrays.AbstractSparseMatrixCSC, J::LinearAlgebra.UniformScaling) in SparseArrays at D:\\Program Files\\Julia-1.8.1\\share\\julia\\stdlib\\v1.8\\SparseArrays\\src\\sparsematrix.jl:3821\n",
       "[121] +(x::Rational, y::Integer) in Base at rational.jl:313\n",
       "[122] +(y::Dates.TimeType, x::StridedArray{<:Union{Dates.CompoundPeriod, Dates.Period}}) in Dates at D:\\Program Files\\Julia-1.8.1\\share\\julia\\stdlib\\v1.8\\Dates\\src\\deprecated.jl:18\n",
       "[123] +(A::Array, Bs::Array...) in Base at arraymath.jl:12\n",
       "[124] +(X::StridedArray{<:Union{Dates.CompoundPeriod, Dates.Period}}, Y::StridedArray{<:Union{Dates.CompoundPeriod, Dates.Period}}) in Dates at D:\\Program Files\\Julia-1.8.1\\share\\julia\\stdlib\\v1.8\\Dates\\src\\deprecated.jl:62\n",
       "[125] +(A::Array, B::SparseArrays.AbstractSparseMatrixCSC) in SparseArrays at D:\\Program Files\\Julia-1.8.1\\share\\julia\\stdlib\\v1.8\\SparseArrays\\src\\sparsematrix.jl:1833\n",
       "[126] +(x::StridedArray{<:Union{Dates.CompoundPeriod, Dates.Period}}) in Dates at D:\\Program Files\\Julia-1.8.1\\share\\julia\\stdlib\\v1.8\\Dates\\src\\deprecated.jl:55\n",
       "[127] +(x::StridedArray{<:Union{Dates.CompoundPeriod, Dates.Period}}, y::Dates.TimeType) in Dates at D:\\Program Files\\Julia-1.8.1\\share\\julia\\stdlib\\v1.8\\Dates\\src\\deprecated.jl:10\n",
       "[128] +(A::LinearAlgebra.UnitUpperTriangular, B::LinearAlgebra.UpperTriangular) in LinearAlgebra at D:\\Program Files\\Julia-1.8.1\\share\\julia\\stdlib\\v1.8\\LinearAlgebra\\src\\triangular.jl:642\n",
       "[129] +(A::LinearAlgebra.UnitUpperTriangular, B::LinearAlgebra.UnitUpperTriangular) in LinearAlgebra at D:\\Program Files\\Julia-1.8.1\\share\\julia\\stdlib\\v1.8\\LinearAlgebra\\src\\triangular.jl:644\n",
       "[130] +(A::LinearAlgebra.AbstractTriangular, B::LinearAlgebra.AbstractTriangular) in LinearAlgebra at D:\\Program Files\\Julia-1.8.1\\share\\julia\\stdlib\\v1.8\\LinearAlgebra\\src\\triangular.jl:646\n",
       "[131] +(UL::LinearAlgebra.UnitUpperTriangular, J::LinearAlgebra.UniformScaling) in LinearAlgebra at D:\\Program Files\\Julia-1.8.1\\share\\julia\\stdlib\\v1.8\\LinearAlgebra\\src\\uniformscaling.jl:181\n",
       "[132] +(x::LinearAlgebra.UnitUpperTriangular, H::LinearAlgebra.UpperHessenberg) in LinearAlgebra at D:\\Program Files\\Julia-1.8.1\\share\\julia\\stdlib\\v1.8\\LinearAlgebra\\src\\hessenberg.jl:109\n",
       "[133] +(A::LinearAlgebra.UnitUpperTriangular, B::LinearAlgebra.Bidiagonal) in LinearAlgebra at D:\\Program Files\\Julia-1.8.1\\share\\julia\\stdlib\\v1.8\\LinearAlgebra\\src\\special.jl:98\n",
       "[134] +(A::AbstractArray, B::AbstractArray) in Base at arraymath.jl:6\n",
       "[135] +(x::Dates.Time, y::Dates.TimePeriod) in Dates at D:\\Program Files\\Julia-1.8.1\\share\\julia\\stdlib\\v1.8\\Dates\\src\\arithmetic.jl:83\n",
       "[136] +(t::Dates.Time, dt::Dates.Date) in Dates at D:\\Program Files\\Julia-1.8.1\\share\\julia\\stdlib\\v1.8\\Dates\\src\\arithmetic.jl:20\n",
       "[137] +(level::Base.CoreLogging.LogLevel, inc::Integer) in Base.CoreLogging at logging.jl:131\n",
       "[138] +(x::Bool) in Base at bool.jl:159\n",
       "[139] +(x::Integer, y::Ptr) in Base at pointer.jl:161\n",
       "[140] +(y::Integer, x::Rational) in Base at rational.jl:320\n",
       "[141] +(x::Integer, y::AbstractChar) in Base at char.jl:247\n",
       "[142] +(x::Bool, y::T) where T<:AbstractFloat in Base at bool.jl:169\n",
       "[143] +(x::Bool, y::Bool) in Base at bool.jl:162\n",
       "[144] +(x::Bool, z::Complex{Bool}) in Base at complex.jl:299\n",
       "[145] +(x::Real, z::Complex{Bool}) in Base at complex.jl:313\n",
       "[146] +(x::Bool, z::Complex) in Base at complex.jl:306\n",
       "[147] +(x::Real, z::Complex) in Base at complex.jl:325\n",
       "[148] +(a::Pkg.Resolve.FieldValue, b::Pkg.Resolve.FieldValue) in Pkg.Resolve at D:\\Program Files\\Julia-1.8.1\\share\\julia\\stdlib\\v1.8\\Pkg\\src\\Resolve\\fieldvalues.jl:43\n",
       "[149] +(x::BigInt, c::Union{UInt16, UInt32, UInt8}) in Base.GMP at gmp.jl:530\n",
       "[150] +(x::BigInt, c::Union{Int16, Int32, Int8}) in Base.GMP at gmp.jl:536\n",
       "[151] +(x::BigInt, y::BigInt) in Base.GMP at gmp.jl:482\n",
       "[152] +(a::BigInt, b::BigInt, c::BigInt) in Base.GMP at gmp.jl:522\n",
       "[153] +(a::BigInt, b::BigInt, c::BigInt, d::BigInt) in Base.GMP at gmp.jl:523\n",
       "[154] +(a::BigInt, b::BigInt, c::BigInt, d::BigInt, e::BigInt) in Base.GMP at gmp.jl:524\n",
       "[155] +(x::BigInt, y::BigInt, rest::BigInt...) in Base.GMP at gmp.jl:657\n",
       "[156] +(a::Integer, b::Integer) in Base at int.jl:987\n",
       "[157] +(c::BigInt, x::BigFloat) in Base.MPFR at mpfr.jl:422\n",
       "[158] +(dt::Dates.DateTime, y::Dates.Year) in Dates at D:\\Program Files\\Julia-1.8.1\\share\\julia\\stdlib\\v1.8\\Dates\\src\\arithmetic.jl:23\n",
       "[159] +(dt::Dates.DateTime, z::Dates.Month) in Dates at D:\\Program Files\\Julia-1.8.1\\share\\julia\\stdlib\\v1.8\\Dates\\src\\arithmetic.jl:47\n",
       "[160] +(x::Dates.DateTime, y::Dates.Quarter) in Dates at D:\\Program Files\\Julia-1.8.1\\share\\julia\\stdlib\\v1.8\\Dates\\src\\arithmetic.jl:75\n",
       "[161] +(x::Dates.DateTime, y::Dates.Period) in Dates at D:\\Program Files\\Julia-1.8.1\\share\\julia\\stdlib\\v1.8\\Dates\\src\\arithmetic.jl:81\n",
       "[162] +(a::Pkg.Resolve.VersionWeight, b::Pkg.Resolve.VersionWeight) in Pkg.Resolve at D:\\Program Files\\Julia-1.8.1\\share\\julia\\stdlib\\v1.8\\Pkg\\src\\Resolve\\versionweights.jl:22\n",
       "[163] +(x::BigFloat, c::Union{UInt16, UInt32, UInt8}) in Base.MPFR at mpfr.jl:393\n",
       "[164] +(x::BigFloat, c::Union{Int16, Int32, Int8}) in Base.MPFR at mpfr.jl:401\n",
       "[165] +(x::BigFloat, c::Union{Float16, Float32, Float64}) in Base.MPFR at mpfr.jl:409\n",
       "[166] +(x::BigFloat, y::BigFloat) in Base.MPFR at mpfr.jl:386\n",
       "[167] +(x::BigFloat, c::BigInt) in Base.MPFR at mpfr.jl:417\n",
       "[168] +(a::BigFloat, b::BigFloat, c::BigFloat) in Base.MPFR at mpfr.jl:558\n",
       "[169] +(a::BigFloat, b::BigFloat, c::BigFloat, d::BigFloat) in Base.MPFR at mpfr.jl:564\n",
       "[170] +(a::BigFloat, b::BigFloat, c::BigFloat, d::BigFloat, e::BigFloat) in Base.MPFR at mpfr.jl:571\n",
       "[171] +(z::Complex{Bool}, x::Bool) in Base at complex.jl:300\n",
       "[172] +(z::Complex, x::Bool) in Base at complex.jl:307\n",
       "[173] +(z::Complex{Bool}, x::Real) in Base at complex.jl:314\n",
       "[174] +(z::Complex) in Base at complex.jl:286\n",
       "[175] +(z::Complex, x::Real) in Base at complex.jl:326\n",
       "[176] +(x::Dates.CompoundPeriod, y::Dates.Period) in Dates at D:\\Program Files\\Julia-1.8.1\\share\\julia\\stdlib\\v1.8\\Dates\\src\\periods.jl:368\n",
       "[177] +(x::Dates.CompoundPeriod, y::Dates.TimeType) in Dates at D:\\Program Files\\Julia-1.8.1\\share\\julia\\stdlib\\v1.8\\Dates\\src\\periods.jl:398\n",
       "[178] +(x::Dates.CompoundPeriod, y::Dates.CompoundPeriod) in Dates at D:\\Program Files\\Julia-1.8.1\\share\\julia\\stdlib\\v1.8\\Dates\\src\\periods.jl:370\n",
       "[179] +(::Missing) in Base at missing.jl:101\n",
       "[180] +(::Missing, ::Number) in Base at missing.jl:123\n",
       "[181] +(x::Missing, y::Dates.AbstractTime) in Dates at D:\\Program Files\\Julia-1.8.1\\share\\julia\\stdlib\\v1.8\\Dates\\src\\arithmetic.jl:89\n",
       "[182] +(::Missing, ::Missing) in Base at missing.jl:122\n",
       "[183] +(dt::Dates.Date, t::Dates.Time) in Dates at D:\\Program Files\\Julia-1.8.1\\share\\julia\\stdlib\\v1.8\\Dates\\src\\arithmetic.jl:19\n",
       "[184] +(dt::Dates.Date, y::Dates.Year) in Dates at D:\\Program Files\\Julia-1.8.1\\share\\julia\\stdlib\\v1.8\\Dates\\src\\arithmetic.jl:27\n",
       "[185] +(dt::Dates.Date, z::Dates.Month) in Dates at D:\\Program Files\\Julia-1.8.1\\share\\julia\\stdlib\\v1.8\\Dates\\src\\arithmetic.jl:54\n",
       "[186] +(x::Dates.Date, y::Dates.Quarter) in Dates at D:\\Program Files\\Julia-1.8.1\\share\\julia\\stdlib\\v1.8\\Dates\\src\\arithmetic.jl:73\n",
       "[187] +(x::Dates.Date, y::Dates.Week) in Dates at D:\\Program Files\\Julia-1.8.1\\share\\julia\\stdlib\\v1.8\\Dates\\src\\arithmetic.jl:77\n",
       "[188] +(x::Dates.Date, y::Dates.Day) in Dates at D:\\Program Files\\Julia-1.8.1\\share\\julia\\stdlib\\v1.8\\Dates\\src\\arithmetic.jl:79\n",
       "[189] +(x::Dates.TimeType) in Dates at D:\\Program Files\\Julia-1.8.1\\share\\julia\\stdlib\\v1.8\\Dates\\src\\arithmetic.jl:8\n",
       "[190] +(x::Dates.AbstractTime, y::Missing) in Dates at D:\\Program Files\\Julia-1.8.1\\share\\julia\\stdlib\\v1.8\\Dates\\src\\arithmetic.jl:88\n",
       "[191] +(a::Dates.TimeType, b::Dates.Period, c::Dates.Period) in Dates at D:\\Program Files\\Julia-1.8.1\\share\\julia\\stdlib\\v1.8\\Dates\\src\\periods.jl:389\n",
       "[192] +(a::Dates.TimeType, b::Dates.Period, c::Dates.Period, d::Dates.Period...) in Dates at D:\\Program Files\\Julia-1.8.1\\share\\julia\\stdlib\\v1.8\\Dates\\src\\periods.jl:390\n",
       "[193] +(x::Dates.TimeType, y::Dates.CompoundPeriod) in Dates at D:\\Program Files\\Julia-1.8.1\\share\\julia\\stdlib\\v1.8\\Dates\\src\\periods.jl:392\n",
       "[194] +(x::Rational{BigInt}, y::Rational{BigInt}) in Base.GMP.MPQ at gmp.jl:918\n",
       "[195] +(x::Rational) in Base at rational.jl:270\n",
       "[196] +(x::Number, y::Base.TwicePrecision) in Base at twiceprecision.jl:294\n",
       "[197] +(::Number, ::Missing) in Base at missing.jl:124\n",
       "[198] +(x::Number, J::LinearAlgebra.UniformScaling) in LinearAlgebra at D:\\Program Files\\Julia-1.8.1\\share\\julia\\stdlib\\v1.8\\LinearAlgebra\\src\\uniformscaling.jl:145\n",
       "[199] +(x::Rational, y::Rational) in Base at rational.jl:284\n",
       "[200] +(x::Number) in Base at operators.jl:528\n",
       "[201] +(x::T, y::T) where T<:Number in Base at promotion.jl:463\n",
       "[202] +(x::Number, y::Number) in Base at promotion.jl:388\n",
       "[203] +(B::BitMatrix, J::LinearAlgebra.UniformScaling) in LinearAlgebra at D:\\Program Files\\Julia-1.8.1\\share\\julia\\stdlib\\v1.8\\LinearAlgebra\\src\\uniformscaling.jl:151\n",
       "[204] +(A::AbstractMatrix, J::LinearAlgebra.UniformScaling) in LinearAlgebra at D:\\Program Files\\Julia-1.8.1\\share\\julia\\stdlib\\v1.8\\LinearAlgebra\\src\\uniformscaling.jl:214\n",
       "[205] +(x::AbstractArray{<:Number}) in Base at abstractarraymath.jl:220\n",
       "[206] +(a, b, c, xs...) in Base at operators.jl:591"
      ]
     },
     "execution_count": 1,
     "metadata": {},
     "output_type": "execute_result"
    }
   ],
   "source": [
    "methods(+)"
   ]
  },
  {
   "cell_type": "markdown",
   "metadata": {},
   "source": [
    "So, we now can call `foo` on integers or strings. When you call `foo` on a particular set of arguments, Julia will infer the types of the inputs and dispatch the appropriate method. *This* is multiple dispatch.\n",
    "\n",
    "Multiple dispatch makes our code generic and fast. Our code can be generic and flexible because we can write code in terms of abstract operations such as addition and multiplication, rather than in terms of specific implementations. At the same time, our code runs quickly because Julia is able to call efficient methods for the relevant types.\n",
    "\n",
    "To see which method is being dispatched when we call a generic function, we can use the @which macro:"
   ]
  },
  {
   "cell_type": "code",
   "execution_count": 16,
   "metadata": {},
   "outputs": [
    {
     "data": {
      "text/html": [
       "foo(x::<b>Int64</b>, y::<b>Int64</b>) in Main at In[11]:1"
      ],
      "text/plain": [
       "foo(x::Int64, y::Int64) in Main at In[11]:1"
      ]
     },
     "execution_count": 16,
     "metadata": {},
     "output_type": "execute_result"
    }
   ],
   "source": [
    "@which foo(3, 4)"
   ]
  },
  {
   "cell_type": "markdown",
   "metadata": {},
   "source": [
    "Let's see what happens when we use `@which` with the addition operator!"
   ]
  },
  {
   "cell_type": "code",
   "execution_count": 3,
   "metadata": {},
   "outputs": [
    {
     "data": {
      "text/html": [
       "+(x::<b>T</b>, y::<b>T</b>)<i> where T<:Union{Float16, Float32, Float64}</i> in Base at <a href=\"https://github.com/JuliaLang/julia/tree/afb6c60d69a38e8a2442a0c7e87c47b8880ad294/base/float.jl#L383\" target=\"_blank\">float.jl:383</a>"
      ],
      "text/plain": [
       "+(x::T, y::T) where T<:Union{Float16, Float32, Float64} in Base at float.jl:383"
      ]
     },
     "execution_count": 3,
     "metadata": {},
     "output_type": "execute_result"
    }
   ],
   "source": [
    "@which 3.0 + 3.0"
   ]
  },
  {
   "cell_type": "markdown",
   "metadata": {},
   "source": [
    "And we can continue to add other methods to our generic function `foo`. Let's add one that takes the ***abstract type*** `Number`, which includes subtypes such as `Int`, `Float64`, and other objects you would think of as numbers:"
   ]
  },
  {
   "cell_type": "code",
   "execution_count": 18,
   "metadata": {},
   "outputs": [
    {
     "data": {
      "text/plain": [
       "foo (generic function with 3 methods)"
      ]
     },
     "execution_count": 18,
     "metadata": {},
     "output_type": "execute_result"
    }
   ],
   "source": [
    "foo(x::Number, y::Number) = println(\"My inputs x and y are both numbers!\")"
   ]
  },
  {
   "cell_type": "markdown",
   "metadata": {},
   "source": [
    "This method for `foo` will work on, for example, floating point numbers:"
   ]
  },
  {
   "cell_type": "code",
   "execution_count": 19,
   "metadata": {},
   "outputs": [
    {
     "name": "stdout",
     "output_type": "stream",
     "text": [
      "My inputs x and y are both numbers!\n"
     ]
    }
   ],
   "source": [
    "foo(3.0, 4.0)"
   ]
  },
  {
   "cell_type": "markdown",
   "metadata": {},
   "source": [
    "We can also add a fallback, duck-typed method for `foo` that takes inputs of any type:"
   ]
  },
  {
   "cell_type": "code",
   "execution_count": 20,
   "metadata": {},
   "outputs": [
    {
     "data": {
      "text/plain": [
       "foo (generic function with 4 methods)"
      ]
     },
     "execution_count": 20,
     "metadata": {},
     "output_type": "execute_result"
    }
   ],
   "source": [
    "foo(x, y) = println(\"I accept inputs of any type!\")"
   ]
  },
  {
   "cell_type": "markdown",
   "metadata": {},
   "source": [
    "Given the methods we've already written for `foo` so far, this method will be called whenever we pass non-numbers to `foo`:"
   ]
  },
  {
   "cell_type": "code",
   "execution_count": 21,
   "metadata": {},
   "outputs": [
    {
     "name": "stdout",
     "output_type": "stream",
     "text": [
      "I accept inputs of any type!\n"
     ]
    }
   ],
   "source": [
    "v = rand(3)\n",
    "foo(v, v)"
   ]
  },
  {
   "cell_type": "markdown",
   "metadata": {},
   "source": [
    "### Exercises\n",
    "\n",
    "#### 9.1\n",
    "\n",
    "Extend the function `foo`, adding a method that takes only one input argument, which is of type `Bool`, and returns \"foo with one boolean!\""
   ]
  },
  {
   "cell_type": "code",
   "execution_count": null,
   "metadata": {},
   "outputs": [],
   "source": []
  },
  {
   "cell_type": "markdown",
   "metadata": {},
   "source": [
    "#### 9.2\n",
    "\n",
    "Check that the method being dispatched when you execute \n",
    "```julia\n",
    "foo(true)\n",
    "```\n",
    "is the one you wrote."
   ]
  },
  {
   "cell_type": "code",
   "execution_count": null,
   "metadata": {},
   "outputs": [],
   "source": []
  },
  {
   "cell_type": "code",
   "execution_count": null,
   "metadata": {
    "deletable": false,
    "editable": false,
    "hide_input": true,
    "nbgrader": {
     "checksum": "af0db7a08de56491e57f4c882296a00f",
     "grade": true,
     "grade_id": "cell-14072e60ae07c1a2",
     "locked": true,
     "points": 1,
     "schema_version": 1,
     "solution": false
    }
   },
   "outputs": [],
   "source": [
    "@assert foo(true) == \"foo with one boolean!\""
   ]
  }
 ],
 "metadata": {
  "anaconda-cloud": {},
  "kernelspec": {
   "display_name": "Julia 1.8.1",
   "language": "julia",
   "name": "julia-1.8"
  },
  "language": "Julia",
  "language_info": {
   "file_extension": ".jl",
   "mimetype": "application/julia",
   "name": "julia",
   "version": "1.8.1"
  },
  "toc": {
   "nav_menu": {
    "height": "119px",
    "width": "251px"
   },
   "navigate_menu": true,
   "number_sections": true,
   "sideBar": true,
   "threshold": "2",
   "toc_cell": false,
   "toc_section_display": "block",
   "toc_window_display": false
  }
 },
 "nbformat": 4,
 "nbformat_minor": 4
}
