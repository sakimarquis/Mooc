{
 "cells": [
  {
   "cell_type": "markdown",
   "metadata": {},
   "source": [
    "# Homework - Reinforcement Learning - Part A (40/100 points)"
   ]
  },
  {
   "cell_type": "markdown",
   "metadata": {},
   "source": [
    "by *Todd Gureckis* and *Brenden Lake*  \n",
    "Computational Cognitive Modeling  \n",
    "NYU class webpage: https://brendenlake.github.io/CCM-site/  \n",
    "email to course instructors: instructors-ccm-spring2020@nyuccl.org"
   ]
  },
  {
   "cell_type": "markdown",
   "metadata": {},
   "source": [
    "<div class=\"alert alert-danger\" role=\"alert\">\n",
    "  This homework is due before midnight on March 23, 2020. \n",
    "</div>"
   ]
  },
  {
   "cell_type": "markdown",
   "metadata": {},
   "source": [
    "---"
   ]
  },
  {
   "cell_type": "markdown",
   "metadata": {},
   "source": [
    "## Reinforcement Learning\n",
    "\n",
    "Reinforcement learning (RL) is a topic in machine learning and psychology/neuroscience which considers how an emboddied agent should learn to make decisions in an environment in order to maximize reward.  You could definitely do worse things in life than to read the classic text on RL by Sutton and Barto:\n",
    "\n",
    "* Sutton, R.S. and Barto, A.G. (2017) Reinforcement Learning: An Introduction.  MIT Press, Cambridge, MA. [<a href=\"http://incompleteideas.net/book/the-book-2nd.html\">available online for free!</a>]\n",
    "\n",
    "\n",
    "The standard definition of the RL problem can be summarized with this figure:\n",
    "\n",
    "<img src='images/rlsutton.png' width='300'>\n",
    "\n",
    "The agent at each time point chooses an action which influences the state of the world according to the rules of the environment (e.g., spatial layout of a building or the very nature of physics).  This results in a new state ($s_{t+1}$) and possibly a reward ($r_{t+1}$).  The agent then receives the new state and the reward signal and updates in order to choose the next action.  The goal of the agent is to maximize the reward received over the long run.  In effect this approach treats life like an optimal control problem (one where the goal is to determine the best actions to take for each possible state).\n",
    "\n",
    "The simplicity and power of this framework has made it very influential in recent years in psychology and computer science.  Recently more advanced techniques for solving RL problems have been scaled to show impressive performance on complex, real-world tasks.  For example, so called \"deep RL\" system which combine elements of deep convolutional nets and reinforcement learning algorithms can learn to play classic video games at near-human performance, simply by aiming to earn points in the game:\n",
    "\n",
    "<img src='images/deepql.png' width='350'>\n",
    "\n",
    "* Mnih, V. et al. (2015) Human-level control through deep reinforcement learning.  *Nature*, 518, 529. [<a href=\"https://www.nature.com/articles/nature14236\">pdf</a>]\n",
    "\n",
    "\n",
    "In this homework we will explore some of the underlying principles which support these advances.\n",
    "\n",
    "The homework is divided into two parts:\n",
    "1. The first part (this notebook) explores different solution methods to the problem of behaving optimally in a *known* environment.  \n",
    "2. The [second part](Homework-RL-B.ipynb) explores some basic issues in learning to choose effectively in an *unknown* enviroment.  \n",
    "\n",
    "**References:**\n",
    "* Sutton, R.S. and Barto, A.G. (2017) Reinforcement Learning: An Introduction.  MIT Press, Cambridge, MA.\n",
    "* Gureckis, T.M. and Love, B.C. (2015) Reinforcement learning: A computational perspective. Oxford Handbook of Computational and Mathematical Psychology, Edited by Busemeyer, J.R., Townsend, J., Zheng, W., and Eidels, A., Oxford University Press, New York, NY.\n",
    "* Daw, N.S. (2013) “Advanced Reinforcement Learning” Chapter in Neuroeconomics: Decision making and the brain, 2nd edition\n",
    "* Niv, Y. and Schoenbaum, G. (2008) “Dialogues on prediction errors” *Trends in Cognitive Science*, 12(7), 265-72.\n",
    "* Nathaniel D. Daw, John P. O’Doherty, Peter Dayan, Ben Seymour & Raymond J. Dolan (2006). Cortical substrates for exploratory decisions in humans. *Nature*, 441, 876-879."
   ]
  },
  {
   "cell_type": "markdown",
   "metadata": {},
   "source": [
    "# Learning and deciding in a known world"
   ]
  },
  {
   "cell_type": "markdown",
   "metadata": {},
   "source": [
    "Reinforcement learning is a collection of methods and techniques for learning to make good or optimal sequential decisions.  As described in the lecture, the basic definition of the RL problem (see above) is quite general and therefore there is more than one way to solve an RL problem (and even multiple ways to define what the RL problem is).\n",
    "\n",
    "In this homework we are going to take one simple RL problem: navigation in a grid-world maze, and explore two different ways of solving this decision problem.\n",
    "\n",
    "- The first method is going to be policy-iteration or dynamic programming.  \n",
    "- The second method is going to be monte-carlo simulation.\n",
    "\n",
    "By seeing the same problem solved multiple ways, it helps to reinforce the differences between these different approaches and the features of the algorithms that are interesting from the perspective of human decision making."
   ]
  },
  {
   "cell_type": "markdown",
   "metadata": {},
   "source": [
    "## The problem defintion\n",
    "\n",
    "The problem we will consider is a grid world task.  The grid is a collection of rooms.  Within each room there are four possible actions (move up, down, left, right).  There are also walls in the maze that the agent cannot move through (indicated in blue-grey below).  There are two special states, $S$ which is the start state, and $G$ which is the goal state.  The agent will start at location $S$ and aims to arrive at $G$.  When the agents moves into the $G$ state they earn a reward of +10.  If they walk off the edge of the maze, they receive a -1 reward and are returned to the $S$ state.  $G$ is an absorbing state in the sense that you can think of the agent as never leaving that state once they arrive there.\n",
    "\n",
    "The specific gridworld we will consider looks like this:\n",
    "\n",
    "<img src='images/gridworld.png' width='500'>\n",
    "\n",
    "The goal of the agent to determine the optimal sequential decision making policy to arrive at state $G$.\n",
    "\n",
    "To help you with this task we provide a simple `GridWorld()` class that makes it easy to specify parts of the gridworld environment and provides access to some of the variables you will need in constructing your solutions to the homework.  In order to run the gridworld task you need to first execute the following cell:"
   ]
  },
  {
   "cell_type": "markdown",
   "metadata": {},
   "source": [
    "<div class=\"alert alert-warning\" role=\"alert\">\n",
    "  <strong>Warning!</strong> Before running other cells in this notebook you must first successfully execute the following cell which includes some libraries.\n",
    "</div>"
   ]
  },
  {
   "cell_type": "code",
   "execution_count": null,
   "metadata": {},
   "outputs": [],
   "source": [
    "# import the gridworld library\n",
    "import numpy as np\n",
    "import random\n",
    "import math\n",
    "import statistics\n",
    "from copy import deepcopy\n",
    "from IPython.display import display, Markdown, Latex, HTML\n",
    "from gridworld import GridWorld, random_policy"
   ]
  },
  {
   "cell_type": "markdown",
   "metadata": {},
   "source": [
    "The following cell sets up the grid world defined above including the spatial layout and then a python dictionary called `rewards` that determines which transitions between states result in a reward of a given magnitude."
   ]
  },
  {
   "cell_type": "code",
   "execution_count": null,
   "metadata": {},
   "outputs": [],
   "source": [
    "gridworld = [\n",
    "       [ 'o', 'o', 'o', 'o', 'o', 'o', 'o', 'x', 'g'],\n",
    "       [ 'o', 'x', 'x', 'o', 'x', 'x', 'o', 'x', 'o'],\n",
    "       [ 'o', 'x', 'x', 'o', 'x', 'x', 'o', 'x', 'o'],\n",
    "       [ 'o', 'x', 'x', 'o', 'x', 'x', 'o', 'o', 'o'],\n",
    "       [ 'o', 'x', 'x', 'o', 'x', 'x', 'x', 'o', 'o'],\n",
    "       [ 's', 'o', 'o', 'o', 'o', 'o', 'o', 'o', 'x']\n",
    "    ] # the problem described above, 'x' is a wall, 's' is start, 'g' is goal, and 'o' is a normal room\n",
    "\n",
    "mygrid = GridWorld(gridworld)\n",
    "mygrid.raw_print()  # print out the grid world\n",
    "mygrid.index_print() # print out the indicies of each state\n",
    "mygrid.coord_print() # print out the coordinates of each state (helpful in your code)\n",
    "\n",
    "# define the rewards as a hash table\n",
    "rewards={}\n",
    "\n",
    "# mygrid.transitions contains all the pairwise state-state transitions allowed in the grid\n",
    "# for each state transition intialize the reward to zero\n",
    "for start_state in mygrid.transitions:\n",
    "    for action in mygrid.transitions[start_state].keys():\n",
    "        next_state = mygrid.transitions[start_state][action]\n",
    "        rewards[str([start_state, action, next_state])] = 0.0\n",
    "\n",
    "# now set the reward for moving up into state 8 (the goal state) to +10\n",
    "rewards[str([17, 'up', 8])] = 10\n",
    "\n",
    "# now set the penalty for walking off the edge of the grid and returning to state 45 (the start state)\n",
    "for i in [0,1,2,3,4,5,6,7]:\n",
    "    rewards[str([i, 'up', 45])] = -1\n",
    "for i in [0,9,18,27,36,45]:\n",
    "    rewards[str([i, 'left', 45])] = -1\n",
    "for i in [45,46,47,48,49,50,51,52,53]:\n",
    "    rewards[str([i, 'down', 45])] = -1\n",
    "for i in [8,17,26,35,44,53]:\n",
    "    rewards[str([i, 'right', 45])] = -1"
   ]
  },
  {
   "cell_type": "markdown",
   "metadata": {},
   "source": [
    "<div class=\"alert alert-info\" role=\"alert\">\n",
    "\n",
    "Notice that the above printouts show the grid but also an array of the indexes and coordinated of each location on the grid.  You will need these to help you analyze your solution to the homework so it can be frequently helpful to refer back to these outputs.\n",
    "</div>"
   ]
  },
  {
   "cell_type": "markdown",
   "metadata": {},
   "source": [
    "In order to solve this problem using dynamic programming the agent needs to maintain two key representations.  One is the value of each state under the current policy, $V^\\pi$, and the other is the policy $\\pi(s,a)$.  The following cell initializes a new value table and a new random policy and uses functions provided in `GridWorld` to print these out in the notebook in a friendly way."
   ]
  },
  {
   "cell_type": "code",
   "execution_count": null,
   "metadata": {},
   "outputs": [],
   "source": [
    "value_table=np.zeros((mygrid.nrows,mygrid.ncols))\n",
    "display(Markdown(\"**Current value table for each state**\"))\n",
    "mygrid.pretty_print_table(value_table)\n",
    "\n",
    "policy_table = [[random_policy() for i in range(mygrid.ncols)] for j in range(mygrid.nrows)]\n",
    "display(Markdown(\"**Current (randomized) policy**\"))\n",
    "mygrid.pretty_print_policy_table(policy_table)"
   ]
  },
  {
   "cell_type": "markdown",
   "metadata": {},
   "source": [
    "<div class=\"alert alert-info\" role=\"alert\">\n",
    "\n",
    "Note how the current policy is random with the different arrows within each state pointing in different, sometimes opposing directions.  Your goal is to solve for the best way to orient those arrows.</div>"
   ]
  },
  {
   "cell_type": "markdown",
   "metadata": {},
   "source": [
    "## Dynamic Programming via Policy Iteration"
   ]
  },
  {
   "cell_type": "markdown",
   "metadata": {},
   "source": [
    "<div class=\"alert alert-success\" role=\"alert\">\n",
    "<h3> Problem 1 (15 points) </h3><br>\n",
    "  Remember that the Bellman equation that recursively relates the value of any state to any other state is like this:\n",
    "\n",
    "$\\large V^{\\pi}(s) = \\sum_{a} \\pi(s,a) \\sum_{s'} \\mathcal{P}^{a}_{ss'} [ \\mathcal{R}^{a}_{ss'}+\\gamma V^{\\pi}(s')]$\n",
    "\n",
    "Your job in this first exercise is to set up a dynamic programming solution to the provided gridworld problem.  Your should implement two steps.  The first is policy evaluation which means given a policy (in `policy_table`) update the `value_table` to be consistent with that policy.  Your algorithm should do this by visiting each state in a random order and updating it's value in the `value_table` (this is known as asychronous update since you are changing the values in-place).  \n",
    "\n",
    "The next step is policy improvement where you change the policy to maximize expected long-run reward in each state by adjusting which actions you should take (this means changing the values in `policy_table`).  We will only consider deterministic policies in this case.  Thus your algorithm should always choose one action to take in each state even if two actions are similarly valued.\n",
    "\n",
    "The algorithm you write should iterate sequentially between policy evaluate and (greedy) policy improvement for at least 2000 iterations.\n",
    "\n",
    "<img src=\"images/sutton-iteration.png\">\n",
    "\n",
    "(Figure from <a href=\"http://www.incompleteideas.net/book/the-book-2nd.html\">Sutton and Barto</a> text)\n",
    "\n",
    "To gain some intuition about how preferences for the future impact the resulting policies, run your algorithm twice, once with $\\gamma$ set to zero (as in lecture) and another with $\\gamma$ set to 0.9 and output the resulting policy and value table using `mygrid.pretty_print_policy_table()` and `mygrid.pretty_print_table()`.\n",
    "</div>\n",
    "\n",
    "\n",
    "\n"
   ]
  },
  {
   "cell_type": "markdown",
   "metadata": {},
   "source": [
    "<div class=\"alert alert-info\" role=\"alert\">\n",
    "  <strong>Info</strong> <br> \n",
    "  The `GridWorld` class provides some helpful functions that you will need in your solution.  The following code describes these features\n",
    "</div>"
   ]
  },
  {
   "cell_type": "markdown",
   "metadata": {},
   "source": [
    "<div class=\"alert alert-info\" role=\"alert\">\n",
    "\n",
    "Only some states are \"valid\" i.e., are not walls.  `mygrid.valid_states` is a python dictionary containing those states.  The keys of this dictionary are id numbers for each state (see the output of `mygrid.index_print()`) and the values are coordinates (see the output of `mygrid.coord_print()`).  Your algorithm will want to iterate over this list to update the value of each \"valid\" state.\n",
    "</div>"
   ]
  },
  {
   "cell_type": "code",
   "execution_count": null,
   "metadata": {},
   "outputs": [],
   "source": [
    "mygrid.valid_states  # output the indexes and coordinates of the valid states"
   ]
  },
  {
   "cell_type": "markdown",
   "metadata": {},
   "source": [
    "<div class=\"alert alert-info\" role=\"alert\">\n",
    "As the previous command makes clear, there are two ways of referencing a state: by its id number or by its coordinates.  Two functions let you swap between those:\n",
    "\n",
    "- `mygrid.index_to_coord(index)` converts a index (e.g., 1-100) to a coordinate (i,j)\n",
    "- `mygrid.coord_to_index(coord)` takes a tuples representing the coordinate (i,j) and return the index (e.g., 1-100)\n",
    "\n",
    "Both the value table (`value_table`) and policy table (`policy_table`) are indexed using coordinates.\n",
    "</div>"
   ]
  },
  {
   "cell_type": "markdown",
   "metadata": {},
   "source": [
    "<div class=\"alert alert-info\" role=\"alert\">\n",
    "    \n",
    "A key variable for your algorithm is $\\mathcal{P}^{a}_{ss'}$ which is the probability of reaching state $s'$ when in state $s$ and taking action $a$.  We assume that the world is deterministic here so these probabilities are always 1.0.  However, some states do not lead to immediately adjacent cells but instead return to the start state (e.g., walking off the edge of the grid).  `mygrid.transitions` contains a nested hash table that contains this information for your gridworld.  For example consider state 2:\n",
    "</div>\n"
   ]
  },
  {
   "cell_type": "code",
   "execution_count": null,
   "metadata": {},
   "outputs": [],
   "source": [
    "state = 2\n",
    "mygrid.transitions[state]"
   ]
  },
  {
   "cell_type": "markdown",
   "metadata": {},
   "source": [
    "<div class=\"alert alert-info\" role=\"alert\">\n",
    "\n",
    "The output of the above command is a python dictionary showing what next state you will arrive at if you chose the given actions.  Thus `mygrid.transitions[2]['down']` would return state id 2 because you will hit the wall and thus not change state.  Whereas `mygrid.transitions[2]['left']` will move to state 1.  The `mygrid.transitions` dictionary thus provides all the information necessary to represent $P^a_{ss'}$.  The world is deterministic so taking an action in a given state will always move the agent to the next corresponding state with probability 1.\n",
    "</div>"
   ]
  },
  {
   "cell_type": "markdown",
   "metadata": {},
   "source": [
    "<div class=\"alert alert-info\" role=\"alert\">\n",
    "    \n",
    "The next variable you will need is the reward function.  Rewards are delivered anytime the agent makes a transition from one state to another using a particular action.  Thus this variable is written $\\mathcal{R}^{a}_{ss'}$ in the equation above.  You can access this programmatically using the python dictionary \n",
    "`rewards` which we ourselves defined above.  The `rewards` dictionary defines the reward for taking a particular action in a particular state and then arriving at a new state $s'$.  To look up the reward for a particular $<s,a,s'>$ triplet you create a list with these variables in index format, convert it to a string, and look it up in the dictionary.  For example the reward for being in state 17, choosing up, and then arriving in state 8 is:\n",
    "</div>\n",
    "\n"
   ]
  },
  {
   "cell_type": "code",
   "execution_count": null,
   "metadata": {},
   "outputs": [],
   "source": [
    "state = 17\n",
    "next_state = 8\n",
    "action = \"up\"\n",
    "rewards[str([state, action, next_state])]"
   ]
  },
  {
   "cell_type": "markdown",
   "metadata": {},
   "source": [
    "<div class=\"alert alert-info\" role=\"alert\">\n",
    "This should be the required ingredients to solve both the policy evaluation and policy improvement functions that you will need to write.  If you need further information you can read the `GridWorld` class directly in <a href=\"gridworld.py\">gridworld.py</a>. \n",
    "</div>\n",
    "\n"
   ]
  },
  {
   "cell_type": "markdown",
   "metadata": {},
   "source": [
    "### Your solution:"
   ]
  },
  {
   "cell_type": "markdown",
   "metadata": {},
   "source": [
    "Implement the two major steps of your algorithm as the following two functions.  Then write code that iterates between them for the specified number of steps and inspect the final solution.  **Some scaffolding code has been provided for you so all you have to implement is the sections noted in the comments**"
   ]
  },
  {
   "cell_type": "code",
   "execution_count": null,
   "metadata": {},
   "outputs": [],
   "source": [
    "def policy_evaluate(mygrid, value_table, policy_table, GAMMA):\n",
    "    valid_states = list(mygrid.valid_states.keys())\n",
    "    random.shuffle(valid_states)\n",
    "\n",
    "    for state in valid_states:\n",
    "        sx,sy = mygrid.index_to_coord(state)\n",
    "        new_value = 0.0\n",
    "        for action in mygrid.transitions[state].keys():\n",
    "            # PART 1: HOMEWORK: compute what the new value of the give state should be\n",
    "            # here!!!  This is your homework problem***************************************\n",
    "            assert False, \"Implement your solution here\"\n",
    "        value_table[sx][sy] = new_value\n",
    "\n",
    "# this is a helper function that will take a set of q-values and convert them into a greedy decision strategy        \n",
    "def be_greedy(q_values):\n",
    "    if len(q_values)==0:\n",
    "        return {}\n",
    "    \n",
    "    keys = list(q_values.keys())\n",
    "    vals = [q_values[i] for i in keys]    \n",
    "    maxqs = [i for i,x in enumerate(vals) if x==max(vals)]\n",
    "    if len(maxqs)>1:\n",
    "        pos = random.choice(maxqs)\n",
    "    else:\n",
    "        pos = maxqs[0]\n",
    "    policy = deepcopy(q_values)\n",
    "    for i in policy.keys():\n",
    "        policy[i]=0.0\n",
    "    policy[keys[pos]]=1.0\n",
    "    return policy\n",
    "\n",
    "def policy_improve(mygrid, value_table, policy_table, GAMMA):\n",
    "    # for each state\n",
    "    valid_states = list(mygrid.valid_states.keys())\n",
    "\n",
    "    for state in valid_states:\n",
    "        # compute the Q-values for each action\n",
    "        q_values = {}\n",
    "        for action in mygrid.transitions[state].keys():\n",
    "            # update the q-values here for each action here\n",
    "            # and store them in a variable called qval\n",
    "            # PROBLEM 1: HOMEWORK: Compute the qval here*********************\n",
    "            assert False, \"Implement your solution here\"\n",
    "            q_values[action]=qval\n",
    "        newpol = be_greedy(q_values) # take this dictionary and convert into a greedy policy\n",
    "        # then update the policy table printing to allow more complex policies\n",
    "        sx,sy = mygrid.index_to_coord(state)\n",
    "        for action in mygrid.transitions[state].keys():\n",
    "            policy_table[sx][sy][action] = newpol[action]"
   ]
  },
  {
   "cell_type": "markdown",
   "metadata": {},
   "source": [
    "The following code actually runs the policy iteration algorithm cycles.  You should play with the parameters of this simulation until you are sure that your algorithm has converged and that you understand how the various parameters influence the obtained solutions."
   ]
  },
  {
   "cell_type": "code",
   "execution_count": null,
   "metadata": {},
   "outputs": [],
   "source": [
    "mygrid.pretty_print_table(value_table)\n",
    "mygrid.pretty_print_policy_table(policy_table)\n",
    "\n",
    "GAMMA=0.9  # run your algorithm from \n",
    "           # above with different settings of GAMMA \n",
    "           # (Specifically 0 and 0.9 to see how the resulting value function and policy changein)\n",
    "for i in range(2000):\n",
    "    policy_evaluate(mygrid, value_table, policy_table, GAMMA)\n",
    "    policy_improve(mygrid, value_table, policy_table, GAMMA)\n",
    "\n",
    "mygrid.pretty_print_table(value_table)\n",
    "mygrid.pretty_print_policy_table(policy_table)"
   ]
  },
  {
   "cell_type": "markdown",
   "metadata": {},
   "source": [
    "<div class=\"alert alert-info\" role=\"alert\">\n",
    "Your final policy should look something like this for $\\gamma=0.0$:\n",
    "\n",
    "<img src=\"images/gammazerodpsolution.png\" width=\"250\">\n",
    "\n",
    "and like this for $\\gamma=0.9$\n",
    "\n",
    "<img src=\"images/gamma09dpsolution.png\" width=\"500\">\n",
    "\n",
    "Although note that your solution may not be identical because we are doing greedy action selection and randomly choosing one perferred action in the case that there are ties (partly because it is harder to display stochastic policies as a grid).  However, if you consider the structure of this particular gridworld there is always one best move.\n",
    "</div>"
   ]
  },
  {
   "cell_type": "markdown",
   "metadata": {},
   "source": [
    "## First Visit Monte-Carlo"
   ]
  },
  {
   "cell_type": "markdown",
   "metadata": {},
   "source": [
    "In the previous exercise you solved the sequential decision making problem using policy iteration.  However, you relied heavily on the information provided by the `GridWorld()` class, especially $\\mathcal{P}^{a}_{ss'}$ (`mygrid.transitions`) and $\\mathcal{R}^{a}_{ss'}$ (`rewards`).  These values are not commonly known when an agent faces an environment.  In this step of the homework you will solve the same grid world problem this time using Monte-Carlo.  \n",
    "    \n",
    "[Monte Carlo methods](https://en.wikipedia.org/wiki/Monte_Carlo_method) are ones where stochastic samples are drawn from a problem space and aggregated to estimate quantities of interest.  In this case we want to average the expected rewards available from a state going forward.  Thus, we will use Monte Carlo methods to estimate the value of particular actions or states.\n",
    "\n",
    "The specific Monte-Carlo algorithm you should use is known as First-Visit Monte Carlo (described in lecture).  According to this algorithm, each time you first visit a state (or state-action pair) you record the rewards received until the end of an episode.  You do this many times and then average together the rewards received to estimate the value of the state or action.\n",
    "\n",
    "Then, as you did in problem 1, you adjust your policy to become greedy with respect to the values you have estimated.\n",
    "\n",
    "There are two significant conceptual changes in applying Monte-Carlo to the gridworld problem.  First is that rather than estimate the value of each state $V^{\\pi}(s)$ under the current policy $\\pi$, it makes more sense to estimate the value of each state-action pair, $Q^{\\pi}(s,a)$, directly.  The reason is that in your previous solution, in order to determine the optimal policy, you likely had to know $\\mathcal{P}^{a}_{ss'}$ to determine which action to perform and which state it would lead to.  Since we are trying to avoid accessing any explicit knowledge about the probabilities and rewards we cannot use this variable in our solution.  Thus, average the returns following the first visit to a particular action.\n",
    "\n",
    "The second is what policy we should use for running our Monte Carlo updates.  If we randomly initialize the policy as we did above and then run it forward it is very easy for the runs to get caught in cycles and loops that never visit many of the states or ever encounters any rewards.  Thus, we will want to include some randomness in our simulations so that they have a non-zero probability of choosing different actions.  We will consider this issue in more detail in Part B of the homework.  For now use the $\\epsilon$-greedy algorithm which chooses the currently \"best\" action with probability $1-\\epsilon$ and otherwise chooses randomly.  \n",
    "\n",
    "In addition, we will utilize the concept of **exploring starts**.  Even though we designated one state as the \"Start state\" it can help the monte carlo algorithm explore more efficiently if we start the episodes from random starting locations.  The reason is that early on the policy might have loops and other inconistencies which mean some states are rarely sampled, if at all.  Exploring starts (when feasible) can help the algorithm avoid these local minima."
   ]
  },
  {
   "cell_type": "markdown",
   "metadata": {},
   "source": [
    "<div class=\"alert alert-success\" role=\"alert\">\n",
    "<h3> Problem 2 (15 points) </h3><br>\n",
    "  \n",
    "    \n",
    "In this exercise you should solve the problem introduced at the start of this notebook using Monte Carlo methods.  The pseudo code for your algorithm is described here:\n",
    "\n",
    "```\n",
    "Initialize, for all $s \\in S$, $a \\in A(s)$:\n",
    "    $Q(s,a)$ <- arbitrary\n",
    "    $\\pi(s)$ <- arbitrary\n",
    "    $Returns(s,a)$ <- empty list\n",
    "\n",
    "Repeat many times:\n",
    "    a) Generate an episode using $\\pi$ with $\\epislon$ probability of choosing an action at random\n",
    "    b) For each pair $s,a$ appearing in the episode\n",
    "        R <- return following the first occurence of $s,a$\n",
    "        Append R to $Returns(s,a)$\n",
    "        $Q(s,a)$ <- discounted_average(Returns(s,a))\n",
    "    c) For eash $s$ in episode:\n",
    "        $\\pi(s)$ <- arg max_a Q(s,a)\n",
    "```\n",
    "\n",
    "When you compute the average returns you should weight them by them by $\\gamma$ so that they reflect the discount rates described above.  Run your algorithm for both $\\gamma=0.0$ and $\\gamma=0.9$ and compare the resulting `policy_table` to the one you obtained in Problem 1.  They should work out to the same optimal policies, obtained using a quite different method, and one that in particular doesn't need an explicit model of the environment.\n",
    "\n",
    "Keep in mind that in cases where there are two equally good actions which one is selected and shown in your policy table is arbitrary.  If correctly implemeneted the dynamic programming soluion then you should be aware of when these cases happen.  It is thus fine if the policies you get from monte-carlo and dynamic programming are not **identical** but are still **correct**.\n",
    "</div>"
   ]
  },
  {
   "cell_type": "markdown",
   "metadata": {},
   "source": [
    "<div class=\"alert alert-info\" role=\"alert\">\n",
    "    \n",
    "There are a couple of hints that you will need to implement your solution which are provided by the `GridWorld` class.  The first is that you will still need to use the `rewards` dictionary from your solution to Problem 1 to compute when the rewards are delievered.  However instead of consulting this function arbitrarily you are using it just to sample the rewards when the correct event happens in your Monte Carlo simulation.\n",
    "\n",
    "Second, you will need to find out what state you are in after taking an action in a given state.  The one-step transition dynamics of the gridworld can be simulated from the GridWorld class.  For example, to determine the state you would be in if you were in state 45 (the start state) and chose the action \"up\", \"down\", \"left\", or \"right\" is given by:\n",
    "</div>"
   ]
  },
  {
   "cell_type": "code",
   "execution_count": null,
   "metadata": {},
   "outputs": [],
   "source": [
    "[mygrid.up(45), mygrid.down(45), mygrid.left(45), mygrid.right(45)]"
   ]
  },
  {
   "cell_type": "markdown",
   "metadata": {},
   "source": [
    "<div class=\"alert alert-info\" role=\"alert\">\n",
    "\n",
    "Note that in this example, down and left walk off the edge of the environment and thus return the agent to the start state.\n",
    "\n",
    "</div>"
   ]
  },
  {
   "cell_type": "markdown",
   "metadata": {},
   "source": [
    "<div class=\"alert alert-info\" role=\"alert\">\n",
    "\n",
    "The following two functions implement the epsilon-greedy Monte Carlo sample from your gridworld task using a recursive function.  Although this is provided to you for free, you should try to understand the logic of these functions.\n",
    "</div>"
   ]
  },
  {
   "cell_type": "code",
   "execution_count": null,
   "metadata": {},
   "outputs": [],
   "source": [
    "def epsilon_greedy(actions, epsilon):\n",
    "    if random.random() < epsilon:\n",
    "        return random.choice(list(actions.keys()))\n",
    "    else:\n",
    "        if actions['up']==1.0:\n",
    "            return 'up'\n",
    "        elif actions['right']==1.0:\n",
    "            return 'right'\n",
    "        elif actions['down']==1.0:\n",
    "            return 'down'\n",
    "        elif actions['left']==1.0:\n",
    "            return 'left'\n",
    "\n",
    "#recursively sample state-action transitions using epsilon greedy algorithm with a maximum recursion depth of 100.\n",
    "def mc_episode(current_state, epsilon, goal_state, policy_table, depth=0, max_depth=100):\n",
    "    if current_state!=goal_state and depth<max_depth:\n",
    "        sx, sy = mygrid.index_to_coord(current_state)\n",
    "        action = epsilon_greedy(policy_table[sx][sy],epsilon)\n",
    "        if action == 'up':\n",
    "            new_state = mygrid.up(current_state)\n",
    "        elif action == 'right':\n",
    "            new_state = mygrid.right(current_state)\n",
    "        elif action == 'down':\n",
    "            new_state = mygrid.down(current_state)\n",
    "        elif action == 'left':\n",
    "            new_state = mygrid.left(current_state)\n",
    "        r = rewards[str([current_state,action,new_state])]\n",
    "        return [[r, current_state, action]] + mc_episode(new_state, epsilon, goal_state, policy_table, depth=depth+1, max_depth=max_depth)\n",
    "    else:\n",
    "        return []"
   ]
  },
  {
   "cell_type": "markdown",
   "metadata": {},
   "source": [
    "<div class=\"alert alert-info\" role=\"alert\">\n",
    "\n",
    "Some initial data structures for managing the q-values, policy, and returns have been defined for you here:\n",
    "</div>"
   ]
  },
  {
   "cell_type": "code",
   "execution_count": null,
   "metadata": {},
   "outputs": [],
   "source": [
    "starting_state = 45\n",
    "goal_state = 8 # terminate the MC roll out when you get to this state\n",
    "GAMMA=0.9\n",
    "EPSILON = 0.2 # more exploration is often better\n",
    "ITERATIONS = 50000 # this may need to be 100,000 or more!\n",
    "PRINT_EVERY = 1000 # how often to print out our progress\n",
    "random.seed(5000) # try multiple random seed to verify your code works\n",
    "\n",
    "# set up initial data strucutres that might be useful for you\n",
    "# q(s,a)\n",
    "def init_q_values(init):\n",
    "    qvals = {\"up\": init, \"right\": init, \"down\": init, \"left\": init}\n",
    "    return qvals\n",
    "INIT_VAL = -99999.0  #initialize unsampled q values to a very small number (pessimitic intiaizliation)\n",
    "q_value_table = [[init_q_values(INIT_VAL) for i in range(mygrid.ncols)] for j in range(mygrid.nrows)]\n",
    "\n",
    "# pi\n",
    "policy_table = [[random_policy() for i in range(mygrid.ncols)] for j in range(mygrid.nrows)]\n",
    "display(Markdown(\"**Initial (randomized) policy**\"))\n",
    "mygrid.pretty_print_policy_table(policy_table)\n",
    "\n",
    "# dictionary for returns, can be filled in as more info is encountered\n",
    "returns = {}\n",
    "\n",
    "for i in range(ITERATIONS):  # you probably need to take many, many steps here and it make take some time to run\n",
    "    # instead of always starting at the start state, this algorithm will use the concept of an \n",
    "    # \"exploring start\" so that it starts in a random valid state\n",
    "    # this can help a lot\n",
    "    ss = random.choice(list(mygrid.valid_states.keys()))  # select and exploring start state\n",
    "    episode = mc_episode(ss, EPSILON, goal_state, policy_table)\n",
    "\n",
    "    visited = {}\n",
    "    for idx in range(len(episode)):\n",
    "        item = episode[idx]\n",
    "        qkey = str((item[1],item[2]))\n",
    "        if qkey not in visited:\n",
    "            # PROBLEM 2- update the returns dictionary to include the discounted average rewards according to\n",
    "            # the first visit algorithm\n",
    "            assert False, \"Implement your solution here\"\n",
    "           \n",
    "\n",
    "    # update q-value-table\n",
    "    for ret in returns.keys():\n",
    "        s,a = eval(ret)\n",
    "        sx, sy = mygrid.index_to_coord(s)\n",
    "        #q_value_table[sx][sy][a] = # PROBLEM 2- UPDATE your average returns here, depends on how you implement the above\n",
    "        assert False, \"Implement your solution here\"\n",
    "\n",
    "        \n",
    "    # improve policy\n",
    "    for sx in range(len(q_value_table)):\n",
    "        for sy in range(len(q_value_table[sx])):\n",
    "            policy_table[sx][sy] = be_greedy(q_value_table[sx][sy])\n",
    "        \n",
    "    if i%PRINT_EVERY==0:\n",
    "        display(Markdown(f\"**Improved policy interation {i}**\"))\n",
    "        mygrid.pretty_print_policy_table(policy_table)\n",
    "        \n",
    "display(Markdown(\"**Improved policy**\"))\n",
    "mygrid.pretty_print_policy_table(policy_table)"
   ]
  },
  {
   "cell_type": "markdown",
   "metadata": {},
   "source": [
    "<div class=\"alert alert-success\" role=\"alert\">\n",
    "<h3> Problem 3 (10 points) </h3><br>\n",
    "\n",
    "The two solution methods we just considered have different strengths and weaknesses.  Describe in your own words the things that make these solutions methods better or worse.  Your response should be 2-3 sentences and address both the computational efficiency of the algoriths, the amount of assumed knowledge of the environment, and the relationship between these methods to how humans might solve similar sequential decision making problems.  Are either algorithm plausible models of human cognition?\n",
    "<div>"
   ]
  },
  {
   "cell_type": "markdown",
   "metadata": {},
   "source": [
    "# Turning in homework\n",
    "\n",
    "When you are finished with this notebook. Save your work in order to turn it in.  To do this select *File*->*Download As...*->*HTML*.\n",
    "\n",
    "<img src=\"images/save-pdf.png\" width=\"300\">\n",
    "\n",
    "You can turn in your assignments using NYU Classes webpage for the course (available on https://home.nyu.edu). **Make sure you complete all parts (A and B) of this homework.**"
   ]
  },
  {
   "cell_type": "markdown",
   "metadata": {},
   "source": [
    "## Next steps...\n",
    "\n",
    "So, far, so good...  Now move on to [Homework Part B](Homework-RL-B.ipynb) "
   ]
  }
 ],
 "metadata": {
  "kernelspec": {
   "display_name": "Python 3",
   "language": "python",
   "name": "python3"
  },
  "language_info": {
   "codemirror_mode": {
    "name": "ipython",
    "version": 3
   },
   "file_extension": ".py",
   "mimetype": "text/x-python",
   "name": "python",
   "nbconvert_exporter": "python",
   "pygments_lexer": "ipython3",
   "version": "3.7.3"
  },
  "toc": {
   "base_numbering": 1,
   "nav_menu": {},
   "number_sections": true,
   "sideBar": true,
   "skip_h1_title": false,
   "title_cell": "Table of Contents",
   "title_sidebar": "Contents",
   "toc_cell": false,
   "toc_position": {},
   "toc_section_display": true,
   "toc_window_display": false
  }
 },
 "nbformat": 4,
 "nbformat_minor": 2
}
