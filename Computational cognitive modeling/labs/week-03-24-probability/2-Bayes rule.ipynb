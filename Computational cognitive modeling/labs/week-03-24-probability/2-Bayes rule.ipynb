{
 "cells": [
  {
   "cell_type": "code",
   "execution_count": null,
   "metadata": {},
   "outputs": [],
   "source": [
    "import numpy as np"
   ]
  },
  {
   "cell_type": "markdown",
   "metadata": {},
   "source": [
    "# Bayes' rule for discrete hypotheses\n",
    "\n",
    "Posterior = Likelihood * Prior / Marginal probability of the data\n",
    "\n",
    "$$ P(h|d)=\\frac{P(d|h)\\cdot P(h)}{P(d)}$$"
   ]
  },
  {
   "cell_type": "markdown",
   "metadata": {},
   "source": [
    "## Example: Medical diagnosis\n",
    "\n",
    "We have a patient who coughed. What is the probability that she has lung cancer?\n",
    "\n",
    "### Data ($d$):\n",
    "The patient coughed.\n",
    "\n",
    "### Hypotheses ($h$):\n",
    "1. Healthy ($h_1$)\n",
    "1. Cold ($h_2$)\n",
    "1. Lung cancer ($h_3$)\n",
    "\n",
    "### Prior probabilities ($P(h)$):\n",
    "*From prior experience, we know that out of 100 random patients, 90 are healthy, 9 have a cold, and 1 has lung cancer.*\n",
    "1. $P(h_1)=0.90$\n",
    "1. $P(h_2)=0.09$\n",
    "1. $P(h_3)=0.01$\n",
    "\n",
    "### Likelihood function ($P(d|h)$):\n",
    "*If a patient is healthy, it is very unlikely that she coughs (1 in 100), if she has a cold it is probable (50 in 100), and if she has lung cancer it is very likely (99 in 100) that she coughs.*\n",
    "1. $P(d|h_1)=0.01$\n",
    "1. $P(d|h_2)=0.5$\n",
    "1. $P(d|h_3)=0.99$\n",
    "\n",
    "### Posterior ($P(h|d)$)\n",
    "\n",
    "Inserting the values to Bayes' rule from above gives:\n",
    "\n",
    "The probability that the patient is **healthy** is \n",
    "$P(h_1|d)=\\frac{.01 * .9}{P(d)}=\\frac{.009}{P(d)}$\n",
    "\n",
    "The probability that the patient has a **cold** is \n",
    "$P(h_2|d)=\\frac{.5 * .09}{P(d)}=\\frac{.045}{P(d)}$\n",
    "\n",
    "The probability that the patient has **lung cancer** is \n",
    "$P(h_3|d)=\\frac{.99 * .01}{P(d)}=\\frac{.0099}{P(d)}$\n"
   ]
  },
  {
   "cell_type": "markdown",
   "metadata": {},
   "source": [
    "Because the **marginal probability of the data** $P(d)$ is the same in each case, we only need to compute it once: $$P(d)=\\sum_h P(d|h) \\cdot P(h) = .009 + .045 + .0099 = .0639$$ \n",
    "This constant guarantees that the posterior probabilities sum to 1, so that they form a proper probability distribution. Now we have the posterior probabilities:\n",
    "\n",
    "The probability that the patient is **healthy** is \n",
    "$P(h_1|d)=\\frac{.009}{.0639} \\approx .14$\n",
    "\n",
    "The probability that the patient has a **cold** is \n",
    "$P(h_2|d)=\\frac{.045}{.0639} \\approx .70$\n",
    "\n",
    "The probability that the patient has **lung cancer** is \n",
    "$P(h_3|d)=\\frac{.0099}{.0639} \\approx .15$"
   ]
  },
  {
   "cell_type": "code",
   "execution_count": null,
   "metadata": {},
   "outputs": [],
   "source": [
    "# number of hypotheses\n",
    "n = 3\n",
    "\n",
    "# prior P(h)\n",
    "prior = [0.9, 0.09, 0.01]\n",
    "\n",
    "# likelihood P(d|h)\n",
    "p_d_given_h = [0.01, 0.5, 0.99]\n",
    "\n",
    "# in-between step\n",
    "proto = [p_d_given_h[i] * prior[i] for i in range(n)]\n",
    "\n",
    "# marginal probability of the data\n",
    "p_d = sum(proto)\n",
    "\n",
    "# posterior\n",
    "posterior = [proto[i] / p_d for i in range(n)]\n",
    "\n",
    "print(\"P(Healthy|Cough)={}\".format(posterior[0]))\n",
    "print(\"P(Cold|Cough)={}\".format(posterior[1]))\n",
    "print(\"P(LungCancer|Cough)={}\".format(posterior[2]))"
   ]
  },
  {
   "cell_type": "code",
   "execution_count": null,
   "metadata": {},
   "outputs": [],
   "source": [
    "# What if the patient hadn't coughed?\n",
    "\n",
    "# update likelihood\n",
    "# P(no cough|h_1) = 1 - P(cough|h_1)\n",
    "# P(no cough|h_2) = 1 - P(cough|h_2)\n",
    "# P(no cough|h_3) = 1 - P(cough|h_3)\n",
    "p_d_given_h = [1 - 0.01, 1 - 0.5, 1 - 0.99]\n",
    "\n",
    "proto = [p_d_given_h[i] * prior[i] for i in range(n)]\n",
    "p_d = sum(proto)\n",
    "posterior = [proto[i] / p_d for i in range(n)]\n",
    "\n",
    "print(\"P(Healthy|No cough)={}\".format(posterior[0]))\n",
    "print(\"P(Cold|No cough)={}\".format(posterior[1]))\n",
    "print(\"P(LungCancer|No cough)={}\".format(posterior[2]))"
   ]
  },
  {
   "cell_type": "markdown",
   "metadata": {},
   "source": [
    "## General functions\n",
    "It can be that simple!"
   ]
  },
  {
   "cell_type": "code",
   "execution_count": null,
   "metadata": {},
   "outputs": [],
   "source": [
    "def normalize(x):\n",
    "    return x / sum(x)\n",
    "\n",
    "def posterior(prior, likelihood):\n",
    "    proto = likelihood * prior\n",
    "    return normalize(proto)"
   ]
  },
  {
   "cell_type": "code",
   "execution_count": null,
   "metadata": {},
   "outputs": [],
   "source": [
    "## The functions only work with numpy arrays\n",
    "prior = np.array([0.9, 0.09, 0.01])\n",
    "likelihood = np.array([0.01, 0.5, 0.99])\n",
    "posterior(prior, likelihood)"
   ]
  },
  {
   "cell_type": "markdown",
   "metadata": {},
   "source": [
    "## Example: Weather\n",
    "In the 'Joint, Conditional, Marginal Distributions' notebook, we had the probability of traffic given certain weather P(T|W) and the probability of certain weather in general P(W). My office does not have any windows so I can't see the weather. But I know there is *no traffic* because my friend told me in a text message. With Bayes' rule I can compute what weather it is, given that there no traffic. My life is great."
   ]
  },
  {
   "cell_type": "code",
   "execution_count": null,
   "metadata": {},
   "outputs": [],
   "source": [
    "## We are looking for P(W|T)\n",
    "\n",
    "## Copying info from other notebook\n",
    "def P_W(weather):\n",
    "    if weather == \"sunny\":\n",
    "        return 0.7\n",
    "    if weather == \"cloudy\":\n",
    "        return 0.2\n",
    "    if weather == \"stormy\":\n",
    "        return 0.1\n",
    "def P_T_given_W(weather, traffic):\n",
    "    states = {\n",
    "        (\"sunny\", \"yes\") : 0.143,\n",
    "        (\"cloudy\", \"yes\"): 0.5,\n",
    "        (\"stormy\", \"yes\"): 1.0,\n",
    "        (\"sunny\", \"no\")  : 0.857,\n",
    "        (\"cloudy\", \"no\") : 0.5,\n",
    "        (\"stormy\", \"no\") : 0.0,\n",
    "    }\n",
    "    return states[(weather, traffic)]"
   ]
  },
  {
   "cell_type": "code",
   "execution_count": null,
   "metadata": {},
   "outputs": [],
   "source": [
    "## hypotheses\n",
    "hypotheses = (\"sunny\", \"cloudy\", \"stormy\")\n",
    "\n",
    "## data\n",
    "traffic = 'no' \n",
    "\n",
    "## turn into numpy arrays\n",
    "prior = np.array([P_W(weather) for weather in hypotheses])\n",
    "likelihood = np.array([P_T_given_W(weather, traffic) for weather in hypotheses])\n",
    "\n",
    "## compute posterior belief\n",
    "belief = posterior(prior, likelihood)"
   ]
  },
  {
   "cell_type": "code",
   "execution_count": null,
   "metadata": {},
   "outputs": [],
   "source": [
    "for i, v in enumerate(hypotheses):\n",
    "    print(v + ': ' + str(belief[i]))"
   ]
  },
  {
   "cell_type": "markdown",
   "metadata": {},
   "source": [
    "It is probably sunny outside! :)"
   ]
  },
  {
   "cell_type": "markdown",
   "metadata": {},
   "source": [
    "## Bayes rule in log space"
   ]
  },
  {
   "cell_type": "markdown",
   "metadata": {},
   "source": [
    "When computing the $P(d|h)\\cdot P(h)$, the values we are multiplying are very small (e.g. because we have many hypotheses or very unlikely data). Then the result becomes even smaller and the computer might not be able to represent such small number.\n",
    "\n",
    "The solution is to represent the probabilities in log space (and there is even some evidence that the brain is representing probabilities in log space too). A really small probability is easily and accurately represented by a negative number in log space:"
   ]
  },
  {
   "cell_type": "code",
   "execution_count": null,
   "metadata": {},
   "outputs": [],
   "source": [
    "x = 0.0000000000000156\n",
    "np.log(x)"
   ]
  },
  {
   "cell_type": "markdown",
   "metadata": {},
   "source": [
    "This means for Bayes' rule:\n",
    "\n",
    "$$ P(h|d)=\\frac{P(d|h)\\cdot P(h)}{P(d)}$$\n",
    "\n",
    "turns into \n",
    "\n",
    "$$ \\log P(h|d)=\\log P(d|h) + \\log P(h) - \\log P(d)$$\n",
    "\n",
    "So far so good, but to compute $P(d)$ we took the sum of all the $P(d|h)\\cdot P(h)$ values for each $h$. Since multiplications turn into additions in log space, just taking the sum of the $\\log P(d|h) + \\log P(h)$ values naively, you will quite quickly encounter underflows or overflows. Even if you work in log-space, the limited precision of computers is not enough and the result will be INF or -INF. Instead we use the `logsumexp` function from the `scipy` package in our `normalize` function. Our functions from above then turn into:"
   ]
  },
  {
   "cell_type": "code",
   "execution_count": null,
   "metadata": {},
   "outputs": [],
   "source": [
    "from scipy.special import logsumexp\n",
    "\n",
    "def log_normalize(x):\n",
    "    return x - logsumexp(x)\n",
    "\n",
    "def log_posterior(log_prior, log_likelihood):\n",
    "    proto = log_likelihood + log_prior\n",
    "    return log_normalize(proto)"
   ]
  },
  {
   "cell_type": "code",
   "execution_count": null,
   "metadata": {},
   "outputs": [],
   "source": [
    "## try out\n",
    "log_prior = np.log(np.array([0.9, 0.09, 0.01]))\n",
    "log_likelihood = np.log(np.array([0.01, 0.5, 0.99]))\n",
    "log_posterior(log_prior, log_likelihood)"
   ]
  },
  {
   "cell_type": "markdown",
   "metadata": {},
   "source": [
    "After the log_normalization it is safe to turn the log probabilities back into probabilities via $P(x) = exp(log P(x))$."
   ]
  },
  {
   "cell_type": "code",
   "execution_count": null,
   "metadata": {},
   "outputs": [],
   "source": [
    "np.exp(log_posterior(log_prior, log_likelihood))"
   ]
  },
  {
   "cell_type": "code",
   "execution_count": null,
   "metadata": {},
   "outputs": [],
   "source": []
  }
 ],
 "metadata": {
  "kernelspec": {
   "display_name": "Python [Root]",
   "language": "python",
   "name": "Python [Root]"
  },
  "language_info": {
   "codemirror_mode": {
    "name": "ipython",
    "version": 3
   },
   "file_extension": ".py",
   "mimetype": "text/x-python",
   "name": "python",
   "nbconvert_exporter": "python",
   "pygments_lexer": "ipython3",
   "version": "3.5.5"
  }
 },
 "nbformat": 4,
 "nbformat_minor": 1
}
