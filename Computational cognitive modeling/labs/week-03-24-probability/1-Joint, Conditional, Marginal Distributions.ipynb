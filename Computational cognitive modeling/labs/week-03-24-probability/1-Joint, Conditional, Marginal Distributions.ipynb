{
 "cells": [
  {
   "cell_type": "markdown",
   "metadata": {},
   "source": [
    "original version: Jessica Hamrick and Tom Griffiths\n",
    "\n",
    "\n",
    "----"
   ]
  },
  {
   "cell_type": "markdown",
   "metadata": {},
   "source": [
    "# Joint, Conditional, Marginal Distributions"
   ]
  },
  {
   "cell_type": "code",
   "execution_count": null,
   "metadata": {},
   "outputs": [],
   "source": [
    "import numpy as np"
   ]
  },
  {
   "cell_type": "markdown",
   "metadata": {},
   "source": [
    "## Random Variables and Probability Distributions ($W$ and $P(W)$)\n",
    "\n",
    "A random variable is a **mapping** from a set of **values** to **probabilities**.\n",
    "\n",
    "Consider a random variable $W$, which assigns probabilities for different weather states.\n",
    "\n",
    "|weather|P(W=weather)|\n",
    "|:---:|:--------:|\n",
    "|sunny|0.7|\n",
    "|cloudy|0.2|\n",
    "|stormy|0.1|"
   ]
  },
  {
   "cell_type": "code",
   "execution_count": null,
   "metadata": {},
   "outputs": [],
   "source": [
    "# Returns the probability of a particular weather pattern\n",
    "def P_W(weather):\n",
    "    if weather == \"sunny\":\n",
    "        return 0.7\n",
    "    if weather == \"cloudy\":\n",
    "        return 0.2\n",
    "    if weather == \"stormy\":\n",
    "        return 0.1\n",
    "\n",
    "# Check our probabilities\n",
    "for weather in (\"sunny\", \"cloudy\", \"stormy\"):\n",
    "    print(weather, P_W(weather))"
   ]
  },
  {
   "cell_type": "markdown",
   "metadata": {},
   "source": [
    "## Joint Distributions ($P(W, T)$)\n",
    "\n",
    "A joint distribution maps values of **two or more** variables to probabilities.\n",
    "\n",
    "We'll add in another random variable, $T$ for whether there is traffic, and explore a joint distribution over $W$ and $T$.\n",
    "\n",
    "|weather|traffic|P(W=weather, T=traffic)|\n",
    "|:-----:|:--:|:------------------:|\n",
    "|sunny  |yes  |0.1|\n",
    "|cloudy |yes  |0.1|\n",
    "|stormy |yes  |0.1|\n",
    "|sunny  |no  |0.6|\n",
    "|cloudy |no  |0.1|\n",
    "|stormy |no  |0.0|"
   ]
  },
  {
   "cell_type": "code",
   "execution_count": null,
   "metadata": {},
   "outputs": [],
   "source": [
    "# Returns the probability of a combination of weather pattern and whether there is traffic\n",
    "def P_WT(weather, traffic):\n",
    "    states = {\n",
    "        (\"sunny\", \"yes\") : 0.1,\n",
    "        (\"cloudy\", \"yes\"): 0.1,\n",
    "        (\"stormy\", \"yes\"): 0.1,\n",
    "        (\"sunny\", \"no\")  : 0.6,\n",
    "        (\"cloudy\", \"no\") : 0.1,\n",
    "        (\"stormy\", \"no\") : 0.0,\n",
    "    }\n",
    "    return states[(weather, traffic)]\n",
    "\n",
    "# Check our probabilities\n",
    "for traffic in (\"yes\", \"no\"):\n",
    "    for weather in (\"sunny\", \"cloudy\", \"stormy\"):\n",
    "        print(weather, traffic, P_WT(weather, traffic))"
   ]
  },
  {
   "cell_type": "markdown",
   "metadata": {},
   "source": [
    "## Conditional Distributions ($P(T|W)$)\n",
    "\n",
    "What's the chance we see traffic if we know what the weather is? In probability, we can answer this with a **conditional distribution**: the distribution of the traffic **conditioned on**, or **given**, the weather.\n",
    "\n",
    "Starting from the product rule:\n",
    "$$P(W, T) = P(T|W)P(W)$$\n",
    "We can derive a formula for the conditional distribution:\n",
    "$$P(T|W) = \\frac{P(W,T)}{P(W)}$$"
   ]
  },
  {
   "cell_type": "code",
   "execution_count": null,
   "metadata": {},
   "outputs": [],
   "source": [
    "# Use the product rule to find the conditional distribution:\n",
    "def P_T_given_W(traffic, weather):\n",
    "    return P_WT(weather, traffic) / P_W(weather)\n",
    "\n",
    "# Check our probabilities\n",
    "for traffic in (\"yes\", \"no\"):\n",
    "    for weather in (\"sunny\", \"cloudy\", \"stormy\"):\n",
    "        print(weather, traffic, P_T_given_W(traffic, weather))"
   ]
  },
  {
   "cell_type": "markdown",
   "metadata": {},
   "source": [
    "So, we've derived the distribution $P(T|W)$:\n",
    "\n",
    "|weather|traffic|P(T=trafficlW=weather)|\n",
    "|:-----:|:--:|:------------------:|\n",
    "|sunny  |yes  |0.143|\n",
    "|cloudy |yes  |0.5|\n",
    "|stormy |yes  |1.0|\n",
    "|sunny  |no  |0.857|\n",
    "|cloudy |no  |0.5|\n",
    "|stormy |no  |0.0|\n",
    "\n",
    "So, for example, the chance that we see traffic when the weather is sunny is 14.3%.\n"
   ]
  },
  {
   "cell_type": "markdown",
   "metadata": {},
   "source": [
    "## Marginal Distributions ($P(T)$)\n",
    "\n",
    "Now, what if we just care about how likely traffic is on any day? This can be answered by starting with the joint distribution and deriving a marginal distribution.\n",
    "\n",
    "A marginal distribution can be obtained by **marginalizing**, or **summing out** a variable. This means to sum together **all possible assignments** of that variable:\n",
    "\n",
    "$$P(T) = \\sum_{weather}{P(\\textit{W=weather, T})}$$\n",
    "Or, equivalently:\n",
    "$$P(T) = P(\\textit{W=sunny, T}) + P(\\textit{W=cloudy, T}) + P(\\textit{W=stormy, T})$$"
   ]
  },
  {
   "cell_type": "code",
   "execution_count": null,
   "metadata": {},
   "outputs": [],
   "source": [
    "def P_T(traffic):\n",
    "    return sum(P_WT(weather, traffic) for weather in (\"sunny\", \"cloudy\", \"stormy\"))\n",
    "    # Or, equivalently:\n",
    "    # return P_WT(\"sunny\", traffic) + P_WT(\"cloudy\", traffic) + P_WT(\"stormy\", traffic)\n",
    "\n",
    "# Check our probabilities\n",
    "for traffic in (\"yes\", \"no\"):\n",
    "    print(traffic, P_T(traffic))"
   ]
  },
  {
   "cell_type": "markdown",
   "metadata": {},
   "source": [
    "This gives us our marginal distribution $P(T)$:\n",
    "\n",
    "|traffic|P(T=traffic)|\n",
    "|:-----:|:----------:|\n",
    "|yes|0.3|\n",
    "|no|0.7|"
   ]
  },
  {
   "cell_type": "markdown",
   "metadata": {},
   "source": [
    "## When adding and when multiplying probabilities?"
   ]
  },
  {
   "cell_type": "markdown",
   "metadata": {},
   "source": [
    "We add probabilities when we say it is this **or** that. The weather will be cloudy or stormy: $p(\\textit{W=cloudy}) + p(\\textit{W=stormy})$\n",
    "\n",
    "We multiply probabilities when we say it is this **and** that. The weather will be cloudy and there will be traffic: $p(\\textit{W=cloudy}) * p(\\textit{T=traffic})$"
   ]
  },
  {
   "cell_type": "code",
   "execution_count": null,
   "metadata": {},
   "outputs": [],
   "source": []
  }
 ],
 "metadata": {
  "kernelspec": {
   "display_name": "Python [Root]",
   "language": "python",
   "name": "Python [Root]"
  },
  "language_info": {
   "codemirror_mode": {
    "name": "ipython",
    "version": 3
   },
   "file_extension": ".py",
   "mimetype": "text/x-python",
   "name": "python",
   "nbconvert_exporter": "python",
   "pygments_lexer": "ipython3",
   "version": "3.5.5"
  }
 },
 "nbformat": 4,
 "nbformat_minor": 1
}
