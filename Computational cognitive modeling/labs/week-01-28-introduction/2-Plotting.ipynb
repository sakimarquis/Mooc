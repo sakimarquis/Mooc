{
 "cells": [
  {
   "cell_type": "markdown",
   "metadata": {},
   "source": [
    "## Manipulating and Plotting Data in the Notebook (part 2)"
   ]
  },
  {
   "cell_type": "markdown",
   "metadata": {},
   "source": [
    "organized by *Todd Gureckis, Brenden Lake, Alex Rich* in 2018, *Anselm Rothe* in 2019\n",
    "<br> updated by *Graham Flick* in 2020"
   ]
  },
  {
   "cell_type": "markdown",
   "metadata": {},
   "source": [
    "---"
   ]
  },
  {
   "cell_type": "markdown",
   "metadata": {},
   "source": [
    "<div class=\"alert alert-info\">\n",
    "This introduction to Jupyter Notebook is based on tutorials developed by <a href=\"http://www.jesshamrick.com\">Jessica Hamrick</a>.\n",
    "</div>"
   ]
  },
  {
   "cell_type": "markdown",
   "metadata": {},
   "source": [
    "One of the coolest things about the notebook is the ability to display data and plots inline. To take a working example, let's say we've run an experiment on psychological similarity, collecting similarity ratings from participants on color and kinship relations.\n",
    "\n",
    "(Note: data for this notebook has been adapted from Michael Lee's repository of similarity datasets: http://faculty.sites.uci.edu/mdlee/similarity-data/)"
   ]
  },
  {
   "cell_type": "markdown",
   "metadata": {},
   "source": [
    "---"
   ]
  },
  {
   "cell_type": "markdown",
   "metadata": {},
   "source": [
    "## Importing Libraries"
   ]
  },
  {
   "cell_type": "markdown",
   "metadata": {},
   "source": [
    "Before we get into loading and plotting data, we'll import the libraries we'll be working with. It is considered good practice to import all the libraries you need *first*, at the top of the notebook (or file), so that you can easily find what's been imported and what hasn't. Additionally, this makes it easier to find where certain functions may have come from."
   ]
  },
  {
   "cell_type": "code",
   "execution_count": 1,
   "metadata": {},
   "outputs": [],
   "source": [
    "# \"pd\" is the standard abbreviation for \"pandas\", \"plt\" is the standard\n",
    "# abbreviation for \"matplotlib\" (pyplot), and \"np\" is the standard abbreviation for \"numpy\"\n",
    "import pandas as pd               \n",
    "import numpy as np\n",
    "import matplotlib.pyplot as plt\n",
    "\n",
    "# some helper functions we'll use later\n",
    "from util import mds\n",
    "\n",
    "# this is a helper library the wraps around plotly (https://plot.ly)\n",
    "#import plotlywrapper as pw"
   ]
  },
  {
   "cell_type": "markdown",
   "metadata": {},
   "source": [
    "---"
   ]
  },
  {
   "cell_type": "markdown",
   "metadata": {},
   "source": [
    "## Loading Data"
   ]
  },
  {
   "cell_type": "markdown",
   "metadata": {},
   "source": [
    "The first thing we need to do is to actually load our data from somewhere. Using the [pandas library](http://pandas.pydata.org/), we can trivially load CSV files"
   ]
  },
  {
   "cell_type": "code",
   "execution_count": 2,
   "metadata": {},
   "outputs": [],
   "source": [
    "colors = pd.read_csv(\"data/color_similarities.csv\")"
   ]
  },
  {
   "cell_type": "markdown",
   "metadata": {},
   "source": [
    "When we read in the CSV file with pandas, it creates what is known as a `DataFrame` object. This dataframe contains tabular data with labeled rows and columns, similar to how you would use a spreadsheet. We can visualize what's actually in the dataframe by printing it out:"
   ]
  },
  {
   "cell_type": "code",
   "execution_count": 3,
   "metadata": {},
   "outputs": [
    {
     "data": {
      "text/html": [
       "<div>\n",
       "<style scoped>\n",
       "    .dataframe tbody tr th:only-of-type {\n",
       "        vertical-align: middle;\n",
       "    }\n",
       "\n",
       "    .dataframe tbody tr th {\n",
       "        vertical-align: top;\n",
       "    }\n",
       "\n",
       "    .dataframe thead th {\n",
       "        text-align: right;\n",
       "    }\n",
       "</style>\n",
       "<table border=\"1\" class=\"dataframe\">\n",
       "  <thead>\n",
       "    <tr style=\"text-align: right;\">\n",
       "      <th></th>\n",
       "      <th>wavelength1</th>\n",
       "      <th>wavelength2</th>\n",
       "      <th>rating</th>\n",
       "    </tr>\n",
       "  </thead>\n",
       "  <tbody>\n",
       "    <tr>\n",
       "      <th>0</th>\n",
       "      <td>434</td>\n",
       "      <td>434</td>\n",
       "      <td>1.000000</td>\n",
       "    </tr>\n",
       "    <tr>\n",
       "      <th>1</th>\n",
       "      <td>434</td>\n",
       "      <td>445</td>\n",
       "      <td>0.978166</td>\n",
       "    </tr>\n",
       "    <tr>\n",
       "      <th>2</th>\n",
       "      <td>434</td>\n",
       "      <td>465</td>\n",
       "      <td>0.874416</td>\n",
       "    </tr>\n",
       "    <tr>\n",
       "      <th>3</th>\n",
       "      <td>434</td>\n",
       "      <td>472</td>\n",
       "      <td>0.874416</td>\n",
       "    </tr>\n",
       "    <tr>\n",
       "      <th>4</th>\n",
       "      <td>434</td>\n",
       "      <td>490</td>\n",
       "      <td>0.751758</td>\n",
       "    </tr>\n",
       "  </tbody>\n",
       "</table>\n",
       "</div>"
      ],
      "text/plain": [
       "   wavelength1  wavelength2    rating\n",
       "0          434          434  1.000000\n",
       "1          434          445  0.978166\n",
       "2          434          465  0.874416\n",
       "3          434          472  0.874416\n",
       "4          434          490  0.751758"
      ]
     },
     "execution_count": 3,
     "metadata": {},
     "output_type": "execute_result"
    }
   ],
   "source": [
    "colors.head()"
   ]
  },
  {
   "cell_type": "markdown",
   "metadata": {},
   "source": [
    "We can see from this that there are three columns, with the first two corresponding to the pair of wavelengths that are being compared, and the third corresponding to the similarity rating (with 1 being the highest, and 0 being the lowest)."
   ]
  },
  {
   "cell_type": "markdown",
   "metadata": {},
   "source": [
    "The `.head()` method used abovce just shows the first few rows. If we wanted to display the whole dataframe, we could just put `colors` on its own line. However, note that pandas automatically truncates the output to avoid it getting too long:"
   ]
  },
  {
   "cell_type": "code",
   "execution_count": 4,
   "metadata": {},
   "outputs": [
    {
     "data": {
      "text/html": [
       "<div>\n",
       "<style scoped>\n",
       "    .dataframe tbody tr th:only-of-type {\n",
       "        vertical-align: middle;\n",
       "    }\n",
       "\n",
       "    .dataframe tbody tr th {\n",
       "        vertical-align: top;\n",
       "    }\n",
       "\n",
       "    .dataframe thead th {\n",
       "        text-align: right;\n",
       "    }\n",
       "</style>\n",
       "<table border=\"1\" class=\"dataframe\">\n",
       "  <thead>\n",
       "    <tr style=\"text-align: right;\">\n",
       "      <th></th>\n",
       "      <th>wavelength1</th>\n",
       "      <th>wavelength2</th>\n",
       "      <th>rating</th>\n",
       "    </tr>\n",
       "  </thead>\n",
       "  <tbody>\n",
       "    <tr>\n",
       "      <th>0</th>\n",
       "      <td>434</td>\n",
       "      <td>434</td>\n",
       "      <td>1.000000</td>\n",
       "    </tr>\n",
       "    <tr>\n",
       "      <th>1</th>\n",
       "      <td>434</td>\n",
       "      <td>445</td>\n",
       "      <td>0.978166</td>\n",
       "    </tr>\n",
       "    <tr>\n",
       "      <th>2</th>\n",
       "      <td>434</td>\n",
       "      <td>465</td>\n",
       "      <td>0.874416</td>\n",
       "    </tr>\n",
       "    <tr>\n",
       "      <th>3</th>\n",
       "      <td>434</td>\n",
       "      <td>472</td>\n",
       "      <td>0.874416</td>\n",
       "    </tr>\n",
       "    <tr>\n",
       "      <th>4</th>\n",
       "      <td>434</td>\n",
       "      <td>490</td>\n",
       "      <td>0.751758</td>\n",
       "    </tr>\n",
       "    <tr>\n",
       "      <th>...</th>\n",
       "      <td>...</td>\n",
       "      <td>...</td>\n",
       "      <td>...</td>\n",
       "    </tr>\n",
       "    <tr>\n",
       "      <th>191</th>\n",
       "      <td>674</td>\n",
       "      <td>600</td>\n",
       "      <td>0.815719</td>\n",
       "    </tr>\n",
       "    <tr>\n",
       "      <th>192</th>\n",
       "      <td>674</td>\n",
       "      <td>610</td>\n",
       "      <td>0.913454</td>\n",
       "    </tr>\n",
       "    <tr>\n",
       "      <th>193</th>\n",
       "      <td>674</td>\n",
       "      <td>628</td>\n",
       "      <td>0.944170</td>\n",
       "    </tr>\n",
       "    <tr>\n",
       "      <th>194</th>\n",
       "      <td>674</td>\n",
       "      <td>651</td>\n",
       "      <td>0.960271</td>\n",
       "    </tr>\n",
       "    <tr>\n",
       "      <th>195</th>\n",
       "      <td>674</td>\n",
       "      <td>674</td>\n",
       "      <td>1.000000</td>\n",
       "    </tr>\n",
       "  </tbody>\n",
       "</table>\n",
       "<p>196 rows × 3 columns</p>\n",
       "</div>"
      ],
      "text/plain": [
       "     wavelength1  wavelength2    rating\n",
       "0            434          434  1.000000\n",
       "1            434          445  0.978166\n",
       "2            434          465  0.874416\n",
       "3            434          472  0.874416\n",
       "4            434          490  0.751758\n",
       "..           ...          ...       ...\n",
       "191          674          600  0.815719\n",
       "192          674          610  0.913454\n",
       "193          674          628  0.944170\n",
       "194          674          651  0.960271\n",
       "195          674          674  1.000000\n",
       "\n",
       "[196 rows x 3 columns]"
      ]
     },
     "execution_count": 4,
     "metadata": {},
     "output_type": "execute_result"
    }
   ],
   "source": [
    "colors"
   ]
  },
  {
   "cell_type": "markdown",
   "metadata": {},
   "source": [
    "### Converting a DataFrame to an Array"
   ]
  },
  {
   "cell_type": "markdown",
   "metadata": {},
   "source": [
    "Dataframes are really easy to work with, and make data analysis much easier. However, for now we're just going to reshape the data a bit, and come back to the more advances use cases later.\n",
    "\n",
    "Currently, the data is effectively just a vector of numbers, but what would be more useful to have is a matrix where each entry corresponds to the similarity of a different pair of colors. Pandas makes this easy to change by using the `.pivot()` function. Here, the different keywords indicate which column should correspond to rows (`index`), which column should correspond to columns (`columns`), and which column should correspond to the data (`values`):"
   ]
  },
  {
   "cell_type": "code",
   "execution_count": 5,
   "metadata": {},
   "outputs": [
    {
     "data": {
      "text/html": [
       "<div>\n",
       "<style scoped>\n",
       "    .dataframe tbody tr th:only-of-type {\n",
       "        vertical-align: middle;\n",
       "    }\n",
       "\n",
       "    .dataframe tbody tr th {\n",
       "        vertical-align: top;\n",
       "    }\n",
       "\n",
       "    .dataframe thead th {\n",
       "        text-align: right;\n",
       "    }\n",
       "</style>\n",
       "<table border=\"1\" class=\"dataframe\">\n",
       "  <thead>\n",
       "    <tr style=\"text-align: right;\">\n",
       "      <th>wavelength2</th>\n",
       "      <th>434</th>\n",
       "      <th>445</th>\n",
       "      <th>465</th>\n",
       "      <th>472</th>\n",
       "      <th>490</th>\n",
       "      <th>504</th>\n",
       "      <th>537</th>\n",
       "      <th>555</th>\n",
       "      <th>584</th>\n",
       "      <th>600</th>\n",
       "      <th>610</th>\n",
       "      <th>628</th>\n",
       "      <th>651</th>\n",
       "      <th>674</th>\n",
       "    </tr>\n",
       "    <tr>\n",
       "      <th>wavelength1</th>\n",
       "      <th></th>\n",
       "      <th></th>\n",
       "      <th></th>\n",
       "      <th></th>\n",
       "      <th></th>\n",
       "      <th></th>\n",
       "      <th></th>\n",
       "      <th></th>\n",
       "      <th></th>\n",
       "      <th></th>\n",
       "      <th></th>\n",
       "      <th></th>\n",
       "      <th></th>\n",
       "      <th></th>\n",
       "    </tr>\n",
       "  </thead>\n",
       "  <tbody>\n",
       "    <tr>\n",
       "      <th>434</th>\n",
       "      <td>1.000000</td>\n",
       "      <td>0.978166</td>\n",
       "      <td>0.874416</td>\n",
       "      <td>0.874416</td>\n",
       "      <td>0.751758</td>\n",
       "      <td>0.592717</td>\n",
       "      <td>0.615033</td>\n",
       "      <td>0.534020</td>\n",
       "      <td>0.433677</td>\n",
       "      <td>0.615033</td>\n",
       "      <td>0.651414</td>\n",
       "      <td>0.693060</td>\n",
       "      <td>0.704648</td>\n",
       "      <td>0.734707</td>\n",
       "    </tr>\n",
       "    <tr>\n",
       "      <th>445</th>\n",
       "      <td>0.978166</td>\n",
       "      <td>1.000000</td>\n",
       "      <td>0.899657</td>\n",
       "      <td>0.881151</td>\n",
       "      <td>0.780808</td>\n",
       "      <td>0.651414</td>\n",
       "      <td>0.615033</td>\n",
       "      <td>0.615033</td>\n",
       "      <td>0.433677</td>\n",
       "      <td>0.534020</td>\n",
       "      <td>0.615033</td>\n",
       "      <td>0.680464</td>\n",
       "      <td>0.704648</td>\n",
       "      <td>0.715376</td>\n",
       "    </tr>\n",
       "    <tr>\n",
       "      <th>465</th>\n",
       "      <td>0.874416</td>\n",
       "      <td>0.899657</td>\n",
       "      <td>1.000000</td>\n",
       "      <td>0.969495</td>\n",
       "      <td>0.890699</td>\n",
       "      <td>0.743483</td>\n",
       "      <td>0.666667</td>\n",
       "      <td>0.634363</td>\n",
       "      <td>0.433677</td>\n",
       "      <td>0.333333</td>\n",
       "      <td>0.433677</td>\n",
       "      <td>0.333333</td>\n",
       "      <td>0.566323</td>\n",
       "      <td>0.492374</td>\n",
       "    </tr>\n",
       "    <tr>\n",
       "      <th>472</th>\n",
       "      <td>0.874416</td>\n",
       "      <td>0.881151</td>\n",
       "      <td>0.969495</td>\n",
       "      <td>1.000000</td>\n",
       "      <td>0.910798</td>\n",
       "      <td>0.799313</td>\n",
       "      <td>0.666667</td>\n",
       "      <td>0.651414</td>\n",
       "      <td>0.433677</td>\n",
       "      <td>0.333333</td>\n",
       "      <td>0.000000</td>\n",
       "      <td>0.333333</td>\n",
       "      <td>0.433677</td>\n",
       "      <td>0.534020</td>\n",
       "    </tr>\n",
       "    <tr>\n",
       "      <th>490</th>\n",
       "      <td>0.751758</td>\n",
       "      <td>0.780808</td>\n",
       "      <td>0.890699</td>\n",
       "      <td>0.910798</td>\n",
       "      <td>1.000000</td>\n",
       "      <td>0.928443</td>\n",
       "      <td>0.830454</td>\n",
       "      <td>0.804991</td>\n",
       "      <td>0.615033</td>\n",
       "      <td>0.433677</td>\n",
       "      <td>0.433677</td>\n",
       "      <td>0.333333</td>\n",
       "      <td>0.433677</td>\n",
       "      <td>0.000000</td>\n",
       "    </tr>\n",
       "    <tr>\n",
       "      <th>504</th>\n",
       "      <td>0.592717</td>\n",
       "      <td>0.651414</td>\n",
       "      <td>0.743483</td>\n",
       "      <td>0.799313</td>\n",
       "      <td>0.928443</td>\n",
       "      <td>1.000000</td>\n",
       "      <td>0.930797</td>\n",
       "      <td>0.884404</td>\n",
       "      <td>0.715376</td>\n",
       "      <td>0.634363</td>\n",
       "      <td>0.433677</td>\n",
       "      <td>0.433677</td>\n",
       "      <td>0.433677</td>\n",
       "      <td>0.333333</td>\n",
       "    </tr>\n",
       "    <tr>\n",
       "      <th>537</th>\n",
       "      <td>0.615033</td>\n",
       "      <td>0.615033</td>\n",
       "      <td>0.666667</td>\n",
       "      <td>0.666667</td>\n",
       "      <td>0.830454</td>\n",
       "      <td>0.930797</td>\n",
       "      <td>1.000000</td>\n",
       "      <td>0.954441</td>\n",
       "      <td>0.780808</td>\n",
       "      <td>0.715376</td>\n",
       "      <td>0.566323</td>\n",
       "      <td>0.433677</td>\n",
       "      <td>0.433677</td>\n",
       "      <td>0.000000</td>\n",
       "    </tr>\n",
       "    <tr>\n",
       "      <th>555</th>\n",
       "      <td>0.534020</td>\n",
       "      <td>0.615033</td>\n",
       "      <td>0.634363</td>\n",
       "      <td>0.651414</td>\n",
       "      <td>0.804991</td>\n",
       "      <td>0.884404</td>\n",
       "      <td>0.954441</td>\n",
       "      <td>1.000000</td>\n",
       "      <td>0.839505</td>\n",
       "      <td>0.759585</td>\n",
       "      <td>0.534020</td>\n",
       "      <td>0.492374</td>\n",
       "      <td>0.433677</td>\n",
       "      <td>0.433677</td>\n",
       "    </tr>\n",
       "    <tr>\n",
       "      <th>584</th>\n",
       "      <td>0.433677</td>\n",
       "      <td>0.433677</td>\n",
       "      <td>0.433677</td>\n",
       "      <td>0.433677</td>\n",
       "      <td>0.615033</td>\n",
       "      <td>0.715376</td>\n",
       "      <td>0.780808</td>\n",
       "      <td>0.839505</td>\n",
       "      <td>1.000000</td>\n",
       "      <td>0.921143</td>\n",
       "      <td>0.856067</td>\n",
       "      <td>0.810455</td>\n",
       "      <td>0.767010</td>\n",
       "      <td>0.787243</td>\n",
       "    </tr>\n",
       "    <tr>\n",
       "      <th>600</th>\n",
       "      <td>0.615033</td>\n",
       "      <td>0.534020</td>\n",
       "      <td>0.333333</td>\n",
       "      <td>0.333333</td>\n",
       "      <td>0.433677</td>\n",
       "      <td>0.634363</td>\n",
       "      <td>0.715376</td>\n",
       "      <td>0.759585</td>\n",
       "      <td>0.921143</td>\n",
       "      <td>1.000000</td>\n",
       "      <td>0.956411</td>\n",
       "      <td>0.899657</td>\n",
       "      <td>0.870928</td>\n",
       "      <td>0.815719</td>\n",
       "    </tr>\n",
       "    <tr>\n",
       "      <th>610</th>\n",
       "      <td>0.651414</td>\n",
       "      <td>0.615033</td>\n",
       "      <td>0.433677</td>\n",
       "      <td>0.000000</td>\n",
       "      <td>0.433677</td>\n",
       "      <td>0.433677</td>\n",
       "      <td>0.566323</td>\n",
       "      <td>0.534020</td>\n",
       "      <td>0.856067</td>\n",
       "      <td>0.956411</td>\n",
       "      <td>1.000000</td>\n",
       "      <td>0.960271</td>\n",
       "      <td>0.930797</td>\n",
       "      <td>0.913454</td>\n",
       "    </tr>\n",
       "    <tr>\n",
       "      <th>628</th>\n",
       "      <td>0.693060</td>\n",
       "      <td>0.680464</td>\n",
       "      <td>0.333333</td>\n",
       "      <td>0.333333</td>\n",
       "      <td>0.333333</td>\n",
       "      <td>0.433677</td>\n",
       "      <td>0.433677</td>\n",
       "      <td>0.492374</td>\n",
       "      <td>0.810455</td>\n",
       "      <td>0.899657</td>\n",
       "      <td>0.960271</td>\n",
       "      <td>1.000000</td>\n",
       "      <td>0.976473</td>\n",
       "      <td>0.944170</td>\n",
       "    </tr>\n",
       "    <tr>\n",
       "      <th>651</th>\n",
       "      <td>0.704648</td>\n",
       "      <td>0.704648</td>\n",
       "      <td>0.566323</td>\n",
       "      <td>0.433677</td>\n",
       "      <td>0.433677</td>\n",
       "      <td>0.433677</td>\n",
       "      <td>0.433677</td>\n",
       "      <td>0.433677</td>\n",
       "      <td>0.767010</td>\n",
       "      <td>0.870928</td>\n",
       "      <td>0.930797</td>\n",
       "      <td>0.976473</td>\n",
       "      <td>1.000000</td>\n",
       "      <td>0.960271</td>\n",
       "    </tr>\n",
       "    <tr>\n",
       "      <th>674</th>\n",
       "      <td>0.734707</td>\n",
       "      <td>0.715376</td>\n",
       "      <td>0.492374</td>\n",
       "      <td>0.534020</td>\n",
       "      <td>0.000000</td>\n",
       "      <td>0.333333</td>\n",
       "      <td>0.000000</td>\n",
       "      <td>0.433677</td>\n",
       "      <td>0.787243</td>\n",
       "      <td>0.815719</td>\n",
       "      <td>0.913454</td>\n",
       "      <td>0.944170</td>\n",
       "      <td>0.960271</td>\n",
       "      <td>1.000000</td>\n",
       "    </tr>\n",
       "  </tbody>\n",
       "</table>\n",
       "</div>"
      ],
      "text/plain": [
       "wavelength2       434       445       465       472       490       504  \\\n",
       "wavelength1                                                               \n",
       "434          1.000000  0.978166  0.874416  0.874416  0.751758  0.592717   \n",
       "445          0.978166  1.000000  0.899657  0.881151  0.780808  0.651414   \n",
       "465          0.874416  0.899657  1.000000  0.969495  0.890699  0.743483   \n",
       "472          0.874416  0.881151  0.969495  1.000000  0.910798  0.799313   \n",
       "490          0.751758  0.780808  0.890699  0.910798  1.000000  0.928443   \n",
       "504          0.592717  0.651414  0.743483  0.799313  0.928443  1.000000   \n",
       "537          0.615033  0.615033  0.666667  0.666667  0.830454  0.930797   \n",
       "555          0.534020  0.615033  0.634363  0.651414  0.804991  0.884404   \n",
       "584          0.433677  0.433677  0.433677  0.433677  0.615033  0.715376   \n",
       "600          0.615033  0.534020  0.333333  0.333333  0.433677  0.634363   \n",
       "610          0.651414  0.615033  0.433677  0.000000  0.433677  0.433677   \n",
       "628          0.693060  0.680464  0.333333  0.333333  0.333333  0.433677   \n",
       "651          0.704648  0.704648  0.566323  0.433677  0.433677  0.433677   \n",
       "674          0.734707  0.715376  0.492374  0.534020  0.000000  0.333333   \n",
       "\n",
       "wavelength2       537       555       584       600       610       628  \\\n",
       "wavelength1                                                               \n",
       "434          0.615033  0.534020  0.433677  0.615033  0.651414  0.693060   \n",
       "445          0.615033  0.615033  0.433677  0.534020  0.615033  0.680464   \n",
       "465          0.666667  0.634363  0.433677  0.333333  0.433677  0.333333   \n",
       "472          0.666667  0.651414  0.433677  0.333333  0.000000  0.333333   \n",
       "490          0.830454  0.804991  0.615033  0.433677  0.433677  0.333333   \n",
       "504          0.930797  0.884404  0.715376  0.634363  0.433677  0.433677   \n",
       "537          1.000000  0.954441  0.780808  0.715376  0.566323  0.433677   \n",
       "555          0.954441  1.000000  0.839505  0.759585  0.534020  0.492374   \n",
       "584          0.780808  0.839505  1.000000  0.921143  0.856067  0.810455   \n",
       "600          0.715376  0.759585  0.921143  1.000000  0.956411  0.899657   \n",
       "610          0.566323  0.534020  0.856067  0.956411  1.000000  0.960271   \n",
       "628          0.433677  0.492374  0.810455  0.899657  0.960271  1.000000   \n",
       "651          0.433677  0.433677  0.767010  0.870928  0.930797  0.976473   \n",
       "674          0.000000  0.433677  0.787243  0.815719  0.913454  0.944170   \n",
       "\n",
       "wavelength2       651       674  \n",
       "wavelength1                      \n",
       "434          0.704648  0.734707  \n",
       "445          0.704648  0.715376  \n",
       "465          0.566323  0.492374  \n",
       "472          0.433677  0.534020  \n",
       "490          0.433677  0.000000  \n",
       "504          0.433677  0.333333  \n",
       "537          0.433677  0.000000  \n",
       "555          0.433677  0.433677  \n",
       "584          0.767010  0.787243  \n",
       "600          0.870928  0.815719  \n",
       "610          0.930797  0.913454  \n",
       "628          0.976473  0.944170  \n",
       "651          1.000000  0.960271  \n",
       "674          0.960271  1.000000  "
      ]
     },
     "execution_count": 5,
     "metadata": {},
     "output_type": "execute_result"
    }
   ],
   "source": [
    "pivoted_colors = colors.pivot(index=\"wavelength1\", columns=\"wavelength2\", values=\"rating\")\n",
    "pivoted_colors"
   ]
  },
  {
   "cell_type": "markdown",
   "metadata": {},
   "source": [
    "---"
   ]
  },
  {
   "cell_type": "markdown",
   "metadata": {},
   "source": [
    "## Plotting in the Notebook"
   ]
  },
  {
   "cell_type": "markdown",
   "metadata": {},
   "source": [
    "We are now ready to create our first plot! Since our data is now in a $N\\times N$ array format, an easy first plot is the `matshow` plot type, which displays a heatmap of matrix values:"
   ]
  },
  {
   "cell_type": "code",
   "execution_count": 6,
   "metadata": {},
   "outputs": [
    {
     "data": {
      "text/plain": [
       "(14, 14)"
      ]
     },
     "execution_count": 6,
     "metadata": {},
     "output_type": "execute_result"
    },
    {
     "data": {
      "image/png": "[encoded data removed]",
      "text/plain": [
       "<Figure size 288x288 with 1 Axes>"
      ]
     },
     "metadata": {
      "needs_background": "light"
     },
     "output_type": "display_data"
    }
   ],
   "source": [
    "plt.matshow(pivoted_colors)\n",
    "np.shape(pivoted_colors)"
   ]
  },
  {
   "cell_type": "markdown",
   "metadata": {},
   "source": [
    "Note how the plot is displayed inline with the rest of the notebook. This is a really cool feature of the notebook, because it means you can always figure out how a plot was generated: simply look at the cell above it!"
   ]
  },
  {
   "cell_type": "markdown",
   "metadata": {},
   "source": [
    "However, this is not a very useful visual representation of similarity judgments. To get a better visualization, we can reduce the data down to two dimensions using the multidimensional scaling (MDS) technique, a classic computational modeling technique from Roger Shepard:\n",
    "\n",
    "* Shepard, R. N. (1980). Multidimensional Scaling, Tree-Fitting, and Clustering. *Science, 210*(4468), 390–398.\n",
    "\n",
    "I have provided for you here a function (which under the hood uses the [scikit-learn library](http://scikit-learn.org/)) which computes the MDS solution:"
   ]
  },
  {
   "cell_type": "code",
   "execution_count": 7,
   "metadata": {},
   "outputs": [
    {
     "data": {
      "text/html": [
       "<div>\n",
       "<style scoped>\n",
       "    .dataframe tbody tr th:only-of-type {\n",
       "        vertical-align: middle;\n",
       "    }\n",
       "\n",
       "    .dataframe tbody tr th {\n",
       "        vertical-align: top;\n",
       "    }\n",
       "\n",
       "    .dataframe thead th {\n",
       "        text-align: right;\n",
       "    }\n",
       "</style>\n",
       "<table border=\"1\" class=\"dataframe\">\n",
       "  <thead>\n",
       "    <tr style=\"text-align: right;\">\n",
       "      <th></th>\n",
       "      <th>label</th>\n",
       "      <th>x</th>\n",
       "      <th>y</th>\n",
       "    </tr>\n",
       "  </thead>\n",
       "  <tbody>\n",
       "    <tr>\n",
       "      <th>0</th>\n",
       "      <td>434</td>\n",
       "      <td>-0.428512</td>\n",
       "      <td>-0.174495</td>\n",
       "    </tr>\n",
       "    <tr>\n",
       "      <th>1</th>\n",
       "      <td>445</td>\n",
       "      <td>-0.406710</td>\n",
       "      <td>-0.209747</td>\n",
       "    </tr>\n",
       "    <tr>\n",
       "      <th>2</th>\n",
       "      <td>465</td>\n",
       "      <td>-0.260319</td>\n",
       "      <td>-0.425402</td>\n",
       "    </tr>\n",
       "    <tr>\n",
       "      <th>3</th>\n",
       "      <td>472</td>\n",
       "      <td>-0.200744</td>\n",
       "      <td>-0.471378</td>\n",
       "    </tr>\n",
       "    <tr>\n",
       "      <th>4</th>\n",
       "      <td>490</td>\n",
       "      <td>0.088991</td>\n",
       "      <td>-0.471238</td>\n",
       "    </tr>\n",
       "    <tr>\n",
       "      <th>5</th>\n",
       "      <td>504</td>\n",
       "      <td>0.265083</td>\n",
       "      <td>-0.375652</td>\n",
       "    </tr>\n",
       "    <tr>\n",
       "      <th>6</th>\n",
       "      <td>537</td>\n",
       "      <td>0.439988</td>\n",
       "      <td>-0.252703</td>\n",
       "    </tr>\n",
       "    <tr>\n",
       "      <th>7</th>\n",
       "      <td>555</td>\n",
       "      <td>0.510181</td>\n",
       "      <td>-0.140134</td>\n",
       "    </tr>\n",
       "    <tr>\n",
       "      <th>8</th>\n",
       "      <td>584</td>\n",
       "      <td>0.328258</td>\n",
       "      <td>0.291388</td>\n",
       "    </tr>\n",
       "    <tr>\n",
       "      <th>9</th>\n",
       "      <td>600</td>\n",
       "      <td>0.167199</td>\n",
       "      <td>0.417730</td>\n",
       "    </tr>\n",
       "    <tr>\n",
       "      <th>10</th>\n",
       "      <td>610</td>\n",
       "      <td>0.018261</td>\n",
       "      <td>0.491689</td>\n",
       "    </tr>\n",
       "    <tr>\n",
       "      <th>11</th>\n",
       "      <td>628</td>\n",
       "      <td>-0.101850</td>\n",
       "      <td>0.448275</td>\n",
       "    </tr>\n",
       "    <tr>\n",
       "      <th>12</th>\n",
       "      <td>651</td>\n",
       "      <td>-0.163974</td>\n",
       "      <td>0.395320</td>\n",
       "    </tr>\n",
       "    <tr>\n",
       "      <th>13</th>\n",
       "      <td>674</td>\n",
       "      <td>-0.264433</td>\n",
       "      <td>0.485990</td>\n",
       "    </tr>\n",
       "  </tbody>\n",
       "</table>\n",
       "</div>"
      ],
      "text/plain": [
       "    label         x         y\n",
       "0     434 -0.428512 -0.174495\n",
       "1     445 -0.406710 -0.209747\n",
       "2     465 -0.260319 -0.425402\n",
       "3     472 -0.200744 -0.471378\n",
       "4     490  0.088991 -0.471238\n",
       "5     504  0.265083 -0.375652\n",
       "6     537  0.439988 -0.252703\n",
       "7     555  0.510181 -0.140134\n",
       "8     584  0.328258  0.291388\n",
       "9     600  0.167199  0.417730\n",
       "10    610  0.018261  0.491689\n",
       "11    628 -0.101850  0.448275\n",
       "12    651 -0.163974  0.395320\n",
       "13    674 -0.264433  0.485990"
      ]
     },
     "execution_count": 7,
     "metadata": {},
     "output_type": "execute_result"
    }
   ],
   "source": [
    "mds_colors = mds(pivoted_colors)\n",
    "mds_colors"
   ]
  },
  {
   "cell_type": "markdown",
   "metadata": {},
   "source": [
    "If you want to see what the `mds` function is doing, remember that you can look at the source using double question marks:"
   ]
  },
  {
   "cell_type": "code",
   "execution_count": 8,
   "metadata": {},
   "outputs": [],
   "source": [
    "mds??"
   ]
  },
  {
   "cell_type": "markdown",
   "metadata": {},
   "source": [
    "We can now plot the MDS solution as a regular scatter plot:"
   ]
  },
  {
   "cell_type": "code",
   "execution_count": 9,
   "metadata": {},
   "outputs": [
    {
     "data": {
      "text/plain": [
       "Text(0, 0.5, 'y')"
      ]
     },
     "execution_count": 9,
     "metadata": {},
     "output_type": "execute_result"
    },
    {
     "data": {
      "image/png": "[encoded data removed]",
      "text/plain": [
       "<Figure size 432x288 with 1 Axes>"
      ]
     },
     "metadata": {
      "needs_background": "light"
     },
     "output_type": "display_data"
    }
   ],
   "source": [
    "p=plt.scatter(x=mds_colors[\"x\"], y=mds_colors[\"y\"])\n",
    "plt.xlim((-0.6,0.6))\n",
    "plt.ylim((-0.6,0.6))\n",
    "plt.title(\"MDS Representation of Similarities\")\n",
    "plt.xlabel(\"x\")\n",
    "plt.ylabel(\"y\")"
   ]
  },
  {
   "cell_type": "markdown",
   "metadata": {},
   "source": [
    "That's nice, but doesn't tell us a whole lot since we can't tell which point is which color. One option is to add text next to each point indicating the wavelength of the color, using the `plt.annotate` command:"
   ]
  },
  {
   "cell_type": "code",
   "execution_count": 10,
   "metadata": {},
   "outputs": [
    {
     "name": "stdout",
     "output_type": "stream",
     "text": [
      "[434. 445. 465. 472. 490. 504. 537. 555. 584. 600. 610. 628. 651. 674.]\n"
     ]
    },
    {
     "data": {
      "text/plain": [
       "Text(0, 0.5, 'y')"
      ]
     },
     "execution_count": 10,
     "metadata": {},
     "output_type": "execute_result"
    },
    {
     "data": {
      "image/png": "[encoded data removed]",
      "text/plain": [
       "<Figure size 432x288 with 1 Axes>"
      ]
     },
     "metadata": {
      "needs_background": "light"
     },
     "output_type": "display_data"
    }
   ],
   "source": [
    "labels = np.array([row[\"label\"] for _, row in mds_colors.iterrows()])\n",
    "print(labels)\n",
    "plt.scatter(x=mds_colors[\"x\"], y=mds_colors[\"y\"])\n",
    "for i, txt in enumerate(labels):\n",
    "    plt.annotate(txt, (mds_colors[\"x\"][i], mds_colors[\"y\"][i]))\n",
    "plt.xlim((-0.6,0.6))\n",
    "plt.ylim((-0.6,0.6))\n",
    "plt.title(\"MDS Representation of Similarities\")\n",
    "plt.xlabel(\"x\")\n",
    "plt.ylabel(\"y\")\n"
   ]
  },
  {
   "cell_type": "markdown",
   "metadata": {},
   "source": [
    "An even cooler option would be to actually color the points according to which color they represent. I have provided another dataset that converts the wavelengths to RGB values:"
   ]
  },
  {
   "cell_type": "code",
   "execution_count": 11,
   "metadata": {},
   "outputs": [
    {
     "data": {
      "text/html": [
       "<div>\n",
       "<style scoped>\n",
       "    .dataframe tbody tr th:only-of-type {\n",
       "        vertical-align: middle;\n",
       "    }\n",
       "\n",
       "    .dataframe tbody tr th {\n",
       "        vertical-align: top;\n",
       "    }\n",
       "\n",
       "    .dataframe thead th {\n",
       "        text-align: right;\n",
       "    }\n",
       "</style>\n",
       "<table border=\"1\" class=\"dataframe\">\n",
       "  <thead>\n",
       "    <tr style=\"text-align: right;\">\n",
       "      <th></th>\n",
       "      <th>R</th>\n",
       "      <th>G</th>\n",
       "      <th>B</th>\n",
       "      <th>A</th>\n",
       "    </tr>\n",
       "    <tr>\n",
       "      <th>wavelength</th>\n",
       "      <th></th>\n",
       "      <th></th>\n",
       "      <th></th>\n",
       "      <th></th>\n",
       "    </tr>\n",
       "  </thead>\n",
       "  <tbody>\n",
       "    <tr>\n",
       "      <th>434</th>\n",
       "      <td>0.065812</td>\n",
       "      <td>0.000000</td>\n",
       "      <td>1.000000</td>\n",
       "      <td>1.0</td>\n",
       "    </tr>\n",
       "    <tr>\n",
       "      <th>445</th>\n",
       "      <td>0.000000</td>\n",
       "      <td>0.275946</td>\n",
       "      <td>1.000000</td>\n",
       "      <td>1.0</td>\n",
       "    </tr>\n",
       "    <tr>\n",
       "      <th>465</th>\n",
       "      <td>0.000000</td>\n",
       "      <td>0.699752</td>\n",
       "      <td>1.000000</td>\n",
       "      <td>1.0</td>\n",
       "    </tr>\n",
       "    <tr>\n",
       "      <th>472</th>\n",
       "      <td>0.000000</td>\n",
       "      <td>0.819739</td>\n",
       "      <td>1.000000</td>\n",
       "      <td>1.0</td>\n",
       "    </tr>\n",
       "    <tr>\n",
       "      <th>490</th>\n",
       "      <td>0.000000</td>\n",
       "      <td>1.000000</td>\n",
       "      <td>0.619855</td>\n",
       "      <td>1.0</td>\n",
       "    </tr>\n",
       "    <tr>\n",
       "      <th>504</th>\n",
       "      <td>0.101291</td>\n",
       "      <td>1.000000</td>\n",
       "      <td>0.000000</td>\n",
       "      <td>1.0</td>\n",
       "    </tr>\n",
       "    <tr>\n",
       "      <th>537</th>\n",
       "      <td>0.639101</td>\n",
       "      <td>1.000000</td>\n",
       "      <td>0.000000</td>\n",
       "      <td>1.0</td>\n",
       "    </tr>\n",
       "    <tr>\n",
       "      <th>555</th>\n",
       "      <td>0.872174</td>\n",
       "      <td>1.000000</td>\n",
       "      <td>0.000000</td>\n",
       "      <td>1.0</td>\n",
       "    </tr>\n",
       "    <tr>\n",
       "      <th>584</th>\n",
       "      <td>1.000000</td>\n",
       "      <td>0.731866</td>\n",
       "      <td>0.000000</td>\n",
       "      <td>1.0</td>\n",
       "    </tr>\n",
       "    <tr>\n",
       "      <th>600</th>\n",
       "      <td>1.000000</td>\n",
       "      <td>0.495177</td>\n",
       "      <td>0.000000</td>\n",
       "      <td>1.0</td>\n",
       "    </tr>\n",
       "    <tr>\n",
       "      <th>610</th>\n",
       "      <td>1.000000</td>\n",
       "      <td>0.325811</td>\n",
       "      <td>0.000000</td>\n",
       "      <td>1.0</td>\n",
       "    </tr>\n",
       "    <tr>\n",
       "      <th>628</th>\n",
       "      <td>1.000000</td>\n",
       "      <td>0.000000</td>\n",
       "      <td>0.000000</td>\n",
       "      <td>1.0</td>\n",
       "    </tr>\n",
       "    <tr>\n",
       "      <th>651</th>\n",
       "      <td>1.000000</td>\n",
       "      <td>0.000000</td>\n",
       "      <td>0.000000</td>\n",
       "      <td>1.0</td>\n",
       "    </tr>\n",
       "    <tr>\n",
       "      <th>674</th>\n",
       "      <td>1.000000</td>\n",
       "      <td>0.000000</td>\n",
       "      <td>0.000000</td>\n",
       "      <td>1.0</td>\n",
       "    </tr>\n",
       "  </tbody>\n",
       "</table>\n",
       "</div>"
      ],
      "text/plain": [
       "                   R         G         B    A\n",
       "wavelength                                   \n",
       "434         0.065812  0.000000  1.000000  1.0\n",
       "445         0.000000  0.275946  1.000000  1.0\n",
       "465         0.000000  0.699752  1.000000  1.0\n",
       "472         0.000000  0.819739  1.000000  1.0\n",
       "490         0.000000  1.000000  0.619855  1.0\n",
       "504         0.101291  1.000000  0.000000  1.0\n",
       "537         0.639101  1.000000  0.000000  1.0\n",
       "555         0.872174  1.000000  0.000000  1.0\n",
       "584         1.000000  0.731866  0.000000  1.0\n",
       "600         1.000000  0.495177  0.000000  1.0\n",
       "610         1.000000  0.325811  0.000000  1.0\n",
       "628         1.000000  0.000000  0.000000  1.0\n",
       "651         1.000000  0.000000  0.000000  1.0\n",
       "674         1.000000  0.000000  0.000000  1.0"
      ]
     },
     "execution_count": 11,
     "metadata": {},
     "output_type": "execute_result"
    }
   ],
   "source": [
    "rgba = pd.read_csv(\"data/color_rgba.csv\", index_col=\"wavelength\")\n",
    "rgba"
   ]
  },
  {
   "cell_type": "code",
   "execution_count": 12,
   "metadata": {},
   "outputs": [
    {
     "data": {
      "text/plain": [
       "Text(0, 0.5, 'y')"
      ]
     },
     "execution_count": 12,
     "metadata": {},
     "output_type": "execute_result"
    },
    {
     "data": {
      "image/png": "[encoded data removed]",
      "text/plain": [
       "<Figure size 432x288 with 1 Axes>"
      ]
     },
     "metadata": {
      "needs_background": "light"
     },
     "output_type": "display_data"
    }
   ],
   "source": [
    "colormarkers = [tuple(x) for x in rgba.to_numpy()]\n",
    "for i in range(len(mds_colors)):\n",
    "    plt.scatter(mds_colors[\"x\"][i], mds_colors[\"y\"][i],  color=colormarkers[i])\n",
    "plt.xlim((-0.6,0.6))\n",
    "plt.ylim((-0.6,0.6))\n",
    "plt.title(\"MDS Representation of Similarities\")\n",
    "plt.xlabel(\"x\")\n",
    "plt.ylabel(\"y\")"
   ]
  },
  {
   "cell_type": "markdown",
   "metadata": {},
   "source": [
    "---"
   ]
  },
  {
   "cell_type": "markdown",
   "metadata": {},
   "source": [
    "## Exercise: Plotting Kinship Relations"
   ]
  },
  {
   "cell_type": "markdown",
   "metadata": {},
   "source": [
    "<div class=\"alert alert-success\">\n",
    "<h3> Problem 13</h3> \n",
    "I have also provided a dataset of similarities between kinship relations, located in `data/kinship_similarities.csv`. Try loading this file and creating a MDS plot similar to the one above, but for these kinship relations.\n",
    "</div>"
   ]
  },
  {
   "cell_type": "code",
   "execution_count": 14,
   "metadata": {},
   "outputs": [],
   "source": [
    "# Enter your code here"
   ]
  }
 ],
 "metadata": {
  "kernelspec": {
   "display_name": "Python 3",
   "language": "python",
   "name": "python3"
  },
  "language_info": {
   "codemirror_mode": {
    "name": "ipython",
    "version": 3
   },
   "file_extension": ".py",
   "mimetype": "text/x-python",
   "name": "python",
   "nbconvert_exporter": "python",
   "pygments_lexer": "ipython3",
   "version": "3.7.6"
  }
 },
 "nbformat": 4,
 "nbformat_minor": 2
}
