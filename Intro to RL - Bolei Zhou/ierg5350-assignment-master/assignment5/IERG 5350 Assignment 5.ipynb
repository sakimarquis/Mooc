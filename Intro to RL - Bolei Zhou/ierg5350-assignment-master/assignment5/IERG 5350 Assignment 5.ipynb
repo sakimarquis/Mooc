{
 "cells": [
  {
   "cell_type": "markdown",
   "metadata": {
    "id": "oN0nTnYIpvoi"
   },
   "source": [
    "# IERG 5350 Assignment 5: Reinforcement Learning Pipeline in Practice\n",
    "\n",
    "\n",
    "\n",
    "**Due: 11:59 pm, December 4 (Friday night), 2020**\n",
    "\n",
    "**We will hold a tournament of all submitted agents. Any overdue submission will lost the opportunity to join the tournament (and the credits with that).**\n",
    "\n",
    "| Student Name | Student ID |\n",
    "| :----: | :----: |\n",
    "| TYPE_YOUR_NAME_HERE | TYPE_YOUR_STUDENT_ID_HERE |\n",
    "\n",
    "\n",
    "-----\n",
    "\n",
    "*Note: You can handle everything by simply copy and run this colab notebook in your own google drive, or you can run everything locally. We don't specify the platform you use to train the agent.*\n",
    "\n",
    "------\n",
    "\n"
   ]
  },
  {
   "cell_type": "markdown",
   "metadata": {
    "id": "68HZRGIr_B7z"
   },
   "source": [
    "\n",
    "## Introduction\n",
    "\n",
    "Welcome to assignment 5 of our RL course! \n"
   ]
  },
  {
   "cell_type": "markdown",
   "metadata": {
    "id": "a2UlZMdKIsz-"
   },
   "source": [
    "\n",
    "### Key Features\n",
    "\n",
    "1. In this assignment, you will use arbitrary method (but we provide PPO implementation as baseline) to train RL agents in discrete and continuous environment.\n",
    "2. The assignment will build a formal and efficient RL pipeline.\n",
    "3. This assignment requires you to finish codes mainly in python files instead of in a jupyter notebook.\n",
    "4. This jupyter notebook is used to validate, train, visualize and summarize your implementation.\n",
    "5. We are going to hold a **tournament** that allow multiple agents to compete with each other within the same environment after collecting all your submissions! \n",
    "\n",
    "\n",
    "\n"
   ]
  },
  {
   "cell_type": "markdown",
   "metadata": {
    "id": "sSOhtGrsIezb"
   },
   "source": [
    "### What you need to do\n",
    "\n",
    "1. Go through this notebook to get familiar with the environments: `cPong-v0` and `cCarRacing-v0`.\n",
    "2. Implement the baseline PPO algorithm in the python files (in *the structure of the folder* section we point out the files you need to modified).\n",
    "3. Train the agent following the notebook and report the learning curves, in both environments.\n",
    "4. Open your mind and try arbitrary techniques to improve your agent in order to win the tournament!\n",
    "5. Prepare an agent for submission and run `tournament.py` **from notebook**, in order to present the local evaluation result of your agent."
   ]
  },
  {
   "cell_type": "markdown",
   "metadata": {
    "id": "jXDaUd_P_Hqj"
   },
   "source": [
    "\n",
    "\n",
    "### The sturecture of the notebook\n",
    "\n",
    "* Section 1: Setup the colab and jupyter notebook *(0/100 points)*\n",
    "  * Setup google drive, dependencies, and download the code if necessary.\n",
    "\n",
    "* Section 2: Get familiar with the environment *(10/100 points)*\n",
    "  * Section 2.1: Play with competitive Pong (`cPong`)\n",
    "  * Section 2.2: Play with competitive Car racing (`cCarRacing`)\n",
    "\n",
    "* Section 3: Train PPO in discrete action space *(25/100 points)*\n",
    "  * Validate and train PPO agent to solve the Pong game.\n",
    "  * Draw the learning curve of your agent.\n",
    "\n",
    "* Section 4: Train in cCarRacing *(25/100 points)*\n",
    "  * Train PPO agent to solve the Car Racing game.\n",
    "  * Draw the learning curve of your agent.\n",
    "  * Report the evaluation result!\n",
    "\n",
    "* Section 5: (optional) Train robust driver *(Up to 40/100 points)*\n",
    "  * Try arbitrary method to improve your agent and win the tournament!\n",
    "  * Please give a though description on your modification (so that we can easily find the counterpart in your code) and innovation and leave clean explaination about why you do that.  \n",
    "  * Extra credit will be assigned to interesting exploration, such as changing the network, tunning the parameters, or implementing other techniques such as self-play and so on.\n",
    "  * We don't consider the final performance when evaluating your innovation.\n"
   ]
  },
  {
   "cell_type": "markdown",
   "metadata": {
    "id": "72zAEHzM_HvJ"
   },
   "source": [
    "\n",
    "\n",
    "### The grading shceme\n",
    "\n",
    "1. 10 / 100: Get familiar with the environment. In `IERG 5350 Assignment 5.ipynb`.\n",
    "2. 25 / 100: PPO in discrete action space.\n",
    "3. 25 / 100: PPO in continuous action  space.\n",
    "4. 10 ~ 40 / 100: Grade according to the performance of your submitted agent. See below note.\n",
    "5. (Bonus) Up to 40 points: Your innovation and exploration in training the agent.\n",
    "6. (Bonus) 40 points: Top-5 students in tournament.\n",
    "\n",
    "\n",
    "Note:\n",
    "\n",
    "1. If (1) your agent can not be properly loaded by TA or (2) your submission is overdue, you will lose the opportunity to participate in the tournament. \n",
    "2. In the tournament, every successfully submission will receieve 10 points. Then we will assign grade to student according to the performance of your agent.\n",
    "\n"
   ]
  },
  {
   "cell_type": "markdown",
   "metadata": {
    "id": "AQjN-FP3_HyG"
   },
   "source": [
    "\n",
    "\n",
    "### The sturecture of the folder\n",
    "\n",
    "We implement the trainer class in `core/ppo_trainer.py`, and run it in `train.py`. There are some helper functions and classes in `core/`.\n",
    "\n",
    "Considering the heavy pressure on the assignment, we decide to reduce the worload to a minimal extent and leave enough space for those who wish to implement and explore some novel ideas.\n",
    "\n",
    "Therefore, the **minimal requirement** of this assignment is to take a look and fulfill the following code:\n",
    "\n",
    "1. `core/base_trainer.py` - Implement the `compute_action` function.\n",
    "2. `core/ppo_trainer.py` - Implement the `compute_loss` function.\n",
    "3. `core/buffer.py` - Implement the `compute_returns` function.\n",
    "4. `train.py` - Train scripts for A2C and PPO in CartPole-v0 and Pong\n",
    "5. `my_policy.py` - Implement `my_policy_SID` and change the function name. So that we can easily restore your agent in the tournament.\n",
    "6. `tournament.py` - The file used to (1) locally evaluate your agent, and (2) run tournament by TA. You need to run this file **within this notebook**!\n",
    "\n",
    "Apart from these must-have files, you can add arbitrary code and try arbitrary ideas, just leave traces and write down the discription in the end of this notebook.\n"
   ]
  },
  {
   "cell_type": "markdown",
   "metadata": {
    "id": "t0tB9KmH_H1A"
   },
   "source": [
    "\n",
    "### The rule of tournament\n",
    "\n",
    "1. We develop a program that will automatically load your policies from `my_policy.py` and launch tournament between the collected policies.\n",
    "2. We will run `tournament.py` directly after (1) copy your agent into `data/` and (2) merge the `my_policy.py` of all students.\n",
    "3. We will use the reported average reward of each agent against others in the generated `evaluation_result.md` as the criterion to rank your agents, following the policy:\n",
    "    * Top 5 agents: 80 points.\n",
    "    * Top 5 - 35 agents: Uniformly distributed between 40 to 10 points.\n",
    "    * Others: 10 points.\n",
    "4. Hint: An agent that not only learns driving but also masters attacking will achieve higher rank, since we do not introduce collision penalty."
   ]
  },
  {
   "cell_type": "markdown",
   "metadata": {
    "id": "CGX40K6L_H38"
   },
   "source": [
    "\n",
    "\n",
    "### Deliverable\n",
    "\n",
    "What you don't need to submit:\n",
    "\n",
    "1. **DO NOT** include notebook --- You only need to send the PDF to us so that we can see the **learning curve and your discriptions**.\n",
    "2. **DO NOT** include the useless checkpoints and logging files during the training of your agents. You only need to select the best one and submit it.\n",
    "\n",
    "What you need to submit:\n",
    "\n",
    "1. `data/xxxx/checkpoint-yyyy.pkl` - **Only one** checkpoint file with `log_dir=xxxx, suffix=yyyy`, wherein yyyy is a unique name. For example, you can submit the checkpoint file: `data/0330_ppo/checkpoint-zhenghao.pkl`.\n",
    "2. All python files in `assignment5/` and `assignment5/core/`.\n",
    "3. A PDF file generated from this notebook including the learning curves and your discription if any.\n",
    "\n",
    "\n"
   ]
  },
  {
   "cell_type": "markdown",
   "metadata": {
    "id": "xpGy3eTN_H7Q"
   },
   "source": [
    "\n",
    "### Submission Instruction\n",
    "\n",
    "Compress all files that **need to be submitted** in `assignment5` directory into a **zip** file, whose name follows the pattern: `\"2020fall-IERG5350-hw5-{name}-{id}.zip\".format(name=\"john\", id=\"123456\")` . For instance: `2020fall-IERG5350-hw5-john-123456.zip` \n",
    "\n",
    "Send the link to the **zip file** and the generate **PDF file of this notebook** to us as **two seperated files** via email: cuhkrlcourse@googlegroups.com with title in pattern `\"2020fall-IERG5350-hw5-{name}-{id}\".\n",
    "\n",
    "Please make sure the link to your zip file is accessiable!"
   ]
  },
  {
   "cell_type": "markdown",
   "metadata": {
    "id": "0-doR83Y_H-g"
   },
   "source": [
    "\n",
    "\n",
    "\n",
    "---\n",
    "\n",
    "## Closing Remarks\n",
    "\n",
    "\n",
    "In this assignment, we implement an RL pipeline that is almost the system used in research.\n",
    "\n",
    "This is the last assignment of this course. We appreciate you for joining this course and pay efforts to finish assignments. Hope this course can provide insights to you! \n",
    "\n",
    "Thanks!\n",
    "\n",
    "\n",
    "*2020-2021 Term 1, IERG 5350: Reinforcement Learning. Department of Information Engineering, The Chinese University of Hong Kong. Course Instructor: Professor ZHOU Bolei. Assignment author: PENG Zhenghao, SUN Hao, ZHAN Xiaohang.*\n",
    "\n",
    "---"
   ]
  },
  {
   "cell_type": "markdown",
   "metadata": {
    "id": "Izfzmhmp5ThH"
   },
   "source": [
    "# Section 1: Setup the colab notebook\n",
    "\n",
    "**If you are running the notebook locally, please (1) install dependencies by yourself, (2) make sure the working directory is `assignment5` and (3) skip the whole section.**\n",
    "\n",
    "To install dependencies locally:\n",
    "\n",
    "1. `pip install seaborn`\n",
    "2. `pip install torch torchvision`\n",
    "3. `pip install 'gym[box2d]'`\n",
    "4. `pip install git+https://github.com/cuhkrlcourse/competitive-rl.git`\n",
    "\n",
    "In this section, We first redirect the working directory to your google drive. So that your modification on the script will be kept in your google drive and will not be deleted even if colab runtime is closed.\n",
    "\n",
    "Then we install the dependencies that we will use in this assignment. If you are running locally, you should install those dependencies by yourself.\n",
    "We also download the source script from github to your google drive so you can modified everything in google drive. You can also choose to finish your code loaclly and run the training in colab.\n",
    "\n"
   ]
  },
  {
   "cell_type": "code",
   "execution_count": null,
   "metadata": {
    "id": "0Ja0sFTLlsIo"
   },
   "outputs": [],
   "source": [
    "#@title Section 1.1: Setup Google drive and install dependencies\n",
    "#@markdown Your work will be stored in a folder called `ierg5350` by default to prevent Colab instance timeouts from deleting your edits.\n",
    "\n",
    "#@markdown Please click the URL printed and copy and paste the authorization code to the slot.\n",
    "\n",
    "#@markdown Note: If you quit the runtime and lost the files, please run this cell again to set the previous folder `ierg5350` as the root folder for this notebook again.\n",
    "\n",
    "import os\n",
    "try:\n",
    "    \n",
    "    from google.colab import drive\n",
    "    drive.mount('/content/gdrive')\n",
    "\n",
    "    DRIVE_PATH = '/content/gdrive/My\\ Drive/ierg5350'\n",
    "    DRIVE_PYTHON_PATH = DRIVE_PATH.replace('\\\\', '')\n",
    "    if not os.path.exists(DRIVE_PYTHON_PATH):\n",
    "      %mkdir $DRIVE_PATH\n",
    "\n",
    "    ## the space in `My Drive` causes some issues,\n",
    "    ## make a symlink to avoid this\n",
    "    SYM_PATH = '/content/ierg5350'\n",
    "    if not os.path.exists(SYM_PATH):\n",
    "      !ln -s $DRIVE_PATH $SYM_PATH\n",
    "    \n",
    "    running_in_colab = True\n",
    "    \n",
    "except ModuleNotFoundError:\n",
    "    running_in_colab = False\n",
    "    print(\n",
    "        \"Please ignore the whole Section 1 if you are running locally. \"\n",
    "        \"You don't need to install google package. \"\n",
    "        \"You are running \"\n",
    "    )\n",
    "\n",
    "\n",
    "if running_in_colab:\n",
    "\n",
    "    # ===== Install dependencies =====\n",
    "    %cd $SYM_PATH\n",
    "    %pip install torch torchvision \n",
    "    %pip install 'gym[box2d]'\n",
    "    %pip install seaborn\n",
    "    !apt update \n",
    "    !apt install -y --no-install-recommends python-dev libsdl-image1.2-dev \\\n",
    "      libsdl-mixer1.2-dev libsdl-ttf2.0-dev libsdl1.2-dev libsmpeg-dev \\\n",
    "      python-numpy subversion libportmidi-dev ffmpeg libswscale-dev \\\n",
    "      libavformat-dev libavcodec-dev libfreetype6-dev > /dev/null 2>&1\n",
    "\n",
    "    # ===== Install our competitive RL environments =====\n",
    "    if not os.path.exists('competitive-rl'):\n",
    "      !git clone https://github.com/cuhkrlcourse/competitive-rl.git\n",
    "      %cd competitive-rl/\n",
    "    else:\n",
    "      %cd competitive-rl/\n",
    "      !git pull\n",
    "    %run setup.py develop --uninstall\n",
    "    %pip install -e .\n",
    "    import competitive_rl\n"
   ]
  },
  {
   "cell_type": "code",
   "execution_count": null,
   "metadata": {
    "id": "Lp2SkFdH_kgY"
   },
   "outputs": [],
   "source": [
    "#@title Section 1.3: Login github and download the code if necessary \n",
    "#@markdown You have three options to send your code to Colab\n",
    "\n",
    "#@markdown Please run one of the three options to setup the code and set the working directory to `assignment5`.\n",
    "\n",
    "\n",
    "# ===== Option 1: Manuly upload  =====\n",
    "# You can manully upload the finished code to \n",
    "# `My Drive/ierg5350/ierg5350-assignment/assignment5`.\n",
    "# Note that you still need to run this script and set the working directory to `assignment5`.\n",
    "\n",
    "# if running_in_colab:\n",
    "#     %cd $SYM_PATH\n",
    "#     %cd ierg5350-assignment/assignment5/\n",
    "\n",
    "\n",
    "# ===== Option 2: Git and clone the official repo =====\n",
    "# You can clone the official repo to your own google drive and then edit file in cloud.\n",
    "\n",
    "if running_in_colab:\n",
    "    %cd $SYM_PATH\n",
    "    if not os.path.exists('ierg5350-assignment'):\n",
    "      # Change the account name and the repo name if you wish to use your own private repo.\n",
    "      !git clone https://github.com/cuhkrlcourse/ierg5350-assignment.git\n",
    "    %cd ierg5350-assignment/assignment5/\n",
    "\n",
    "  \n",
    "# ===== Option 3: Git and clone your private repo =====\n",
    "# You can run this cell to login your Github account and clone your private repo to your google drive.\n",
    "\n",
    "# if running_in_colab:\n",
    "#     # Login your github account\n",
    "#     import os\n",
    "#     from getpass import getpass\n",
    "#     if not \"github_user\" in vars():\n",
    "#         github_user = getpass('GitHub user')\n",
    "#     if not \"github_pw\" in vars():\n",
    "#         github_pw = getpass('GitHub password')\n",
    "#     os.environ['GITHUB_AUTH'] = github_user + ':' + github_pw\n",
    "#     # Download the assignment codes\n",
    "#     %cd $SYM_PATH\n",
    "#     if not os.path.exists('ierg5350-assignment'):\n",
    "#       # Change the account name and the repo name if you wish to use your own private repo.\n",
    "#       !git clone \\\n",
    "#         https://$GITHUB_AUTH@github.com/pengzhenghao/ierg5350-solution.git \\\n",
    "#         ierg5350-assignment\n",
    "#       %cd ierg5350-assignment/\n",
    "#     else:\n",
    "#       %cd ierg5350-assignment/\n",
    "#       !git pull\n",
    "#     !git checkout hw5\n",
    "#     %cd assignment5/\n"
   ]
  },
  {
   "cell_type": "markdown",
   "metadata": {
    "id": "3zgCZM6GuHDN"
   },
   "source": [
    "# Section 2: Get familiar with the environment\n",
    "\n",
    "In this section, you need to know the following things:\n",
    "\n",
    "1. What does the `cPong-v0` environment look like and what are its data format?\n",
    "2. What does the `cCarRacing-v0` environment look like and what are its data format?\n"
   ]
  },
  {
   "cell_type": "code",
   "execution_count": null,
   "metadata": {
    "id": "gmWyMDUF4c7j",
    "scrolled": false
   },
   "outputs": [],
   "source": [
    "#@title Take a look of the Competitive Pong environment\n",
    "#@markdown Run this cell to take a look of `cPong-v0` environment.\n",
    "\n",
    "#@markdown If broken pipe error happen, please restart the colab runtime or notebook. If the \"core is not found\" error happen, please check the working directory (it should be `assignment5`).\n",
    "\n",
    "\n",
    "# Setup the environment if you run this cell first.\n",
    "try:\n",
    "    from google.colab import drive\n",
    "    running_in_colab = True\n",
    "    SYM_PATH = '/content/ierg5350'\n",
    "    %cd $SYM_PATH/ierg5350-assignment/assignment5\n",
    "except ModuleNotFoundError as e:\n",
    "    running_in_colab = False\n",
    "\n",
    "# Import packages, register the environment, setup path and so on\n",
    "import gym\n",
    "import matplotlib\n",
    "from core.notebook_utils import animate\n",
    "from competitive_rl import make_envs\n",
    "from competitive_rl import register_competitive_envs\n",
    "\n",
    "register_competitive_envs()\n",
    "\n",
    "# if running_in_colab:\n",
    "#     video_path = \"/content/video\"\n",
    "# else:\n",
    "#     import tempfile\n",
    "#     video_path = tempfile.mkdtemp()\n",
    "\n",
    "# Create the environment and generate video\n",
    "env = gym.make(\"cPong-v0\")\n",
    "obs = env.reset()\n",
    "frames = []\n",
    "for i in range(100):\n",
    "    frame = env.render(mode='rgb_array')\n",
    "    obs, rew, term, _ = env.step(env.action_space.sample())\n",
    "    frames.append(frame)\n",
    "    if term:\n",
    "        break\n",
    "env.close()\n",
    "\n",
    "processed_env = make_envs(\n",
    "    \"cPong-v0\",\n",
    "    num_envs=5,\n",
    "    asynchronous=False\n",
    ")\n",
    "batch_obs = [processed_env.reset()[0][0]]\n",
    "for i in range(100):\n",
    "    pro_obs, rew, term, _ = processed_env.step([processed_env.action_space.sample() for _ in range(5)])\n",
    "    batch_obs.append(pro_obs[0][0])\n",
    "processed_env.close()\n",
    "\n",
    "animate(frames)\n",
    "\n",
    "print(\"\\n===== Native cPong-v0 information =====\")\n",
    "print(\"The action space: \", env.action_space)\n",
    "print(\"The observation space: \", env.observation_space)\n",
    "print(\"The return observation shape: \", obs.shape)\n",
    "\n",
    "print(\"\\n===== Vectorized cPong-v0 information =====\")\n",
    "print(\"The action space: \", processed_env.action_space)\n",
    "print(\"The observation space: \", processed_env.observation_space)\n",
    "print(\"The return observation shape: \", pro_obs.shape)\n",
    "print(\"The observation after processed: \")\n",
    "\n",
    "animate(batch_obs)"
   ]
  },
  {
   "cell_type": "code",
   "execution_count": null,
   "metadata": {
    "id": "nhQJjY5nJjVK"
   },
   "outputs": [],
   "source": [
    "#@title Take a look of the Competitive Car Racing environment\n",
    "#@markdown Run this cell to take a look of `cCarRacing-v0` environment.\n",
    "\n",
    "# Setup the environment if you run this cell first.\n",
    "try:\n",
    "    from google.colab import drive\n",
    "    running_in_colab = True\n",
    "    SYM_PATH = '/content/ierg5350'\n",
    "    %cd $SYM_PATH/ierg5350-assignment/assignment5\n",
    "except ModuleNotFoundError as e:\n",
    "    running_in_colab = False\n",
    "  \n",
    "import gym\n",
    "import matplotlib\n",
    "from core.notebook_utils import animate\n",
    "from competitive_rl import make_envs\n",
    "from competitive_rl import register_competitive_envs\n",
    "\n",
    "\n",
    "# Create the environment and generate video\n",
    "env = gym.make(\"cCarRacing-v0\")\n",
    "obs = env.reset()\n",
    "frames = []\n",
    "for i in range(10):\n",
    "    frame = env.render(mode='rgb_array')\n",
    "    obs, rew, term, _ = env.step([0, 1, 0])  # <= The action represents (steering, acceleration, brake)\n",
    "    frames.append(frame)\n",
    "env.close()\n",
    "\n",
    "processed_env = make_envs(\n",
    "    \"cCarRacing-v0\",\n",
    "    num_envs=3,\n",
    "    asynchronous=False\n",
    ")\n",
    "batch_obs = [processed_env.reset()[0][0]]\n",
    "for i in range(100):\n",
    "    pro_obs, rew, term, _ = processed_env.step([[0, 1, 0] for _ in range(5)])\n",
    "    batch_obs.append(pro_obs[0][0])\n",
    "processed_env.close()\n",
    "\n",
    "animate(frames)\n",
    "\n",
    "print(\"\\n===== Native cCarRacing-v0 information =====\")\n",
    "print(\"The action space: \", env.action_space)\n",
    "print(\"The observation space: \", env.observation_space)\n",
    "print(\"The return observation shape: \", obs.shape)\n",
    "\n",
    "print(\"\\n===== Vectorized cCarRacing-v0 information =====\")\n",
    "print(\"The action space: \", processed_env.action_space)\n",
    "print(\"The observation space: \", processed_env.observation_space)\n",
    "print(\"The return observation shape: \", pro_obs.shape)\n",
    "print(\"The observation after processed: \")\n",
    "\n",
    "animate(batch_obs)"
   ]
  },
  {
   "cell_type": "markdown",
   "metadata": {
    "id": "OPd1uzs5yxTX"
   },
   "source": [
    "# Section 3: Train RL agent in discrete action space\n"
   ]
  },
  {
   "cell_type": "markdown",
   "metadata": {
    "id": "gVsB0yhMJjVM"
   },
   "source": [
    "\n",
    "### Section 3.1: Finish the base trainer\n",
    "\n",
    "You should finish `compute_action` in `core/base_trainer.py`. Run the next cell to make sure the code is working."
   ]
  },
  {
   "cell_type": "code",
   "execution_count": null,
   "metadata": {
    "id": "u6P5tXJfJjVM"
   },
   "outputs": [],
   "source": [
    "run core/base_trainer.py"
   ]
  },
  {
   "cell_type": "markdown",
   "metadata": {
    "id": "9LPUPKeGJjVO"
   },
   "source": [
    "\n",
    "### Section 3.2: Train agent in discrete environment\n",
    "\n",
    "You need to finish `core/ppo_trainer.py` and `core/buffer.py`.\n",
    "\n",
    "Here we use GAE [1] (Generalized Advantage Estimation) to estimate the advantage. This technique is implemented in `PPORolloutStorage.compute_returns` in `core/buffer.py`. Concretely, we estimate the advantage of current state $t$ via:\n",
    "\n",
    "$$\\delta_t = r_t + \\gamma V(s_t+1) - V(s_t)$$\n",
    "\n",
    "$$A^{GAE}_t = \\sum_{l=0}^{\\infty} (\\gamma \\lambda) ^ l \\delta_{t+l}$$\n",
    "\n",
    "wherein $V$ is the state value function, $\\lambda$ is a hyper-parameter defined in `core.ppo_trainer.ppo_config[\"gae_lambda\"]`.\n",
    "\n",
    "You can find that when $\\lambda = 0$, the GAE estimates advantage in a one-step TD manner. When $\\lambda = 1$, the GAE reduces to Monte Carlo Estimation of the state value. Therefore by varying the $\\lambda$, we can make the trade-off between the accuracy of the estimation (bias) and the variance of advantage.\n",
    "\n",
    "[1]: Schulman, John , et al. \"High-Dimensional Continuous Control Using Generalized Advantage Estimation.\" (2015)."
   ]
  },
  {
   "cell_type": "code",
   "execution_count": null,
   "metadata": {
    "id": "tQdJ4vIWMFMX"
   },
   "outputs": [],
   "source": [
    "#@title ##Train PPO agent to solve competitive Pong environment\n",
    "#@markdown If the following errors happen, try restart the notebook.\n",
    "\n",
    "#@markdown 1. \"Connection reset by peer\" \n",
    "#@markdown 2. \"Broken pipe\"\n",
    "#@markdown 3. \"module 'main' has no attribute 'spec'\"\n",
    "\n",
    "#@markdown and so on.\n",
    "\n",
    "\n",
    "# Setup the environment if you run this cell first.\n",
    "try:\n",
    "    from google.colab import drive\n",
    "    running_in_colab = True\n",
    "    SYM_PATH = '/content/ierg5350'\n",
    "    %cd $SYM_PATH/ierg5350-assignment/assignment5\n",
    "except ModuleNotFoundError as e:\n",
    "    running_in_colab = False\n",
    "\n",
    "%run train.py --algo PPO --env-id cPong-v0"
   ]
  },
  {
   "cell_type": "markdown",
   "metadata": {
    "id": "75rKCBJwM680"
   },
   "source": [
    "### Section 3.3: Visualize the learning curve"
   ]
  },
  {
   "cell_type": "code",
   "execution_count": null,
   "metadata": {
    "id": "P0p5uD9UJjVP",
    "outputId": "d765bace-4f91-464c-9d6c-a019a21d0124"
   },
   "outputs": [
    {
     "data": {
      "text/plain": [
       "Text(0.5, 0, 'Sampled Steps')"
      ]
     },
     "execution_count": 10,
     "metadata": {
      "tags": []
     },
     "output_type": "execute_result"
    },
    {
     "data": {
      "image/png": "[encoded data removed]",
      "text/plain": [
       "<Figure size 432x288 with 1 Axes>"
      ]
     },
     "metadata": {
      "needs_background": "light",
      "tags": []
     },
     "output_type": "display_data"
    }
   ],
   "source": [
    "#@markdown As an example, this block automatically load \"data/cPong-v0/PPO/11_08_17_23/process.pkl\"\n",
    "\n",
    "from core.utils import load_progress\n",
    "import seaborn as sns\n",
    "\n",
    "ppo_progress = load_progress(\"data/cPong-v0/PPO/11_08_17_23\")\n",
    "ax = sns.lineplot(\n",
    "    data=ppo_progress,\n",
    "    x=\"total_steps\",\n",
    "    y=\"training_episode_reward/episode_reward_mean\"\n",
    ")\n",
    "ax.set_title(\"PPO training result in cPong-v0\")\n",
    "ax.set_ylabel(\"Episode Reward Mean\")\n",
    "ax.set_xlabel(\"Sampled Steps\")\n",
    "\n",
    "# Note: The following figure is for reference used only, using algorithm implemented by TA."
   ]
  },
  {
   "cell_type": "markdown",
   "metadata": {
    "id": "uIA7vpCHMtzl"
   },
   "source": [
    "# Section 4: Train RL agent in continuous action space\n",
    "\n",
    "In this section, you need to train your own RL agent in continuous action space and report the learning curve.\n",
    "\n",
    "The existing log information is provided as reference only."
   ]
  },
  {
   "cell_type": "code",
   "execution_count": null,
   "metadata": {
    "id": "zTH5kHxqTmeG"
   },
   "outputs": [],
   "source": [
    "#@title ### Train PPO agent to solve competitive Pong environment\n",
    "#@markdown If the following errors happen, try restart the notebook.\n",
    "\n",
    "#@markdown 1. \"Connection reset by peer\" \n",
    "#@markdown 2. \"Broken pipe\"\n",
    "#@markdown 3. \"module 'main' has no attribute 'spec'\"\n",
    "\n",
    "#@markdown and so on.\n",
    "\n",
    "\n",
    "# Setup the environment if you run this cell first.\n",
    "try:\n",
    "    from google.colab import drive\n",
    "    running_in_colab = True\n",
    "    SYM_PATH = '/content/ierg5350'\n",
    "    %cd $SYM_PATH/ierg5350-assignment/assignment5\n",
    "except ModuleNotFoundError as e:\n",
    "    running_in_colab = False\n",
    "\n",
    "%run train.py --algo PPO --env-id cCarRacing-v0 \\\n",
    "    --num-envs 12 \\\n",
    "    --lr 1e-4 \\\n",
    "    --action-repeat 1 \\\n",
    "    --entropy 0.0"
   ]
  },
  {
   "cell_type": "code",
   "execution_count": null,
   "metadata": {
    "colab": {
     "base_uri": "https://localhost:8080/",
     "height": 312
    },
    "id": "CyvkPH_diuZM",
    "outputId": "2c84ed58-3104-48d7-bdcb-5b21bef78b4d"
   },
   "outputs": [
    {
     "data": {
      "text/plain": [
       "Text(0.5, 0, 'Sampled Steps')"
      ]
     },
     "execution_count": 4,
     "metadata": {
      "tags": []
     },
     "output_type": "execute_result"
    },
    {
     "data": {
      "image/png": "[encoded data removed]",
      "text/plain": [
       "<Figure size 432x288 with 1 Axes>"
      ]
     },
     "metadata": {
      "needs_background": "light",
      "tags": []
     },
     "output_type": "display_data"
    }
   ],
   "source": [
    "from core.utils import load_progress\n",
    "import seaborn as sns\n",
    "\n",
    "ppo_progress = load_progress(\"data/cCarRacing-v0/PPO/11-10_13-03\")\n",
    "ax = sns.lineplot(\n",
    "    data=ppo_progress,\n",
    "    x=\"total_steps\",\n",
    "    y=\"training_episode_reward/episode_reward_mean\"\n",
    ")\n",
    "ax.set_title(\"PPO training reward in cCarRacing-v0\")\n",
    "ax.set_ylabel(\"Entropy\")\n",
    "ax.set_xlabel(\"Sampled Steps\")\n",
    "\n",
    "# Note: The following figure is for reference used only, using algorithm implemented by TA."
   ]
  },
  {
   "cell_type": "code",
   "execution_count": null,
   "metadata": {
    "colab": {
     "base_uri": "https://localhost:8080/",
     "height": 312
    },
    "id": "dFhC1wt-sjic",
    "outputId": "0c02c37b-7c82-4a5b-e048-73dc9d977af1"
   },
   "outputs": [
    {
     "data": {
      "text/plain": [
       "Text(0.5, 0, 'Sampled Steps')"
      ]
     },
     "execution_count": 5,
     "metadata": {
      "tags": []
     },
     "output_type": "execute_result"
    },
    {
     "data": {
      "image/png": "[encoded data removed]",
      "text/plain": [
       "<Figure size 432x288 with 1 Axes>"
      ]
     },
     "metadata": {
      "needs_background": "light",
      "tags": []
     },
     "output_type": "display_data"
    }
   ],
   "source": [
    "from core.utils import load_progress\n",
    "import seaborn as sns\n",
    "\n",
    "ppo_progress = load_progress(\"data/cCarRacing-v0/PPO/11-10_13-03\")\n",
    "ax = sns.lineplot(\n",
    "    data=ppo_progress,\n",
    "    x=\"total_steps\",\n",
    "    y=\"learning_stats/entropy\"\n",
    ")\n",
    "ax.set_title(\"PPO training entropy in cCarRacing-v0\")\n",
    "ax.set_ylabel(\"Entropy\")\n",
    "ax.set_xlabel(\"Sampled Steps\")\n",
    "\n",
    "# Note: The following figure is for reference used only, using algorithm implemented by TA."
   ]
  },
  {
   "cell_type": "code",
   "execution_count": null,
   "metadata": {
    "id": "zPWV8pDwycjQ"
   },
   "outputs": [],
   "source": [
    "#@title Visualize the performance in single agent environment\n",
    "\n",
    "\n",
    "# Setup the environment if you run this cell first.\n",
    "try:\n",
    "    from google.colab import drive\n",
    "    running_in_colab = True\n",
    "    SYM_PATH = '/content/ierg5350'\n",
    "    %cd $SYM_PATH/ierg5350-assignment/assignment5\n",
    "except ModuleNotFoundError as e:\n",
    "    running_in_colab = False\n",
    "\n",
    "\n",
    "# Load the agent using PolicyAPI (easy to use interface to get policy)\n",
    "from competitive_rl import make_envs\n",
    "from load_agents import PolicyAPI\n",
    "from core.notebook_utils import gen_video\n",
    "\n",
    "num_envs = 1\n",
    "\n",
    "policy = PolicyAPI(\n",
    "    \"cCarRacing-v0\",  # In order to get the observation shape\n",
    "    num_envs=num_envs, \n",
    "    log_dir=\"data/cCarRacing-v0/PPO/11-10_13-03\",\n",
    "    suffix=\"iter850\"\n",
    ")\n",
    "comp_envs = make_envs(\"cCarRacing-v0\", num_envs=num_envs)\n",
    "comp_env = comp_envs.envs[0]\n",
    "\n",
    "\n",
    "# Now we generate video to see the performance.\n",
    "obs = comp_env.reset()\n",
    "frames = []\n",
    "for i in range(1000):\n",
    "    frame = comp_env.render(mode='rgb_array')\n",
    "    obs, rew, term, _ = comp_env.step(policy(obs))\n",
    "    frames.append(frame.copy())\n",
    "    if i % 100 == 0:\n",
    "        print(\"Current Step: \", i)\n",
    "    if term:\n",
    "        break\n",
    "\n",
    "gen_video(frames)\n",
    "comp_envs.close()\n",
    "del comp_envs\n",
    "del policy"
   ]
  },
  {
   "cell_type": "code",
   "execution_count": null,
   "metadata": {
    "id": "Gx6sHMw8yujy"
   },
   "outputs": [],
   "source": [
    "#@title Visualize the performance in multi-agent scenario\n",
    "\n",
    "\n",
    "# Setup the environment if you run this cell first.\n",
    "try:\n",
    "    from google.colab import drive\n",
    "    running_in_colab = True\n",
    "    SYM_PATH = '/content/ierg5350'\n",
    "    %cd $SYM_PATH/ierg5350-assignment/assignment5\n",
    "except ModuleNotFoundError as e:\n",
    "    running_in_colab = False\n",
    "\n",
    "# Import a helper environment (which wraps an existinig policy as the \n",
    "#   opponent and exposes the single-agent API to user).\n",
    "from load_agents import PolicyAPI\n",
    "from competitive_rl.car_racing.make_competitive_car_racing import make_competitive_car_racing\n",
    "from core.notebook_utils import gen_video\n",
    "\n",
    "num_envs = 1\n",
    "\n",
    "# Load the trained agent as the opponent agent\n",
    "policy = PolicyAPI(\n",
    "    \"cCarRacing-v0\",  # In order to get the observation shape\n",
    "    num_envs=num_envs, \n",
    "    log_dir=\"data/cCarRacing-v0/PPO/11-10_13-03/\",\n",
    "    suffix=\"iter850\"\n",
    ")\n",
    "comp_envs = make_competitive_car_racing(policy, num_envs=num_envs)\n",
    "comp_env = comp_envs.envs[0]\n",
    "\n",
    "\n",
    "# Now we generate video to see the self-play performance.\n",
    "# You can change the policy below to your own policy, so that you can see\n",
    "# the battel between TA's agent with yours.\n",
    "obs = comp_env.reset()\n",
    "frames = []\n",
    "for i in range(1000):\n",
    "    frame = comp_env.render(mode='rgb_array')\n",
    "    obs, rew, term, _ = comp_env.step(policy(obs))\n",
    "    frames.append(frame.copy())\n",
    "    if i % 100 == 0:\n",
    "        print(\"Current Step: \", i)\n",
    "    if term:\n",
    "        break\n",
    "\n",
    "gen_video(frames)\n",
    "comp_envs.close()\n",
    "del comp_envs\n",
    "del policy"
   ]
  },
  {
   "cell_type": "code",
   "execution_count": null,
   "metadata": {
    "colab": {
     "base_uri": "https://localhost:8080/"
    },
    "id": "Ow6Ct8-hN75t",
    "outputId": "4d2e7d2e-cbd2-4b97-e453-7bf384572102"
   },
   "outputs": [
    {
     "name": "stdout",
     "output_type": "stream",
     "text": [
      "/content/gdrive/My Drive/ierg5350/ierg5350-assignment/assignment5\n",
      "pygame 1.9.6\n",
      "Hello from the pygame community. https://www.pygame.org/contribute.html\n",
      "Register cPong-v0 and cPongDouble-v0 environments.\n",
      "Register cCarRacing-v0, cCarRacingDouble-v0 environments.\n",
      "Successfully load weights from /content/gdrive/My Drive/ierg5350/ierg5350-assignment/assignment5/data/alphacar/checkpoint-alphacar.pkl!\n",
      "Successfully load weights from /content/gdrive/My Drive/ierg5350/ierg5350-assignment/assignment5/data/alphacar/checkpoint-zhenghao.pkl!\n",
      "Successfully load weights from /content/gdrive/My Drive/ierg5350/ierg5350-assignment/assignment5/data/alphacar/checkpoint-zhenghao.pkl!\n",
      "Collected policies:  dict_keys(['alphacar', 'example', 'zhenghao'])\n",
      "Environment ready\n",
      "Start match between agent alphacar with dict_keys(['alphacar', 'example', 'zhenghao']).\n",
      "\n",
      "Start evaluating agent  alphacar\n",
      "Finish 10/20 episodes.\n",
      "Finish 20/20 episodes.\n",
      "Finished combating alphacar and alphacar. Cost 95.70236730575562s.\n",
      "===== alphacar VS alphacar result =====\n",
      "Agent 0: alphacar, Reward: 483.770\n",
      "Agent 1: alphacar, Reward: 548.772\n",
      "\n",
      "\n",
      "\n",
      "Finish 10/20 episodes.\n",
      "Finish 20/20 episodes.\n",
      "Finished combating alphacar and example. Cost 95.12106668949127s.\n",
      "===== alphacar VS example result =====\n",
      "Agent 0: alphacar, Reward: 470.779\n",
      "Agent 1: example, Reward: 421.964\n",
      "\n",
      "\n",
      "\n",
      "Finish 10/20 episodes.\n",
      "Finish 20/20 episodes.\n",
      "Finished combating alphacar and zhenghao. Cost 93.75093817710876s.\n",
      "===== alphacar VS zhenghao result =====\n",
      "Agent 0: alphacar, Reward: 435.421\n",
      "Agent 1: zhenghao, Reward: 433.444\n",
      "\n",
      "\n",
      "\n",
      "Start match between agent example with dict_keys(['example', 'zhenghao']).\n",
      "\n",
      "Start evaluating agent  example\n",
      "Finish 10/20 episodes.\n",
      "Finish 20/20 episodes.\n",
      "Finished combating example and example. Cost 88.57681846618652s.\n",
      "===== example VS example result =====\n",
      "Agent 0: example, Reward: 528.643\n",
      "Agent 1: example, Reward: 501.673\n",
      "\n",
      "\n",
      "\n",
      "Finish 10/20 episodes.\n",
      "Finish 20/20 episodes.\n",
      "Finished combating example and zhenghao. Cost 88.04816055297852s.\n",
      "===== example VS zhenghao result =====\n",
      "Agent 0: example, Reward: 607.644\n",
      "Agent 1: zhenghao, Reward: 588.525\n",
      "\n",
      "\n",
      "\n",
      "Start match between agent zhenghao with dict_keys(['zhenghao']).\n",
      "\n",
      "Start evaluating agent  zhenghao\n",
      "Finish 10/20 episodes.\n",
      "Finish 20/20 episodes.\n",
      "Finished combating zhenghao and zhenghao. Cost 86.09432673454285s.\n",
      "===== zhenghao VS zhenghao result =====\n",
      "Agent 0: zhenghao, Reward: 595.780\n",
      "Agent 1: zhenghao, Reward: 589.414\n",
      "\n",
      "\n",
      "\n",
      "===== Reward Matrix (row vs column) =====\n",
      "         alphacar  example zhenghao  average\n",
      "alphacar  548.772  470.779  435.421  484.991\n",
      "example   421.964  501.673  607.644  510.427\n",
      "zhenghao  433.444  588.525  589.414  537.128\n",
      "\n",
      "Evaluate result is saved at:\n",
      "evaluation_result.md\n",
      "evaluation_result.csv\n"
     ]
    }
   ],
   "source": [
    "#@title ### Report the evaluation result! (required)\n",
    "\n",
    "#@markdown You need to first finish the `my_policy.py` by writing the path to \n",
    "#@markdown the checkpoint as well as rename the function `my_policy_SID`.\n",
    "\n",
    "#@markdown Then you can run the following file without modification \n",
    "#@markdown **in this notebook** in order to present the performance of your \n",
    "#@markdown agent. \n",
    "\n",
    "\n",
    "# Setup the environment if you run this cell first.\n",
    "try:\n",
    "    from google.colab import drive\n",
    "    running_in_colab = True\n",
    "    SYM_PATH = '/content/ierg5350'\n",
    "    %cd $SYM_PATH/ierg5350-assignment/assignment5\n",
    "except ModuleNotFoundError as e:\n",
    "    running_in_colab = False\n",
    "\n",
    "%run tournament.py"
   ]
  },
  {
   "cell_type": "markdown",
   "metadata": {
    "id": "P6Vn8vhcNf4I"
   },
   "source": [
    "# Section 5: (Optional) train agent in competitive environment\n",
    "\n",
    "You have already finished the required tasks. From now on, you are free to do whatever you like to increase the performance of your agent in tournament. \n",
    "\n",
    "The following blocks only present some example scripts that might helpful for you. You don't need to run them.\n",
    "\n",
    "In the next block, you can write down any ideas that might improve the performance. The discription should be clear and leave enough information to guide us to the couterpart of your innovation in code."
   ]
  },
  {
   "cell_type": "markdown",
   "metadata": {
    "id": "UDLLN3aYP_2P"
   },
   "source": [
    "### Innovation\n",
    "\n",
    "None."
   ]
  },
  {
   "cell_type": "markdown",
   "metadata": {
    "id": "BofKe-lEQRhk"
   },
   "source": [
    "### Example scripts"
   ]
  },
  {
   "cell_type": "code",
   "execution_count": null,
   "metadata": {
    "id": "LTNskED7JjVe"
   },
   "outputs": [],
   "source": [
    "#@title ### (Not Required) Train PPO agent to compete with opponent\n",
    "#@markdown If the following errors happen, try restart the notebook.\n",
    "\n",
    "#@markdown 1. \"Connection reset by peer\" \n",
    "#@markdown 2. \"Broken pipe\"\n",
    "#@markdown 3. \"module 'main' has no attribute 'spec'\"\n",
    "\n",
    "#@markdown and so on.\n",
    "\n",
    "#@markdown This cell only provide the basic usage if you wish to **restore** an agent or **play with opponent**.\n",
    "\n",
    "\n",
    "# Setup the environment if you run this cell first.\n",
    "try:\n",
    "    from google.colab import drive\n",
    "    running_in_colab = True\n",
    "    SYM_PATH = '/content/ierg5350'\n",
    "    %cd $SYM_PATH/ierg5350-assignment/assignment5\n",
    "except ModuleNotFoundError as e:\n",
    "    running_in_colab = False\n",
    "\n",
    "# Due to Colab strict memory constraint, the parallel envs is set to 2.\n",
    "%run train.py --algo PPO --env-id cCarRacing-v0 \\\n",
    "    --num-envs 2 \\\n",
    "    --lr 1e-4 \\\n",
    "    --entropy 0.0 \\\n",
    "    --restore data/alphacar/checkpoint-zhenghao.pkl \\\n",
    "    --opponent data/alphacar/checkpoint-zhenghao.pkl"
   ]
  },
  {
   "cell_type": "code",
   "execution_count": null,
   "metadata": {
    "id": "iUWzeTe3mE3b"
   },
   "outputs": [],
   "source": [
    "#@title ### (Not Required) Visualize the performance in multi-agent scenario\n",
    "\n",
    "\n",
    "# Setup the environment if you run this cell first.\n",
    "try:\n",
    "    from google.colab import drive\n",
    "    running_in_colab = True\n",
    "    SYM_PATH = '/content/ierg5350'\n",
    "    %cd $SYM_PATH/ierg5350-assignment/assignment5\n",
    "except ModuleNotFoundError as e:\n",
    "    running_in_colab = False\n",
    "\n",
    "# Import a helper environment (which wraps an existinig policy as the \n",
    "#   opponent and exposes the single-agent API to user).\n",
    "from load_agents import PolicyAPI\n",
    "from competitive_rl.car_racing.make_competitive_car_racing import make_competitive_car_racing\n",
    "from core.notebook_utils import gen_video\n",
    "\n",
    "num_envs = 1\n",
    "\n",
    "# Load the trained agent as the opponent agent\n",
    "policy = PolicyAPI(\n",
    "    \"cCarRacing-v0\",  # In order to get the observation shape\n",
    "    num_envs=num_envs, \n",
    "    log_dir=\"data/alphacar/\",\n",
    "    suffix=\"zhenghao\"\n",
    ")\n",
    "comp_envs = make_competitive_car_racing(policy, num_envs=num_envs)\n",
    "comp_env = comp_envs.envs[0]\n",
    "\n",
    "my_policy = PolicyAPI(\n",
    "    \"cCarRacing-v0\",  # In order to get the observation shape\n",
    "    num_envs=num_envs, \n",
    "    log_dir=\"data/cCarRacingDouble-v0_PPO_11-11_09-10/\",\n",
    "    suffix=\"iter7000\"\n",
    ")\n",
    "\n",
    "comp_env.seed(1997)\n",
    "\n",
    "# Now we generate video to see the self-play performance.\n",
    "# You can change the policy below to your own policy, so that you can see\n",
    "# the battel between TA's agent with yours.\n",
    "obs = comp_env.reset()\n",
    "frames = []\n",
    "actions = []\n",
    "for i in range(1000):\n",
    "    frame = comp_env.render(mode='rgb_array')\n",
    "    act = my_policy(obs)\n",
    "    actions.append(act)\n",
    "    obs, rew, term, _ = comp_env.step(act)\n",
    "    frames.append(frame.copy())\n",
    "    if i % 100 == 0:\n",
    "        print(\"Current Step: \", i)\n",
    "    if term:\n",
    "        break\n",
    "\n",
    "gen_video(frames)\n",
    "comp_envs.close()\n",
    "del comp_envs\n",
    "del comp_env\n",
    "del policy"
   ]
  },
  {
   "cell_type": "code",
   "execution_count": null,
   "metadata": {
    "id": "1pOxu1Wbm5GM"
   },
   "outputs": [],
   "source": []
  }
 ],
 "metadata": {
  "accelerator": "GPU",
  "colab": {
   "collapsed_sections": [],
   "name": "IERG 5350 Assignment 5.ipynb",
   "provenance": [],
   "toc_visible": true
  },
  "kernelspec": {
   "display_name": "Python 3",
   "language": "python",
   "name": "python3"
  },
  "language_info": {
   "codemirror_mode": {
    "name": "ipython",
    "version": 3
   },
   "file_extension": ".py",
   "mimetype": "text/x-python",
   "name": "python",
   "nbconvert_exporter": "python",
   "pygments_lexer": "ipython3",
   "version": "3.7.8"
  }
 },
 "nbformat": 4,
 "nbformat_minor": 1
}