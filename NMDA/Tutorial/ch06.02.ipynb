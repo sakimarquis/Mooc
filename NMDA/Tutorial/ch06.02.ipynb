{
 "cells": [
  {
   "cell_type": "markdown",
   "metadata": {},
   "source": [
    "### 1.导入需要的库"
   ]
  },
  {
   "cell_type": "code",
   "execution_count": 55,
   "metadata": {},
   "outputs": [],
   "source": [
    "%matplotlib inline\n",
    "import matplotlib.pyplot as plt\n",
    "import numpy as np"
   ]
  },
  {
   "cell_type": "markdown",
   "metadata": {},
   "source": [
    "### 2.导入数据、检查数据"
   ]
  },
  {
   "cell_type": "code",
   "execution_count": 56,
   "metadata": {},
   "outputs": [
    {
     "name": "stdout",
     "output_type": "stream",
     "text": [
      "data shape: (569, 30); no. positive: 357; no. negative: 212\n"
     ]
    }
   ],
   "source": [
    "# 载入数据\n",
    "from sklearn.datasets import load_breast_cancer\n",
    "\n",
    "cancer = load_breast_cancer()\n",
    "X = cancer.data\n",
    "y = cancer.target\n",
    "print('data shape: {0}; no. positive: {1}; no. negative: {2}'.format(\n",
    "    X.shape, y[y==1].shape[0], y[y==0].shape[0]))\n",
    "#print(cancer.data[0])"
   ]
  },
  {
   "cell_type": "code",
   "execution_count": 57,
   "metadata": {
    "scrolled": false
   },
   "outputs": [
    {
     "data": {
      "text/plain": [
       "array(['mean radius', 'mean texture', 'mean perimeter', 'mean area',\n",
       "       'mean smoothness', 'mean compactness', 'mean concavity',\n",
       "       'mean concave points', 'mean symmetry', 'mean fractal dimension',\n",
       "       'radius error', 'texture error', 'perimeter error', 'area error',\n",
       "       'smoothness error', 'compactness error', 'concavity error',\n",
       "       'concave points error', 'symmetry error',\n",
       "       'fractal dimension error', 'worst radius', 'worst texture',\n",
       "       'worst perimeter', 'worst area', 'worst smoothness',\n",
       "       'worst compactness', 'worst concavity', 'worst concave points',\n",
       "       'worst symmetry', 'worst fractal dimension'], dtype='<U23')"
      ]
     },
     "execution_count": 57,
     "metadata": {},
     "output_type": "execute_result"
    }
   ],
   "source": [
    "cancer.feature_names"
   ]
  },
  {
   "cell_type": "markdown",
   "metadata": {},
   "source": [
    "### 3.数据分割、建立模型、模型学习及评估"
   ]
  },
  {
   "cell_type": "markdown",
   "metadata": {},
   "source": [
    "#### 1）数据分割"
   ]
  },
  {
   "cell_type": "code",
   "execution_count": 58,
   "metadata": {},
   "outputs": [],
   "source": [
    "from sklearn.model_selection import train_test_split\n",
    "\n",
    "X_train, X_test, y_train, y_test = train_test_split(X, y, test_size=0.2)"
   ]
  },
  {
   "cell_type": "markdown",
   "metadata": {},
   "source": [
    "#### 2）模型建立、学习、评估\n"
   ]
  },
  {
   "cell_type": "code",
   "execution_count": 59,
   "metadata": {
    "scrolled": true
   },
   "outputs": [
    {
     "name": "stdout",
     "output_type": "stream",
     "text": [
      "train score: 0.953846;\n",
      "test score: 0.938596\n"
     ]
    }
   ],
   "source": [
    "from sklearn.linear_model import LogisticRegression\n",
    "#模型建立\n",
    "model = LogisticRegression(solver='liblinear')\n",
    "#模型学习\n",
    "model.fit(X_train, y_train)\n",
    "#模型评估\n",
    "#score: classification accuracy\n",
    "train_score = model.score(X_train, y_train)\n",
    "test_score = model.score(X_test, y_test)\n",
    "print('train score: {train_score:.6f};\\ntest score: {test_score:.6f}'.format(\n",
    "    train_score=train_score, test_score=test_score))"
   ]
  },
  {
   "cell_type": "code",
   "execution_count": 60,
   "metadata": {},
   "outputs": [
    {
     "name": "stdout",
     "output_type": "stream",
     "text": [
      "match: 107/114\n"
     ]
    }
   ],
   "source": [
    "# 样本预测\n",
    "y_pred = model.predict(X_test)\n",
    "print('match: {0}/{1}'.format(np.sum(np.equal(y_pred,y_test)),y_test.shape[0]))"
   ]
  },
  {
   "cell_type": "code",
   "execution_count": 61,
   "metadata": {},
   "outputs": [
    {
     "name": "stdout",
     "output_type": "stream",
     "text": [
      "sample of predict probability: [1.0000000e+00 6.2357714e-11]\n",
      "[[0.21555604 0.78444396]\n",
      " [0.12798212 0.87201788]\n",
      " [0.24206101 0.75793899]\n",
      " [0.85928179 0.14071821]\n",
      " [0.89453238 0.10546762]\n",
      " [0.88634267 0.11365733]\n",
      " [0.13351111 0.86648889]\n",
      " [0.2591514  0.7408486 ]\n",
      " [0.15321785 0.84678215]\n",
      " [0.61808246 0.38191754]\n",
      " [0.55708255 0.44291745]\n",
      " [0.54609818 0.45390182]\n",
      " [0.14933095 0.85066905]\n",
      " [0.11227668 0.88772332]]\n"
     ]
    }
   ],
   "source": [
    "# 预测概率：找出低于概率90% 的样本个数\n",
    "y_pred_proba = model.predict_proba(X_test)\n",
    "print('sample of predict probability: {0}'.format(y_pred_proba[0]))\n",
    "print(y_pred_proba[(y_pred_proba[:,0]<0.9) & (y_pred_proba[:,1]<0.9)])"
   ]
  },
  {
   "cell_type": "markdown",
   "metadata": {},
   "source": [
    "#### 3）多项式特征"
   ]
  },
  {
   "cell_type": "code",
   "execution_count": 62,
   "metadata": {},
   "outputs": [
    {
     "name": "stdout",
     "output_type": "stream",
     "text": [
      "elaspe time: 0.410489;\n",
      "train_score: 1.000000;\n",
      "test_score: 0.973684\n"
     ]
    }
   ],
   "source": [
    "import time\n",
    "from sklearn.linear_model import LogisticRegression\n",
    "from sklearn.preprocessing import PolynomialFeatures\n",
    "from sklearn.pipeline import Pipeline\n",
    "\n",
    "# 增加多项式预处理，**\n",
    "def polynomial_model(degree=1, **kwarg):\n",
    "    polynomial_features = PolynomialFeatures(degree=degree,\n",
    "                                             include_bias=False)\n",
    "    logistic_regression = LogisticRegression(**kwarg,solver='liblinear',max_iter=200)\n",
    "    pipeline = Pipeline([(\"polynomial_features\", polynomial_features),\n",
    "                         (\"logistic_regression\", logistic_regression)])\n",
    "    return pipeline\n",
    "#模型建立，采用L1正则化处理\n",
    "model = polynomial_model(degree=2, penalty='l1')\n",
    "#模型训练\n",
    "start = time.time()\n",
    "model.fit(X_train, y_train)\n",
    "#模型评估，指标为准确率\n",
    "train_score = model.score(X_train, y_train)\n",
    "test_score = model.score(X_test, y_test)\n",
    "print('elaspe time: {0:.6f};\\ntrain_score: {1:0.6f};\\ntest_score: {2:.6f}'.format(\n",
    "    time.time()-start, train_score, test_score))"
   ]
  },
  {
   "cell_type": "code",
   "execution_count": 63,
   "metadata": {},
   "outputs": [
    {
     "name": "stdout",
     "output_type": "stream",
     "text": [
      "<class 'dict'>\n",
      "{'a': 5, 'b': 4}\n"
     ]
    }
   ],
   "source": [
    "#**kwargs\n",
    "def test_func(**kwargs):\n",
    "    print(type(kwargs))\n",
    "    print(kwargs)\n",
    "    \n",
    "test_func(a=5,b=4)"
   ]
  },
  {
   "cell_type": "code",
   "execution_count": 64,
   "metadata": {},
   "outputs": [
    {
     "name": "stdout",
     "output_type": "stream",
     "text": [
      "model parameters shape: (1, 495); count of non-zero element: 82\n"
     ]
    }
   ],
   "source": [
    "#单独查看分类模型\n",
    "logistic_regression = model.named_steps['logistic_regression']\n",
    "print('model parameters shape: {0}; count of non-zero element: {1}'.format(\n",
    "    logistic_regression.coef_.shape, \n",
    "    np.count_nonzero(logistic_regression.coef_)))"
   ]
  },
  {
   "cell_type": "markdown",
   "metadata": {},
   "source": [
    "#### 4）多项式次数及正则化方式的影响"
   ]
  },
  {
   "cell_type": "code",
   "execution_count": 65,
   "metadata": {},
   "outputs": [
    {
     "data": {
      "image/png": "[encoded data removed]",
      "text/plain": [
       "<Figure size 720x576 with 1 Axes>"
      ]
     },
     "metadata": {
      "needs_background": "light"
     },
     "output_type": "display_data"
    }
   ],
   "source": [
    "#from common.utils import plot_learning_curve\n",
    "from sklearn.model_selection import ShuffleSplit\n",
    "#数据分割\n",
    "cv=ShuffleSplit(n_splits=10,test_size=0.2,random_state=0)\n",
    "#多项式次数及正则化方式\n",
    "degrees=[1,2]\n",
    "penalty=['l1','l2']\n",
    "title='scores of degrees:{}, penalty:{}'.format(degrees,penalty)\n",
    "plt.figure(figsize=(10,8))\n",
    "#验证不同多项式次数、正则化方式组合的效果\n",
    "for i in range(len(degrees)):\n",
    "    for j in range(len(penalty)):\n",
    "        poly=polynomial_model(degree=degrees[i],penalty=penalty[j])\n",
    "        train_scores=[]\n",
    "        test_scores=[]\n",
    "        for train,test in cv.split(X):\n",
    "            poly.fit(X[train],y[train])\n",
    "            train_scores.append(poly.score(X[train],y[train]))\n",
    "            test_scores.append(poly.score(X[test],y[test]))\n",
    "        train_mean=np.mean(train_scores)\n",
    "        train_std=np.std(train_scores)\n",
    "        test_mean=np.mean(test_scores)\n",
    "        test_std=np.std(test_scores)\n",
    "        plt.bar([i*len(penalty)*2+2*j,i*len(penalty)*2+2*j+1],[train_mean,test_mean],width=0.8,yerr=[train_std,test_std],color=np.random.rand(1,3),label='d %d,p %s'%(degrees[i],penalty[j]))\n",
    "\n",
    "        #plt.bar([2*i+4*j,2*i+4*j+1],[train_mean,test_mean],width=0.8,yerr=[train_std,test_std],color=np.random.rand(1,3))\n",
    "plt.xticks(np.arange(len(degrees)*len(penalty)*2),['train','test']*(len(degrees)*len(penalty)))\n",
    "plt.legend()\n",
    "plt.title(title)\n",
    "plt.show()\n",
    "\n"
   ]
  },
  {
   "cell_type": "code",
   "execution_count": null,
   "metadata": {
    "collapsed": true
   },
   "outputs": [],
   "source": []
  }
 ],
 "metadata": {
  "kernelspec": {
   "display_name": "Python 3",
   "language": "python",
   "name": "python3"
  },
  "language_info": {
   "codemirror_mode": {
    "name": "ipython",
    "version": 3
   },
   "file_extension": ".py",
   "mimetype": "text/x-python",
   "name": "python",
   "nbconvert_exporter": "python",
   "pygments_lexer": "ipython3",
   "version": "3.7.3"
  }
 },
 "nbformat": 4,
 "nbformat_minor": 2
}
